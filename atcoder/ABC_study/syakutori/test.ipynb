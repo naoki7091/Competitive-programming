{
 "cells": [
  {
   "cell_type": "code",
   "execution_count": 29,
   "metadata": {},
   "outputs": [
    {
     "data": {
      "text/plain": [
       "36"
      ]
     },
     "execution_count": 29,
     "metadata": {},
     "output_type": "execute_result"
    }
   ],
   "source": [
    "n,k = map(int,input().split())\n",
    "\n",
    "a = list(map(int,input().split()))\n",
    "\n",
    "tmp_sum = 0\n",
    "\n",
    "right = 0\n",
    "\n",
    "ans = 0\n",
    "\n",
    "# 方針\n",
    "# まず行けるところまで行く(k以上になるポイント)\n",
    "# k以上になったタイミングで残りの要素数がansになるはず\n",
    "\n",
    "for left in range(n):\n",
    "    while right < n:\n",
    "        if tmp_sum >= k:\n",
    "            break\n",
    "        tmp_sum += a[right]\n",
    "        right += 1\n",
    "    if tmp_sum >= k:\n",
    "        ans += n - right + 1\n",
    "\n",
    "    tmp_sum -= a[left]\n",
    "    # print(ans)\n",
    "\n",
    "print(ans)\n"
   ]
  },
  {
   "cell_type": "code",
   "execution_count": 16,
   "metadata": {},
   "outputs": [
    {
     "data": {
      "text/plain": [
       "9"
      ]
     },
     "execution_count": 16,
     "metadata": {},
     "output_type": "execute_result"
    }
   ],
   "source": [
    "ans"
   ]
  },
  {
   "cell_type": "code",
   "execution_count": null,
   "metadata": {},
   "outputs": [],
   "source": [
    "n,k = map(int,input().split())\n",
    "\n",
    "a = list(map(int,input().split()))\n",
    "\n",
    "right = 0\n",
    "sum_a = 0\n",
    "ans = 0\n",
    "\n",
    "for left in range(n):\n",
    "    while sum_a < k and right < n:\n",
    "        sum_a += a[right]\n",
    "        right += 1\n",
    "    if sum_a >= k:\n",
    "        ans += (n - right + 1)\n",
    "    sum_a -= a[left]\n",
    "\n",
    "print(ans)"
   ]
  },
  {
   "cell_type": "code",
   "execution_count": 30,
   "metadata": {},
   "outputs": [],
   "source": [
    "x,y = map(int,input().split())\n",
    "\n",
    "city = list(map(int,input().split()))\n",
    "\n",
    "maps = []\n",
    "\n",
    "tmp = 0\n",
    "for i in range(x):\n",
    "    tmp += city[i]\n",
    "    maps.append(tmp)\n",
    "\n"
   ]
  },
  {
   "cell_type": "code",
   "execution_count": 125,
   "metadata": {},
   "outputs": [],
   "source": [
    "from typing import List\n",
    "\n",
    "def Two_Pointer_Technique(a: List[int], x_i: int) -> int:\n",
    "    right = 0\n",
    "    ans = 0\n",
    "    tmp_sum = 0\n",
    "    n = len(a)\n",
    "    \n",
    "    for left in range(n):\n",
    "        while right < n and tmp_sum + a[right] <= x_i: # 行けるところまで行く\n",
    "            tmp_sum += a[right]\n",
    "            right += 1\n",
    "        ans += (right - left) # 区間を足して\n",
    "        if right == left:\n",
    "            right += 1\n",
    "        else:\n",
    "            tmp_sum -= a[left]\n",
    "\n",
    "    return ans\n"
   ]
  },
  {
   "cell_type": "code",
   "execution_count": null,
   "metadata": {},
   "outputs": [],
   "source": [
    "1 ans + 1\n",
    "1,2 ans + 1\n",
    "1,2,3 ans + 1\n",
    "1,2,3,4に行こうとしていけない\n",
    "1,2,3\n",
    "2,3 ans + 1\n",
    "2,3,4に行こうとしていけない\n",
    "2,3\n",
    "3\n",
    "3,4に行こうとしていけない\n",
    "3,4\n",
    "4\n",
    "4,5に行こうとしていけない\n",
    "4,5\n",
    "5,6に行こうとしていけない"
   ]
  },
  {
   "cell_type": "code",
   "execution_count": 35,
   "metadata": {},
   "outputs": [
    {
     "name": "stdout",
     "output_type": "stream",
     "text": [
      "[1, 2, 3, 4, 5, 6] 6\n",
      "[1, 2, 3, 4, 5, 6] 9\n",
      "[1, 2, 3, 4, 5, 6] 12\n",
      "[1, 2, 3, 4, 5, 6] 21\n",
      "[1, 2, 3, 4, 5, 6] 15\n"
     ]
    }
   ],
   "source": [
    "from typing import List\n",
    "\n",
    "def Two_Pointer_Technique(a: List[int], x_i: int) -> int:\n",
    "    right = 0\n",
    "    ans = 0\n",
    "    tmp_sum = 0\n",
    "    n = len(a)\n",
    "    \n",
    "    for left in range(n):\n",
    "        while right < n and tmp_sum + a[right] <= x_i: # 行けるところまで行く\n",
    "            tmp_sum += a[right]\n",
    "            right += 1\n",
    "        ans += (right - left) # 区間を足して\n",
    "        if right == left:\n",
    "            right += 1\n",
    "        else:\n",
    "            tmp_sum -= a[left]\n",
    "\n",
    "    return ans\n",
    "\n",
    "n,q = map(int,input().split())\n",
    "\n",
    "a = list(map(int,input().split()))\n",
    "x = list(map(int,input().split()))\n",
    "\n",
    "for x_i in x:\n",
    "    print(Two_Pointer_Technique(a,x_i))\n",
    "\n"
   ]
  },
  {
   "cell_type": "code",
   "execution_count": 54,
   "metadata": {},
   "outputs": [
    {
     "data": {
      "text/plain": [
       "[1, 2, 3, 4, 5, 6]"
      ]
     },
     "execution_count": 54,
     "metadata": {},
     "output_type": "execute_result"
    }
   ],
   "source": []
  },
  {
   "cell_type": "code",
   "execution_count": 1,
   "metadata": {},
   "outputs": [],
   "source": [
    "n,q = map(int,input().split())\n",
    "\n",
    "numbers = list(map(int,input().split()))\n",
    "\n",
    "max_numbers = list(map(int,input().split()))\n"
   ]
  },
  {
   "cell_type": "code",
   "execution_count": 8,
   "metadata": {},
   "outputs": [
    {
     "data": {
      "text/plain": [
       "[1, 2, 3, 4, 5, 6]"
      ]
     },
     "execution_count": 8,
     "metadata": {},
     "output_type": "execute_result"
    }
   ],
   "source": []
  },
  {
   "cell_type": "code",
   "execution_count": 16,
   "metadata": {},
   "outputs": [
    {
     "name": "stdout",
     "output_type": "stream",
     "text": [
      "9\n",
      "12\n",
      "15\n",
      "21\n",
      "18\n"
     ]
    }
   ],
   "source": [
    "def solution(numbers , x):\n",
    "    right = 0\n",
    "    tmp_sum = 0\n",
    "    n = len(numbers)\n",
    "    ans = 0\n",
    "    for left in range(n):\n",
    "        while right < n and tmp_sum + numbers[right] <= x:\n",
    "            tmp_sum += numbers[right]\n",
    "            right += 1\n",
    "\n",
    "        ans += (right - left)\n",
    "        if right == left :\n",
    "            right += 1\n",
    "        else:\n",
    "            tmp_sum -= numbers[left]\n",
    "                \n",
    "    return ans\n",
    "\n",
    "\n",
    "for x in max_numbers:\n",
    "    print(solution(numbers , x))"
   ]
  },
  {
   "cell_type": "code",
   "execution_count": 17,
   "metadata": {},
   "outputs": [],
   "source": [
    "n,k = map(int,input().split())\n",
    "\n",
    "# s = [4,3,1,1,2,10,2]\n",
    "s = []\n",
    "\n",
    "for i in range(n):\n",
    "    tmp = int(input())\n",
    "    s.append(tmp)\n",
    "\n",
    "\n",
    "# 部分列の積がk以下になるような最大の配列を求めたい\n",
    "\n",
    "def solution(s,k):\n",
    "    right = 0\n",
    "    tmp_p = 1\n",
    "    ans = 0\n",
    "    for left in range(n):\n",
    "        while right < n and (right <= left or tmp_p * s[right] <= k):\n",
    "            tmp_p *= s[right]\n",
    "            right += 1\n",
    "        ans = max(ans,(right - left))\n",
    "\n",
    "        tmp_p//=s[left]\n",
    "    return ans\n",
    "\n",
    "if 0 in s:# O(n)\n",
    "    print(n)\n",
    "else:\n",
    "    print(solution(s,k))"
   ]
  },
  {
   "cell_type": "code",
   "execution_count": 18,
   "metadata": {},
   "outputs": [
    {
     "name": "stdout",
     "output_type": "stream",
     "text": [
      "4\n"
     ]
    }
   ],
   "source": [
    "# 部分列の積がk以下になるような最大の配列を求めたい\n",
    "\n",
    "def solution(s,k):\n",
    "    right = 0\n",
    "    tmp_p = 1\n",
    "    ans = 0\n",
    "    for left in range(n):\n",
    "        while right < n and tmp_p * s[right] <= k:\n",
    "            tmp_p *= s[right]\n",
    "            right += 1\n",
    "        ans = max(ans,(right - left))\n",
    "\n",
    "        if right == left:\n",
    "            right += 1\n",
    "        else:\n",
    "            tmp_p//=s[left]\n",
    "    return ans\n",
    "\n",
    "if 0 in s:# O(n)\n",
    "    print(n)\n",
    "else:\n",
    "    print(solution(s,k))"
   ]
  },
  {
   "cell_type": "code",
   "execution_count": 47,
   "metadata": {},
   "outputs": [],
   "source": [
    "n = int(input())\n",
    "\n",
    "a = list(map(int,input().split()))\n",
    "\n",
    "# a = [1 ,2 ,3 ,2 ,1]\n",
    "\n",
    "left = 0\n",
    "\n",
    "ans = 0\n",
    "for right in range(n):\n",
    "    while right <= n and a[right] < a[right + 1]:\n",
    "        right += 1\n",
    "    \n",
    "    ans += (right - left)\n",
    "\n",
    "    if right == left:\n",
    "        right += 1\n",
    "print(ans)"
   ]
  },
  {
   "cell_type": "code",
   "execution_count": 66,
   "metadata": {},
   "outputs": [
    {
     "name": "stdout",
     "output_type": "stream",
     "text": [
      "left = 0, right = 3, visible = [1, 2, 3], cumulative ans = 3\n",
      "left = 1, right = 3, visible = [2, 3], cumulative ans = 5\n",
      "left = 2, right = 3, visible = [3], cumulative ans = 6\n",
      "left = 3, right = 4, visible = [2], cumulative ans = 7\n",
      "left = 4, right = 5, visible = [1], cumulative ans = 8\n"
     ]
    }
   ],
   "source": [
    "right = 1\n",
    "ans = 0\n",
    "for left in range(n):\n",
    "    while right < n and (right <= left or a[right - 1] < a[right]):\n",
    "        right += 1\n",
    "    \n",
    "    ans += (right - left)\n",
    "\n",
    "    if right == left:\n",
    "        right += 1\n",
    "print(ans)"
   ]
  }
 ],
 "metadata": {
  "kernelspec": {
   "display_name": "Python 3",
   "language": "python",
   "name": "python3"
  },
  "language_info": {
   "codemirror_mode": {
    "name": "ipython",
    "version": 3
   },
   "file_extension": ".py",
   "mimetype": "text/x-python",
   "name": "python",
   "nbconvert_exporter": "python",
   "pygments_lexer": "ipython3",
   "version": "3.12.2"
  }
 },
 "nbformat": 4,
 "nbformat_minor": 2
}
