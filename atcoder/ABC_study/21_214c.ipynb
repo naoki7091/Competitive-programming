{
 "cells": [
  {
   "cell_type": "code",
   "execution_count": 1,
   "metadata": {},
   "outputs": [],
   "source": [
    "n = int(input())\n",
    "\n",
    "s = list(map(int,input().split()))\n",
    "t = list(map(int,input().split()))\n",
    "\n",
    "time = [10**20]*n\n",
    "\n",
    "for i in range(n):\n",
    "    next = (i + 1)%n\n",
    "    time[next] = min(t[next] , time[i] + s[i])\n",
    "\n",
    "for i in range(n):\n",
    "    next = (i + 1)%n\n",
    "    time[next] = min(time[next] , time[i] + s[i])\n",
    "\n",
    "for i in range(n):\n",
    "    print(time[i])"
   ]
  },
  {
   "cell_type": "code",
   "execution_count": 7,
   "metadata": {},
   "outputs": [
    {
     "name": "stdout",
     "output_type": "stream",
     "text": [
      "3\n",
      "7\n",
      "8\n"
     ]
    }
   ],
   "source": [
    "time = [10**20]*n\n",
    "\n",
    "for i in range(n):\n",
    "    next = (i + 1)%n\n",
    "    time[next] = min(t[next] , time[i] + s[i])\n",
    "\n",
    "for i in range(n):\n",
    "    next = (i + 1)%n\n",
    "    time[next] = min(time[next] , time[i] + s[i])\n",
    "\n",
    "for i in range(n):\n",
    "    print(time[i])"
   ]
  }
 ],
 "metadata": {
  "kernelspec": {
   "display_name": "Python 3",
   "language": "python",
   "name": "python3"
  },
  "language_info": {
   "codemirror_mode": {
    "name": "ipython",
    "version": 3
   },
   "file_extension": ".py",
   "mimetype": "text/x-python",
   "name": "python",
   "nbconvert_exporter": "python",
   "pygments_lexer": "ipython3",
   "version": "3.12.2"
  }
 },
 "nbformat": 4,
 "nbformat_minor": 2
}
