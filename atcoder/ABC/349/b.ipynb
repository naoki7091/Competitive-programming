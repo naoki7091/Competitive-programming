{
 "cells": [
  {
   "cell_type": "code",
   "execution_count": 1,
   "metadata": {},
   "outputs": [],
   "source": [
    "S = input()\n",
    "\n",
    "from collections import Counter\n",
    "\n",
    "def judge(s):\n",
    "    count = Counter(s)\n",
    "    syurui = Counter(count.values())\n",
    "\n",
    "    for v in syurui.values():\n",
    "        if v != 0 and v != 2:\n",
    "            return \"No\"\n",
    "\n",
    "    return \"Yes\"\n",
    "\n",
    "\n",
    "print(judge(S))"
   ]
  },
  {
   "cell_type": "markdown",
   "metadata": {},
   "source": [
    "# B問題回顧録\n",
    "* 本番ではcolectonを使用した。ツールとしてはチート並みに強いが、自分で実装することを目的とす\n",
    "---\n",
    "* 今回の問われているものは、dictの扱い方だと感じた。\n",
    "* sの文字列を入力として受け\n",
    "* sの文字列の中に、ある文字が何回登場するかを調べる\n",
    "* その後、登場回数をkeyとし登場回数:文字の種類の辞書を作る\n",
    "* 文字の種類が2文字か0かの2択で判断するため、最後にfor文を回す"
   ]
  },
  {
   "cell_type": "code",
   "execution_count": 18,
   "metadata": {},
   "outputs": [
    {
     "name": "stdout",
     "output_type": "stream",
     "text": [
      "2\n",
      "2\n",
      "2\n",
      "Yes\n"
     ]
    }
   ],
   "source": [
    "from collections import defaultdict\n",
    "\n",
    "\n",
    "S = input()\n",
    "\n",
    "\n",
    "\n",
    "def judge(s):\n",
    "\n",
    "\n",
    "    dict_s = defaultdict(int)\n",
    "    \n",
    "    \n",
    "    \n",
    "    for ch in s:\n",
    "        if not ch in dict_s.keys():\n",
    "            dict_s[ch] += 1\n",
    "        else:\n",
    "            dict_s[ch] += 1\n",
    "    \n",
    "    \n",
    "    dict_key_num = defaultdict(int)\n",
    "    \n",
    "    for num in dict_s.values():\n",
    "        if not  num in dict_key_num.keys():\n",
    "            dict_key_num[num] += 1\n",
    "        else:\n",
    "            dict_key_num[num] += 1\n",
    "    \n",
    "\n",
    "    for num_val in dict_key_num.values():\n",
    "        if num_val != 2 and num_val != 0:\n",
    "            return \"No\"\n",
    "    \n",
    "    return \"Yes\"\n",
    "\n",
    "\n",
    "print(judge(S))"
   ]
  },
  {
   "cell_type": "code",
   "execution_count": 23,
   "metadata": {},
   "outputs": [
    {
     "name": "stdout",
     "output_type": "stream",
     "text": [
      "dict_values([1, 5, 3, 2, 2, 1, 2, 1, 1, 1, 1])\n",
      "Counter({1: 6, 2: 3, 5: 1, 3: 1})\n"
     ]
    }
   ],
   "source": [
    "from collections import Counter\n",
    "\n",
    "example_str = str(\"banana_apple_rakuten\")\n",
    "\n",
    "how_to_use_counter  = Counter(example_str)\n",
    "# Counter({'a': 5,'n': 3,'_': 2,'p': 2,'e': 2,'b': 1,'l': 1,'r': 1,'k': 1,'u': 1,'t': 1})\n",
    "\n",
    "print(how_to_use_counter.values())\n",
    "# dict_values([1, 5, 3, 2, 2, 1, 2, 1, 1, 1, 1])\n",
    "\n",
    "how_to_use_counter = Counter(how_to_use_counter.values())\n",
    "\n",
    "print(how_to_use_counter)\n",
    "# Counter({1: 6, 2: 3, 5: 1, 3: 1})"
   ]
  }
 ],
 "metadata": {
  "kernelspec": {
   "display_name": "Python 3",
   "language": "python",
   "name": "python3"
  },
  "language_info": {
   "codemirror_mode": {
    "name": "ipython",
    "version": 3
   },
   "file_extension": ".py",
   "mimetype": "text/x-python",
   "name": "python",
   "nbconvert_exporter": "python",
   "pygments_lexer": "ipython3",
   "version": "3.12.2"
  }
 },
 "nbformat": 4,
 "nbformat_minor": 2
}
