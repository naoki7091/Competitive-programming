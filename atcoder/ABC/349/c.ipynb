{
 "cells": [
  {
   "cell_type": "code",
   "execution_count": 18,
   "metadata": {},
   "outputs": [
    {
     "name": "stdout",
     "output_type": "stream",
     "text": [
      "(0, 1024)\n"
     ]
    }
   ],
   "source": [
    "def is_airport_code(s, t):\n",
    "    n = len(s)\n",
    "    t_upper = t.upper()\n",
    "\n",
    "    count = 0\n",
    "    for i in range(n):\n",
    "        current_char = s[i].upper()\n",
    "        if current_char == t_upper[0] and pos[0] == -1:\n",
    "            pos[0] = i  \n",
    "        elif current_char == t_upper[1] and pos[0] != -1 and pos[1] == -1 and i > pos[0]:\n",
    "            pos[1] = i  \n",
    "        elif current_char == t_upper[2] and pos[1] != -1 and i > pos[1]:\n",
    "            pos[2] = i  \n",
    "\n",
    "    if pos[2] != -1:\n",
    "        return \"Yes\"  \n",
    "   \n",
    "    if t_upper[2] == 'X':\n",
    "        pos = [-1, -1]  \n",
    "        for i in range(n):\n",
    "            current_char = s[i].upper()\n",
    "            if current_char == t_upper[0] and pos[0] == -1:\n",
    "                pos[0] = i  # Found first char\n",
    "            elif current_char == t_upper[1] and pos[0] != -1 and i > pos[0]:\n",
    "                pos[1] = i  \n",
    "\n",
    "        if pos[1] != -1:\n",
    "            return \"Yes\"  # \n",
    "    return \"No\"\n",
    "\n",
    "\n",
    "S = input()\n",
    "T = input()\n",
    "\n",
    "print(is_airport_code(S, T))\n"
   ]
  },
  {
   "cell_type": "code",
   "execution_count": 12,
   "metadata": {},
   "outputs": [
    {
     "name": "stdout",
     "output_type": "stream",
     "text": [
      "Yes\n"
     ]
    }
   ],
   "source": [
    "S = input()\n",
    "T = input()\n",
    "def judge_air_port(s,t):\n",
    "\n",
    "    s_plus_x = s + \"x\" # 末尾にxを追加\n",
    "    s_plus_x = s_plus_x.upper() # 大文字に変更\n",
    "\n",
    "    # 一致する文字数のカウントをする\n",
    "    count = 0 \n",
    "    for ch_s_x in s_plus_x:\n",
    "        if ch_s_x == t[0] and count == 0:\n",
    "            count += 1\n",
    "        elif ch_s_x == t[1] and count == 1:\n",
    "            count += 1\n",
    "        elif ch_s_x == t[2] and count == 2:\n",
    "            count += 1 \n",
    "        \n",
    "        if count == len(t):\n",
    "            return \"Yes\"\n",
    "    \n",
    "    return \"No\"\n",
    "\n",
    "print(judge_air_port(S,T))"
   ]
  },
  {
   "cell_type": "code",
   "execution_count": 10,
   "metadata": {},
   "outputs": [
    {
     "name": "stdout",
     "output_type": "stream",
     "text": [
      "NARITAX\n",
      "Yes\n"
     ]
    }
   ],
   "source": [
    "def judge_air_port(s,t):\n",
    "\n",
    "    s_plus_x = s + \"x\" # 末尾にxを追加\n",
    "    s_plus_x = s_plus_x.upper() # 大文字に変更\n",
    "\n",
    "    # 一致する文字数のカウントをする\n",
    "    count = 0 \n",
    "    for ch_s_x in s_plus_x:\n",
    "        if ch_s_x in t:\n",
    "            count += 1\n",
    "        \n",
    "        if count == len(t):\n",
    "            return \"Yes\"\n",
    "    \n",
    "    return \"No\"\n",
    "\n",
    "print(judge_air_port(S,T))"
   ]
  }
 ],
 "metadata": {
  "kernelspec": {
   "display_name": "Python 3",
   "language": "python",
   "name": "python3"
  },
  "language_info": {
   "codemirror_mode": {
    "name": "ipython",
    "version": 3
   },
   "file_extension": ".py",
   "mimetype": "text/x-python",
   "name": "python",
   "nbconvert_exporter": "python",
   "pygments_lexer": "ipython3",
   "version": "3.12.2"
  }
 },
 "nbformat": 4,
 "nbformat_minor": 2
}
