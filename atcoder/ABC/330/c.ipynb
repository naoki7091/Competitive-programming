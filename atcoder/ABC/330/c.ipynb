{
 "cells": [
  {
   "cell_type": "code",
   "execution_count": 6,
   "metadata": {
    "metadata": {}
   },
   "outputs": [],
   "source": [
    "d = int(input())\n",
    "\n",
    "ans = 10**20\n",
    "\n",
    "\n",
    "d_sqrt = d**0.5\n",
    "\n",
    "x_max = int(d_sqrt) + 1\n",
    "\n",
    "for x in range(1,x_max + 1):\n",
    "    if x**2 == d:\n",
    "        print(0)\n",
    "        exit()\n",
    "    tmp = abs(x**2 - d)\n",
    "    y = int(tmp**0.5)\n",
    "    ans = min(ans,abs(x**2 + y**2 - d),abs(x**2 + (y + 1)**2 - d)) \n",
    "print(ans)"
   ]
  },
  {
   "cell_type": "code",
   "execution_count": 81,
   "metadata": {
    "metadata": {}
   },
   "outputs": [],
   "source": [
    "d = int(input())\n",
    "\n",
    "ans = 10**20\n",
    "for x in range(1,2*10**20):\n",
    "    y = d - x**2\n",
    "    if x**2 == d:\n",
    "        print(0)\n",
    "        exit()\n",
    "    elif y < 0:\n",
    "        break\n",
    "    y = int(y**(1/2))\n",
    "    # print(x,y)\n",
    "    ans = min(abs(x**2 + y**2 - d),ans,abs(x**2 + (y+1)**2 - d))\n",
    "\n",
    "print(ans)\n"
   ]
  },
  {
   "cell_type": "code",
   "execution_count": 114,
   "metadata": {
    "metadata": {}
   },
   "outputs": [
    {
     "data": {
      "text/plain": [
       "32"
      ]
     },
     "execution_count": 114,
     "metadata": {},
     "output_type": "execute_result"
    }
   ],
   "source": [
    "d = 264428617\n",
    "ans = 10**20\n",
    "for x in range(1,2*10**20):\n",
    "    y = d - x**2\n",
    "    if y < 0:\n",
    "        break\n",
    "    y = int(y**(1/2))\n",
    "    # print(x,y)\n",
    "    ans = min(abs(x**2 + y**2 - d),ans)\n",
    "\n",
    "ans"
   ]
  },
  {
   "cell_type": "code",
   "execution_count": 70,
   "metadata": {
    "metadata": {}
   },
   "outputs": [
    {
     "data": {
      "text/plain": [
       "998244353.0"
      ]
     },
     "execution_count": 70,
     "metadata": {},
     "output_type": "execute_result"
    }
   ],
   "source": [
    "d = 998244353\n",
    "\n",
    "\n",
    "x = d**(1/2)\n",
    "\n",
    "x**2"
   ]
  }
 ],
 "metadata": {
  "kernelspec": {
   "display_name": "Python 3",
   "language": "python",
   "name": "python3"
  },
  "language_info": {
   "codemirror_mode": {
    "name": "ipython",
    "version": 3
   },
   "file_extension": ".py",
   "mimetype": "text/x-python",
   "name": "python",
   "nbconvert_exporter": "python",
   "pygments_lexer": "ipython3",
   "version": "3.12.2"
  }
 },
 "nbformat": 4,
 "nbformat_minor": 2
}
