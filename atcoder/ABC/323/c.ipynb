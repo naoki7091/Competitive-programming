{
 "cells": [
  {
   "cell_type": "code",
   "execution_count": null,
   "metadata": {},
   "outputs": [],
   "source": [
    "n,m = map(int,input().split())\n",
    "\n",
    "a = list(map(int,input().split()))\n",
    "\n",
    "s = []\n",
    "\n",
    "for i in range(n):\n",
    "    tmp = list(input())\n",
    "    s.append(tmp)\n",
    "\n",
    "s_point = []\n",
    "\n",
    "rest_point = [[] for _ in range(n)]\n",
    "\n",
    "for i in range(n):\n",
    "    tmp_sum = 0\n",
    "    for j in range(m):\n",
    "        if s[i][j] == \"o\":\n",
    "            tmp_sum += a[j]\n",
    "        else:\n",
    "            rest_point[i].append(a[j])\n",
    "    tmp_sum += i + 1\n",
    "    s_point.append(tmp_sum)\n",
    "\n",
    "\n",
    "for i in range(n):\n",
    "    rest_point[i].sort(reverse=True)\n",
    "\n",
    "s_point_max = max(s_point)\n",
    "\n",
    "for i in range(len(s_point)):\n",
    "    if s_point[i] >= s_point_max:\n",
    "        print(0)\n",
    "    else:\n",
    "        need_point = s_point_max - s_point[i]\n",
    "        count = 0\n",
    "        j = 0\n",
    "        while need_point >= 0:\n",
    "            count += 1\n",
    "            need_point -= rest_point[i][j]\n",
    "            j += 1\n",
    "        print(count)"
   ]
  },
  {
   "cell_type": "code",
   "execution_count": 7,
   "metadata": {},
   "outputs": [
    {
     "data": {
      "text/plain": [
       "[[], [], [], [], [], [], []]"
      ]
     },
     "execution_count": 7,
     "metadata": {},
     "output_type": "execute_result"
    }
   ],
   "source": [
    "a = [[] for _ in range(7)]\n",
    "a"
   ]
  }
 ],
 "metadata": {
  "kernelspec": {
   "display_name": "Python 3",
   "language": "python",
   "name": "python3"
  },
  "language_info": {
   "codemirror_mode": {
    "name": "ipython",
    "version": 3
   },
   "file_extension": ".py",
   "mimetype": "text/x-python",
   "name": "python",
   "nbconvert_exporter": "python",
   "pygments_lexer": "ipython3",
   "version": "3.12.2"
  }
 },
 "nbformat": 4,
 "nbformat_minor": 2
}
