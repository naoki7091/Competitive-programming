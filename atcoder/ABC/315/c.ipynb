{
 "cells": [
  {
   "cell_type": "code",
   "execution_count": 2,
   "metadata": {},
   "outputs": [
    {
     "data": {
      "text/plain": [
       "defaultdict(list, {1: [4], 2: [10, 8], 3: [6]})"
      ]
     },
     "execution_count": 2,
     "metadata": {},
     "output_type": "execute_result"
    }
   ],
   "source": [
    "from collections import defaultdict\n",
    "\n",
    "N = int(input())\n",
    "\n",
    "ice_pair = defaultdict(list)\n",
    "for i in range(N):\n",
    "    f,s = map(int,input().split())\n",
    "    ice_pair[f].append(s)\n",
    "\n",
    "ice_pair"
   ]
  },
  {
   "cell_type": "code",
   "execution_count": 21,
   "metadata": {},
   "outputs": [
    {
     "name": "stdout",
     "output_type": "stream",
     "text": [
      "3\n"
     ]
    }
   ],
   "source": [
    "class Solution:\n",
    "    def Max_del(self, N : int , ice_pair : dict) -> int:\n",
    "        # 同じ味の和を出しておく\n",
    "        same_flavor_num = 0\n",
    "        for i in ice_pair.keys():\n",
    "            if not len(ice_pair[i]) < 2:\n",
    "                same_flavors = sorted(ice_pair[i])\n",
    "\n",
    "                same_flavor_num = max(same_flavor_num,(same_flavors[-1] + same_flavors[-2]//2))\n",
    "        \n",
    "        if len(ice_pair) > 1:\n",
    "            # 異なる味の和を出す\n",
    "            each_flavor_max = []\n",
    "            for i in ice_pair.keys():\n",
    "                each_flavor_max.append(max(ice_pair[i]))\n",
    "        \n",
    "            each_flavor_max.sort()\n",
    "\n",
    "\n",
    "            non_same_flavor_num = each_flavor_max[-1] + each_flavor_max[-2]\n",
    "\n",
    "            ans = max(same_flavor_num,non_same_flavor_num)\n",
    "\n",
    "            return ans\n",
    "        else:\n",
    "            return same_flavor_num\n",
    "\n",
    "from collections import defaultdict\n",
    "\n",
    "N = int(input())\n",
    "\n",
    "ice_pair = defaultdict(list)\n",
    "for i in range(N):\n",
    "    f,s = map(int,input().split())\n",
    "    ice_pair[f].append(s)\n",
    "\n",
    "solution = Solution()\n",
    "print(solution.Max_del(N,ice_pair))\n"
   ]
  },
  {
   "cell_type": "code",
   "execution_count": 1,
   "metadata": {},
   "outputs": [
    {
     "data": {
      "text/plain": [
       "[[1, 4], [2, 10], [2, 8], [3, 6]]"
      ]
     },
     "execution_count": 1,
     "metadata": {},
     "output_type": "execute_result"
    }
   ],
   "source": [
    "n = int(input())\n",
    "\n",
    "\n",
    "table = []\n",
    "\n",
    "for i in range(n):\n",
    "    f,s = map(int,input().split())\n",
    "    table.append([f,s])\n",
    "\n",
    "\n",
    "table.sort(reverse=True, key = lambda table: table[1])\n",
    "\n",
    "max_deli = table[0]\n",
    "next_deli = table[1]\n",
    "ans = 0\n",
    "\n",
    "if max_deli[0] == next_deli[0]:\n",
    "    ans = max_deli[1] + (next_deli[1])//2\n",
    "\n",
    "\n",
    "for table_ch in table:\n",
    "    if table_ch[0] != max_deli[0]:\n",
    "        tmp = table_ch[1] + max_deli[1]\n",
    "        ans = max(ans,tmp)\n",
    "        break\n",
    "\n",
    "print(ans)"
   ]
  },
  {
   "cell_type": "code",
   "execution_count": 7,
   "metadata": {},
   "outputs": [
    {
     "name": "stdout",
     "output_type": "stream",
     "text": [
      "[2, 10]\n",
      "[2, 8]\n",
      "[3, 6]\n"
     ]
    },
    {
     "data": {
      "text/plain": [
       "16"
      ]
     },
     "execution_count": 7,
     "metadata": {},
     "output_type": "execute_result"
    }
   ],
   "source": [
    "test = [[1, 4], [2, 10], [2, 8], [3, 6]]\n",
    "\n",
    "test.sort(reverse= True ,key=lambda test: test[1])\n",
    "\n",
    "tmp = test[0]\n",
    "ans = 0\n",
    "for t in test:\n",
    "    print(t)\n",
    "    if t[0] != tmp[0]:\n",
    "        ans = t[1] + tmp[1]\n",
    "        break\n",
    "ans"
   ]
  }
 ],
 "metadata": {
  "kernelspec": {
   "display_name": "Python 3",
   "language": "python",
   "name": "python3"
  },
  "language_info": {
   "codemirror_mode": {
    "name": "ipython",
    "version": 3
   },
   "file_extension": ".py",
   "mimetype": "text/x-python",
   "name": "python",
   "nbconvert_exporter": "python",
   "pygments_lexer": "ipython3",
   "version": "3.12.2"
  }
 },
 "nbformat": 4,
 "nbformat_minor": 2
}
