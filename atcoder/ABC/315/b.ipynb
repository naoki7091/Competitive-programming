{
 "cells": [
  {
   "cell_type": "code",
   "execution_count": 46,
   "metadata": {},
   "outputs": [
    {
     "name": "stdout",
     "output_type": "stream",
     "text": [
      "1\n",
      "1 1\n"
     ]
    }
   ],
   "source": [
    "class Solution:\n",
    "    def Output_midiam_minth(self, M, D):\n",
    "        dict_month_day = {}\n",
    "        for month in range(M):\n",
    "            dict_month_day[month+1] = D[month]\n",
    "\n",
    "        midiam_day = (sum(D)+1)//2\n",
    "        i = 1\n",
    "        while 1:\n",
    "            if dict_month_day[i] >= midiam_day:\n",
    "                res_month = i\n",
    "                res_day = midiam_day\n",
    "                break\n",
    "            else:\n",
    "                midiam_day -= dict_month_day[i]\n",
    "                i += 1\n",
    "        \n",
    "        print(res_month,res_day)\n",
    "\n",
    "M = int(input())\n",
    "D = list(map(int,input().split()))\n",
    "solution = Solution()\n",
    "solution.Output_midiam_minth(M,D)"
   ]
  },
  {
   "cell_type": "code",
   "execution_count": 32,
   "metadata": {},
   "outputs": [],
   "source": [
    "M = int(input())\n",
    "D = list(map(int,input().split()))\n"
   ]
  },
  {
   "cell_type": "code",
   "execution_count": 45,
   "metadata": {},
   "outputs": [
    {
     "name": "stdout",
     "output_type": "stream",
     "text": [
      "1\n",
      "1 1\n"
     ]
    }
   ],
   "source": [
    "solution = Solution()\n",
    "solution.Output_midiam_minth(M,D)"
   ]
  }
 ],
 "metadata": {
  "kernelspec": {
   "display_name": "Python 3",
   "language": "python",
   "name": "python3"
  },
  "language_info": {
   "codemirror_mode": {
    "name": "ipython",
    "version": 3
   },
   "file_extension": ".py",
   "mimetype": "text/x-python",
   "name": "python",
   "nbconvert_exporter": "python",
   "pygments_lexer": "ipython3",
   "version": "3.12.2"
  }
 },
 "nbformat": 4,
 "nbformat_minor": 2
}
