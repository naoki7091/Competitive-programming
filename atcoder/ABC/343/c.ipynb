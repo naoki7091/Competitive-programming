{
 "cells": [
  {
   "cell_type": "code",
   "execution_count": 81,
   "metadata": {},
   "outputs": [
    {
     "name": "stdout",
     "output_type": "stream",
     "text": [
      "8\n"
     ]
    }
   ],
   "source": [
    "n = int(input())\n",
    "# n = 10**18\n",
    "num = 1\n",
    "table = []\n",
    "while 1:\n",
    "    tmp = num**3\n",
    "    if tmp > n:\n",
    "        break\n",
    "    table.append(str(tmp))\n",
    "    num += 1\n",
    "\n",
    "len(table)\n",
    "\n",
    "flag = True\n",
    "ans = 0\n",
    "for i in range(len(table)):\n",
    "    # print(table[i])\n",
    "    for j in range(len(table[i])):\n",
    "        if table[i][j] == table[i][len(table[i]) - j - 1]:\n",
    "            continue\n",
    "        else:\n",
    "            flag = False\n",
    "            break\n",
    "\n",
    "    if flag:\n",
    "        # print(table[i])\n",
    "        ans = max(ans,int(table[i]))\n",
    "    \n",
    "    flag = True\n",
    "print(ans)"
   ]
  }
 ],
 "metadata": {
  "kernelspec": {
   "display_name": "Python 3",
   "language": "python",
   "name": "python3"
  },
  "language_info": {
   "codemirror_mode": {
    "name": "ipython",
    "version": 3
   },
   "file_extension": ".py",
   "mimetype": "text/x-python",
   "name": "python",
   "nbconvert_exporter": "python",
   "pygments_lexer": "ipython3",
   "version": "3.12.2"
  }
 },
 "nbformat": 4,
 "nbformat_minor": 2
}
