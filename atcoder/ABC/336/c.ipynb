{
 "cells": [
  {
   "cell_type": "code",
   "execution_count": 56,
   "metadata": {},
   "outputs": [
    {
     "name": "stdout",
     "output_type": "stream",
     "text": [
      "[1, 2]\n",
      "24\n"
     ]
    }
   ],
   "source": [
    "n = int(input())\n",
    "\n",
    "def to_5(n):\n",
    "    if n == 0:\n",
    "        return 0\n",
    "    \n",
    "    digits = []\n",
    "\n",
    "    while n:\n",
    "        digits.append(int(n % 5))\n",
    "        n = n//5\n",
    "    # print(digits[::-1])\n",
    "    return \"\".join(str(2*x) for x in digits[::-1])\n",
    "    \n",
    "\n",
    "print(to_5(7))"
   ]
  },
  {
   "cell_type": "code",
   "execution_count": 55,
   "metadata": {},
   "outputs": [
    {
     "name": "stdout",
     "output_type": "stream",
     "text": [
      "[1, 2]\n"
     ]
    },
    {
     "data": {
      "text/plain": [
       "'24'"
      ]
     },
     "execution_count": 55,
     "metadata": {},
     "output_type": "execute_result"
    }
   ],
   "source": [
    "def to_5(n):\n",
    "    if n == 0:\n",
    "        return 0\n",
    "    \n",
    "    digits = []\n",
    "\n",
    "    while n:\n",
    "        digits.append(int(n % 5))\n",
    "        n = n//5\n",
    "    print(digits[::-1])\n",
    "    return \"\".join(str(2*x) for x in digits[::-1])\n",
    "    \n",
    "\n",
    "to_5(7)"
   ]
  },
  {
   "cell_type": "code",
   "execution_count": 51,
   "metadata": {},
   "outputs": [
    {
     "name": "stdout",
     "output_type": "stream",
     "text": [
      "24\n"
     ]
    }
   ],
   "source": [
    "n = int(input()) - 1\n",
    "if n == 0:\n",
    "    print(0)\n",
    "    exit()\n",
    "ans = []\n",
    "while n:\n",
    "    ans.append(n % 5)\n",
    "    n //= 5\n",
    "print(\"\".join([str(2 * i) for i in ans[::-1]]))\n"
   ]
  }
 ],
 "metadata": {
  "kernelspec": {
   "display_name": "Python 3",
   "language": "python",
   "name": "python3"
  },
  "language_info": {
   "codemirror_mode": {
    "name": "ipython",
    "version": 3
   },
   "file_extension": ".py",
   "mimetype": "text/x-python",
   "name": "python",
   "nbconvert_exporter": "python",
   "pygments_lexer": "ipython3",
   "version": "3.12.2"
  }
 },
 "nbformat": 4,
 "nbformat_minor": 2
}
