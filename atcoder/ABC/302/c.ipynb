{
 "cells": [
  {
   "cell_type": "code",
   "execution_count": 16,
   "metadata": {},
   "outputs": [
    {
     "data": {
      "text/plain": [
       "[['a', 'b'], ['a', 'b']]"
      ]
     },
     "execution_count": 16,
     "metadata": {},
     "output_type": "execute_result"
    }
   ],
   "source": [
    "n , m = map(int,input().split())\n",
    "\n",
    "s = []\n",
    "\n",
    "for _ in range(n):\n",
    "    tmp = list(input())\n",
    "    s.append(tmp)\n",
    "\n",
    "s"
   ]
  },
  {
   "cell_type": "code",
   "execution_count": 18,
   "metadata": {},
   "outputs": [
    {
     "data": {
      "text/plain": [
       "'b'"
      ]
     },
     "execution_count": 18,
     "metadata": {},
     "output_type": "execute_result"
    }
   ],
   "source": [
    "s[0][1]"
   ]
  },
  {
   "cell_type": "code",
   "execution_count": 10,
   "metadata": {},
   "outputs": [
    {
     "data": {
      "text/plain": [
       "(0, 1, 2, 3)"
      ]
     },
     "execution_count": 10,
     "metadata": {},
     "output_type": "execute_result"
    }
   ],
   "source": [
    "from itertools import permutations\n",
    "\n",
    "n , m = map(int,input().split())\n",
    "\n",
    "s = []\n",
    "\n",
    "for _ in range(n):\n",
    "    tmp = list(input())\n",
    "    s.append(tmp)\n",
    "\n",
    "perms = list(permutations(range(n)))\n",
    "\n",
    "index = 0\n",
    "\n",
    "matigai = True\n",
    "\n",
    "\n",
    "for i in range(len(perms)):\n",
    "    flag = True\n",
    "    for j in range(len(perms[i]) - 1):\n",
    "        # print(perms[i])\n",
    "        tmp_1 = perms[i][j]\n",
    "        tmp_2 = perms[i][j+1]\n",
    "        count = 0\n",
    "        for k in range(m):\n",
    "            if s[tmp_1][k] == s[tmp_2][k]:\n",
    "                count += 1\n",
    "\n",
    "        if count == len(s[tmp_1]) - 1:\n",
    "            continue\n",
    "        else:\n",
    "            flag = False\n",
    "    \n",
    "    if flag:\n",
    "        print(\"Yes\")\n",
    "        matigai = False\n",
    "        break\n",
    "\n",
    "\n",
    "if matigai:\n",
    "    print(\"No\")"
   ]
  },
  {
   "cell_type": "code",
   "execution_count": 14,
   "metadata": {},
   "outputs": [
    {
     "data": {
      "text/plain": [
       "[345]"
      ]
     },
     "execution_count": 14,
     "metadata": {},
     "output_type": "execute_result"
    }
   ],
   "source": [
    "perms = list(permutations(range(4)))\n",
    "\n",
    "perms\n",
    "\n",
    "s = [[123],[345],[678]]\n",
    "\n",
    "tmp = perms[0][1]\n",
    "\n",
    "s[tmp]"
   ]
  }
 ],
 "metadata": {
  "kernelspec": {
   "display_name": "Python 3",
   "language": "python",
   "name": "python3"
  },
  "language_info": {
   "codemirror_mode": {
    "name": "ipython",
    "version": 3
   },
   "file_extension": ".py",
   "mimetype": "text/x-python",
   "name": "python",
   "nbconvert_exporter": "python",
   "pygments_lexer": "ipython3",
   "version": "3.12.2"
  }
 },
 "nbformat": 4,
 "nbformat_minor": 2
}
