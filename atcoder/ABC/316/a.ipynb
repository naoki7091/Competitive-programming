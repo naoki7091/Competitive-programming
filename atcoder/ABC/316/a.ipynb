{
 "cells": [
  {
   "cell_type": "code",
   "execution_count": 9,
   "metadata": {},
   "outputs": [
    {
     "name": "stdout",
     "output_type": "stream",
     "text": [
      "999\n"
     ]
    }
   ],
   "source": [
    "from typing import List  # Listをimportします\n",
    "\n",
    "class Solution:\n",
    "    def Input(self):\n",
    "        n, h, x = map(int, input().split())\n",
    "        p = list(map(int, input().split()))\n",
    "        return n, h, x, p\n",
    "\n",
    "    def Oput(self, n: int, h: int, x: int, p: List[int]) -> int:\n",
    "        need_hp = x - h\n",
    "        min_medicine = min([i for i in len(p) if p[i] >= need_hp])\n",
    "        return min_medicine\n",
    "\n",
    "\n",
    "solution = Solution()\n",
    "n,h,x,p = solution.Input()\n",
    "print(solution.Oput(n,h,x,p))\n"
   ]
  },
  {
   "cell_type": "code",
   "execution_count": 8,
   "metadata": {},
   "outputs": [
    {
     "data": {
      "text/plain": [
       "1"
      ]
     },
     "execution_count": 8,
     "metadata": {},
     "output_type": "execute_result"
    }
   ],
   "source": [
    "n, h, x = map(int, input().split())\n",
    "p = list(map(int, input().split()))\n",
    "p_dict = {}\n",
    "for i in range(len(p)):\n",
    "    p_dict[p[i] ]= i + 1\n",
    "\n",
    "need_hp = x - h\n",
    "min_medicine = min([num for num in p if num >= need_hp])\n",
    "\n",
    "print(p_dict[min_medicine])\n"
   ]
  },
  {
   "cell_type": "code",
   "execution_count": 4,
   "metadata": {},
   "outputs": [],
   "source": [
    "s = input()\n",
    "num = s[3:]\n",
    "num_int = int(num)\n",
    "\n",
    "if 0 < num_int < 316 or 316 < num_int < 350:\n",
    "    print(\"Yes\")\n",
    "else:\n",
    "    print(\"No\")"
   ]
  },
  {
   "cell_type": "code",
   "execution_count": 5,
   "metadata": {},
   "outputs": [
    {
     "data": {
      "text/plain": [
       "15"
      ]
     },
     "execution_count": 5,
     "metadata": {},
     "output_type": "execute_result"
    }
   ],
   "source": [
    "num_int = int(num)\n",
    "\n",
    "if 0 < num_int < 316 or 316 < num_int < 350:\n",
    "    print(\"Yes\")\n",
    "else:\n",
    "    print(\"No\")"
   ]
  }
 ],
 "metadata": {
  "kernelspec": {
   "display_name": "Python 3",
   "language": "python",
   "name": "python3"
  },
  "language_info": {
   "codemirror_mode": {
    "name": "ipython",
    "version": 3
   },
   "file_extension": ".py",
   "mimetype": "text/x-python",
   "name": "python",
   "nbconvert_exporter": "python",
   "pygments_lexer": "ipython3",
   "version": "3.12.2"
  }
 },
 "nbformat": 4,
 "nbformat_minor": 2
}
