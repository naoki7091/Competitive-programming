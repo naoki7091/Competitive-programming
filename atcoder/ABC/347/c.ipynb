{
 "cells": [
  {
   "cell_type": "markdown",
   "metadata": {},
   "source": []
  },
  {
   "cell_type": "code",
   "execution_count": 61,
   "metadata": {},
   "outputs": [],
   "source": [
    "n,a,b = map(int,input().split())\n",
    "\n",
    "d = list(map(int,input().split()))\n",
    "\n",
    "\n",
    "yotei = [d_num%(a + b) for d_num in d]\n",
    "\n",
    "yotei.sort()\n",
    "\n",
    "for i in range(n):\n",
    "    yotei.append(yotei[i] + a +b)\n",
    "\n",
    "yotei\n",
    "t = 10**100\n",
    "\n",
    "for i in range(n):\n",
    "    t = min(t, yotei[i + n - 1] - yotei[i] + 1)\n",
    "\n",
    "print(\"Yes\" if  t <= a else \"No\")"
   ]
  },
  {
   "cell_type": "code",
   "execution_count": 64,
   "metadata": {},
   "outputs": [
    {
     "ename": "TypeError",
     "evalue": "can only concatenate list (not \"int\") to list",
     "output_type": "error",
     "traceback": [
      "\u001b[0;31m---------------------------------------------------------------------------\u001b[0m",
      "\u001b[0;31mTypeError\u001b[0m                                 Traceback (most recent call last)",
      "Cell \u001b[0;32mIn[64], line 1\u001b[0m\n\u001b[0;32m----> 1\u001b[0m yotei \u001b[38;5;241m=\u001b[39m [d_num\u001b[38;5;241m%\u001b[39m(\u001b[43ma\u001b[49m\u001b[43m \u001b[49m\u001b[38;5;241;43m+\u001b[39;49m\u001b[43m \u001b[49m\u001b[43mb\u001b[49m) \u001b[38;5;28;01mfor\u001b[39;00m d_num \u001b[38;5;129;01min\u001b[39;00m d]\n\u001b[1;32m      3\u001b[0m d\u001b[38;5;241m.\u001b[39msort()\n\u001b[1;32m      5\u001b[0m \u001b[38;5;28;01mfor\u001b[39;00m i \u001b[38;5;129;01min\u001b[39;00m \u001b[38;5;28mrange\u001b[39m(n):\n",
      "\u001b[0;31mTypeError\u001b[0m: can only concatenate list (not \"int\") to list"
     ]
    }
   ],
   "source": [
    "yotei = [d_num%(a + b) for d_num in d]\n",
    "\n",
    "d.sort()\n",
    "\n",
    "for i in range(n):\n",
    "    yotei.append(yotei[i] + a +b)\n",
    "\n",
    "yotei\n",
    "t = 10**100\n",
    "\n",
    "for i in range(n):\n",
    "    t = min(t, yotei[i + n - 1] - d[i] + 1)\n",
    "\n",
    "print(\"Yes\" if  t <= a else \"No\")"
   ]
  },
  {
   "cell_type": "code",
   "execution_count": 72,
   "metadata": {},
   "outputs": [
    {
     "name": "stdout",
     "output_type": "stream",
     "text": [
      "9 1\n",
      "6 2\n",
      "7 3\n",
      "8 4\n",
      "9 5\n",
      "10 6\n",
      "11 7\n",
      "12 8\n",
      "13 9\n"
     ]
    }
   ],
   "source": [
    "a = [1,2,3,4,5,6,7,8,9,        6,7,8,9,10,11,12,13,14]\n",
    "\n",
    "for i in range(9):\n",
    "    # print(i + 9 - 1)\n",
    "    print(a[i + 9 - 1],a[i])"
   ]
  },
  {
   "cell_type": "code",
   "execution_count": 12,
   "metadata": {},
   "outputs": [
    {
     "name": "stdout",
     "output_type": "stream",
     "text": [
      "No\n"
     ]
    }
   ],
   "source": [
    "n,a,b = map(int,input().split())\n",
    "\n",
    "d = list(map(int,input().split()))\n",
    "\n",
    "\n",
    "kyuujiut = a - 0\n",
    "heijitu = (a + b) - a\n",
    "\n",
    "week = a + b\n",
    "start_week = 1\n",
    "\n",
    "yotei = [d_num%(a + b) for d_num in d]\n",
    "yotei\n",
    "judge = True\n",
    "for yotei_day in yotei:\n",
    "    if 1 <= yotei_day <= a:\n",
    "        continue\n",
    "    elif heijitu <= yotei_day or yotei_day == 0:\n",
    "        # print(\"No\")\n",
    "        judge = False\n",
    "        break\n",
    "if judge:\n",
    "    print(\"Yes\")\n",
    "else:\n",
    "    print(\"No\")"
   ]
  },
  {
   "cell_type": "code",
   "execution_count": 14,
   "metadata": {},
   "outputs": [
    {
     "data": {
      "text/plain": [
       "([908406067], [908406067])"
      ]
     },
     "execution_count": 14,
     "metadata": {},
     "output_type": "execute_result"
    }
   ],
   "source": [
    "yotei,d"
   ]
  }
 ],
 "metadata": {
  "kernelspec": {
   "display_name": "Python 3",
   "language": "python",
   "name": "python3"
  },
  "language_info": {
   "codemirror_mode": {
    "name": "ipython",
    "version": 3
   },
   "file_extension": ".py",
   "mimetype": "text/x-python",
   "name": "python",
   "nbconvert_exporter": "python",
   "pygments_lexer": "ipython3",
   "version": "3.12.2"
  }
 },
 "nbformat": 4,
 "nbformat_minor": 2
}
