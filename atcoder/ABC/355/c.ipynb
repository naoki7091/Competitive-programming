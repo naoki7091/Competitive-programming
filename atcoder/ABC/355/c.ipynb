{
 "cells": [
  {
   "cell_type": "code",
   "execution_count": null,
   "metadata": {},
   "outputs": [],
   "source": [
    "input()\n",
    "int(input())\n",
    "list(input())\n",
    "map(int,input().split())\n"
   ]
  },
  {
   "cell_type": "code",
   "execution_count": 4,
   "metadata": {},
   "outputs": [],
   "source": [
    "n,t = map(int,input().split())\n",
    "a = list(map(int,input().split()))"
   ]
  },
  {
   "cell_type": "code",
   "execution_count": 7,
   "metadata": {},
   "outputs": [
    {
     "name": "stdout",
     "output_type": "stream",
     "text": [
      "1 1\n",
      "0 0\n",
      "2 1\n",
      "2 2\n",
      "4\n"
     ]
    },
    {
     "ename": "SystemExit",
     "evalue": "",
     "output_type": "error",
     "traceback": [
      "An exception has occurred, use %tb to see the full traceback.\n",
      "\u001b[0;31mSystemExit\u001b[0m\n"
     ]
    },
    {
     "name": "stderr",
     "output_type": "stream",
     "text": [
      "/root/.local/lib/python3.12/site-packages/IPython/core/interactiveshell.py:3585: UserWarning: To exit: use 'exit', 'quit', or Ctrl-D.\n",
      "  warn(\"To exit: use 'exit', 'quit', or Ctrl-D.\", stacklevel=1)\n"
     ]
    }
   ],
   "source": [
    "n,t = map(int,input().split())\n",
    "a = list(map(int,input().split()))\n",
    "def f(n, i ,j):\n",
    "    return n*(i-1)+j\n",
    "\n",
    "def solve_i_j(n , num):\n",
    "    i = (num - 1)//n\n",
    "    j = (num - 1)%n\n",
    "\n",
    "    return i,j\n",
    "\n",
    "\n",
    "\n",
    "def check(grid , n):\n",
    "    for i in range(n):\n",
    "        if all(grid[i][j] for j in range(n)):\n",
    "            return True\n",
    "        if all(grid[j][i] for j in range(n)):\n",
    "            return True\n",
    "        \n",
    "    if all(grid[i][i] for i in range(n)):\n",
    "        return True\n",
    "    if all(grid[i][n - i - 1] for i in range(n)):\n",
    "        return True\n",
    "    \n",
    "    return False\n",
    "\n",
    "import sys\n",
    "\n",
    "\n",
    "\n",
    "\n",
    "grid = [[False]*n for _ in range(n)]\n",
    "turn = -1\n",
    "flag = False\n",
    "\n",
    "for k in range(t):\n",
    "    num = a[k]\n",
    "\n",
    "    i,j = solve_i_j(n , num)\n",
    "    # print(i , j)\n",
    "    grid[i][j] = True\n",
    "    if check(grid , n):\n",
    "        print(k + 1)\n",
    "        sys.exit()\n",
    "    # turn += 1\n",
    "\n",
    "# print(grid)\n",
    "\n",
    "print(turn)"
   ]
  },
  {
   "cell_type": "code",
   "execution_count": null,
   "metadata": {},
   "outputs": [],
   "source": [
    "def solve_i_j(n, num):\n",
    "    i = (num - 1) // n\n",
    "    j = (num - 1) % n\n",
    "    return i, j\n",
    "\n",
    "def check_bingo(r_c, c_c, diag1_count, diag2_count, n):\n",
    "    for count in r_c + c_c + [diag1_count, diag2_count]:\n",
    "        if count == n:\n",
    "            return True\n",
    "    return False\n",
    "\n",
    "import sys\n",
    "\n",
    "n, t = map(int, input().split())\n",
    "a = list(map(int, input().split()))\n",
    "\n",
    "\n",
    "r_c = [0] * n\n",
    "c_c = [0] * n\n",
    "diag1_count = 0\n",
    "diag2_count = 0\n",
    "\n",
    "for k in range(t):\n",
    "    num = a[k]\n",
    "    i, j = solve_i_j(n, num)\n",
    "    r_c[i] += 1\n",
    "    c_c[j] += 1\n",
    "    if i == j:\n",
    "        diag1_count += 1\n",
    "    if i + j == n - 1:\n",
    "        diag2_count += 1\n",
    "\n",
    "    if check_bingo(r_c, c_c, diag1_count, diag2_count, n):\n",
    "        print(k + 1)\n",
    "        sys.exit()\n",
    "\n",
    "print(-1)\n"
   ]
  },
  {
   "cell_type": "code",
   "execution_count": null,
   "metadata": {},
   "outputs": [],
   "source": [
    "import sys\n",
    "n , t = map(int,input().split())\n",
    "\n",
    "a = list(map(int,input().split()))\n",
    "\n",
    "def re_i_j(num):\n",
    "    i = (num - 1)//n\n",
    "    j = (num - 1)%n\n",
    "    return j , i\n",
    "\n",
    "row_count = [0]*n\n",
    "column_count = [0]*n\n",
    "diag_count = [0]*2\n",
    "\n",
    "for i in range(t):\n",
    "    x , y = re_i_j(a[i])\n",
    "\n",
    "    row_count[x]+=1\n",
    "    if row_count[x] == n:\n",
    "        print(i + 1)\n",
    "        sys.exit()\n",
    "\n",
    "    column_count[y] += 1\n",
    "    if column_count[y] == n:\n",
    "        print(i + 1)\n",
    "        sys.exit()\n",
    "\n",
    "    if x == y:\n",
    "        diag_count[0] += 1\n",
    "        if diag_count[0] == n:\n",
    "            print(i + 1)\n",
    "            sys.exit()\n",
    "    \n",
    "    if x + y == n - 1:\n",
    "        diag_count[1] += 1\n",
    "        if diag_count[1] == n:\n",
    "            print(i + 1)\n",
    "            sys.exit()\n",
    "\n",
    "print(-1)\n"
   ]
  }
 ],
 "metadata": {
  "kernelspec": {
   "display_name": "Python 3",
   "language": "python",
   "name": "python3"
  },
  "language_info": {
   "codemirror_mode": {
    "name": "ipython",
    "version": 3
   },
   "file_extension": ".py",
   "mimetype": "text/x-python",
   "name": "python",
   "nbconvert_exporter": "python",
   "pygments_lexer": "ipython3",
   "version": "3.12.2"
  }
 },
 "nbformat": 4,
 "nbformat_minor": 2
}
