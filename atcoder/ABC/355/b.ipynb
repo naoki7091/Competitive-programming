{
 "cells": [
  {
   "cell_type": "code",
   "execution_count": null,
   "metadata": {},
   "outputs": [],
   "source": [
    "input()\n",
    "int(input())\n",
    "list(input())\n",
    "map(int,input().split())"
   ]
  },
  {
   "cell_type": "code",
   "execution_count": 3,
   "metadata": {},
   "outputs": [
    {
     "name": "stdout",
     "output_type": "stream",
     "text": [
      "Yes\n"
     ]
    },
    {
     "ename": "SystemExit",
     "evalue": "",
     "output_type": "error",
     "traceback": [
      "An exception has occurred, use %tb to see the full traceback.\n",
      "\u001b[0;31mSystemExit\u001b[0m\n"
     ]
    }
   ],
   "source": [
    "import sys\n",
    "def solution(a,b,c):\n",
    "    cont = 0\n",
    "    for num in c:\n",
    "        if num in a:\n",
    "            cont += 1\n",
    "            if cont == 2:\n",
    "                print(\"Yes\")\n",
    "                sys.exit()\n",
    "        else:\n",
    "            cont = 0\n",
    "    \n",
    "    print(\"No\")\n",
    "\n",
    "\n",
    "m,n = map(int,input().split())\n",
    "a = list(map(int,input().split()))\n",
    "b = list(map(int,input().split()))\n",
    "\n",
    "c = a+b\n",
    "\n",
    "c.sort()\n",
    "\n",
    "solution(a,b,c)"
   ]
  },
  {
   "cell_type": "code",
   "execution_count": null,
   "metadata": {},
   "outputs": [],
   "source": [
    "cont = 0\n",
    "for num in c:\n",
    "    if num in a:\n",
    "        cont += 1\n",
    "        if cont == 2:\n",
    "            print(\"Yes\")\n",
    "            sys.exit()\n",
    "    else:\n",
    "        cont = 0\n",
    "    \n",
    "print(\"No\")"
   ]
  },
  {
   "cell_type": "code",
   "execution_count": null,
   "metadata": {},
   "outputs": [],
   "source": [
    "n , m = map(int,input().split())\n",
    "\n",
    "a = list(map(int,input().split()))\n",
    "b = list(map(int,input().split()))\n",
    "\n",
    "a_b = a + b\n",
    "\n",
    "a_b.sort()\n",
    "\n",
    "count = 0\n",
    "\n",
    "flag = True\n",
    "\n",
    "for num in a_b:\n",
    "    if num in a:\n",
    "        count += 1\n",
    "    else:\n",
    "        count = 0\n",
    "    \n",
    "    if count == 2:\n",
    "        print(\"Yes\")\n",
    "        flag = False\n",
    "        break\n",
    "\n",
    "if flag:\n",
    "    print(\"No\")"
   ]
  }
 ],
 "metadata": {
  "kernelspec": {
   "display_name": "Python 3",
   "language": "python",
   "name": "python3"
  },
  "language_info": {
   "codemirror_mode": {
    "name": "ipython",
    "version": 3
   },
   "file_extension": ".py",
   "mimetype": "text/x-python",
   "name": "python",
   "nbconvert_exporter": "python",
   "pygments_lexer": "ipython3",
   "version": "3.12.2"
  }
 },
 "nbformat": 4,
 "nbformat_minor": 2
}
