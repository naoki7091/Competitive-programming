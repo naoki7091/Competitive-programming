{
 "cells": [
  {
   "cell_type": "code",
   "execution_count": null,
   "metadata": {},
   "outputs": [],
   "source": [
    "input()\n",
    "int(input())\n",
    "list(input())\n",
    "map(int,input().split())"
   ]
  },
  {
   "cell_type": "code",
   "execution_count": 4,
   "metadata": {},
   "outputs": [
    {
     "ename": "ValueError",
     "evalue": "not enough values to unpack (expected 2, got 0)",
     "output_type": "error",
     "traceback": [
      "\u001b[0;31m---------------------------------------------------------------------------\u001b[0m",
      "\u001b[0;31mValueError\u001b[0m                                Traceback (most recent call last)",
      "Cell \u001b[0;32mIn[4], line 11\u001b[0m\n\u001b[1;32m      8\u001b[0m     \u001b[38;5;28;01melse\u001b[39;00m:\n\u001b[1;32m      9\u001b[0m         \u001b[38;5;28mprint\u001b[39m(\u001b[38;5;241m-\u001b[39m\u001b[38;5;241m1\u001b[39m)\n\u001b[0;32m---> 11\u001b[0m a,b \u001b[38;5;241m=\u001b[39m \u001b[38;5;28mmap\u001b[39m(\u001b[38;5;28mint\u001b[39m,\u001b[38;5;28minput\u001b[39m()\u001b[38;5;241m.\u001b[39msplit())\n\u001b[1;32m     13\u001b[0m solution(a,b)\n",
      "\u001b[0;31mValueError\u001b[0m: not enough values to unpack (expected 2, got 0)"
     ]
    }
   ],
   "source": [
    "def solution(A, B):\n",
    "    suspects = {1, 2, 3}\n",
    "    suspects.discard(A)\n",
    "    suspects.discard(B)\n",
    "    \n",
    "    if len(suspects) == 1:\n",
    "        print(suspects.pop())\n",
    "    else:\n",
    "        print(-1)\n",
    "\n",
    "a,b = map(int,input().split())\n",
    "\n",
    "solution(a,b)\n"
   ]
  },
  {
   "cell_type": "code",
   "execution_count": null,
   "metadata": {},
   "outputs": [],
   "source": [
    "a , b = map(int,input().split())\n",
    "\n",
    "syougen = [a,b]\n",
    "\n",
    "all_set = [1,2,3]\n",
    "\n",
    "if a != b:\n",
    "    for num in all_set:\n",
    "        if num not in syougen:\n",
    "            print(num)\n",
    "else:\n",
    "    print(-1)"
   ]
  },
  {
   "cell_type": "code",
   "execution_count": 19,
   "metadata": {},
   "outputs": [
    {
     "name": "stdout",
     "output_type": "stream",
     "text": [
      "[10, 9, 8, 7, 6, 5, 4, 3, 2, 1]\n"
     ]
    }
   ],
   "source": [
    "n , l , r = map(int,input().split())\n",
    "\n",
    "a = []\n",
    "\n",
    "for i in range(n):\n",
    "    a.append(i + 1)\n",
    "    \n",
    "if l == r:\n",
    "    print(*a)\n",
    "else:\n",
    "\n",
    "    a_front = a[:l - 1]\n",
    "    a_sort = sorted(a[l-1:r],reverse=True)\n",
    "    a_back = a[r: n]\n",
    "\n",
    "    ans = a_front+a_sort+a_back\n",
    "    print(ans)"
   ]
  },
  {
   "cell_type": "code",
   "execution_count": 17,
   "metadata": {},
   "outputs": [
    {
     "name": "stdout",
     "output_type": "stream",
     "text": [
      "[3, 2]\n",
      "[1, 3, 2, 3, 4]\n"
     ]
    }
   ],
   "source": [
    "import sys\n",
    "n , m = map(int,input().split())\n",
    "a = list(map(int,input().split()))\n",
    "\n",
    "nutrition = [0]*m\n",
    "\n",
    "for i in range(n):\n",
    "    tmp = list(map(int,input().split()))\n",
    "    for j in range(m):\n",
    "        nutrition[j]+=tmp[j]\n",
    "\n",
    "for i in range(m):\n",
    "    if nutrition[i] < a[i]:\n",
    "        print(\"No\")\n",
    "        sys.exit()\n",
    "print(\"Yes\")"
   ]
  },
  {
   "cell_type": "code",
   "execution_count": 24,
   "metadata": {},
   "outputs": [
    {
     "data": {
      "text/plain": [
       "[['1', '2', '3'], ['2', '3']]"
      ]
     },
     "execution_count": 24,
     "metadata": {},
     "output_type": "execute_result"
    }
   ],
   "source": [
    "n , m , k = map(int,input().split())\n",
    "c = []\n",
    "a = []\n",
    "r = []\n",
    "for i in range(m):\n",
    "    tmp = list(input().split())\n",
    "    c.append(int(tmp[0]))\n",
    "    a.append(tmp[1:int(tmp[0]) + 1])\n",
    "    r.append(tmp[-1])\n",
    "a"
   ]
  },
  {
   "cell_type": "code",
   "execution_count": null,
   "metadata": {},
   "outputs": [],
   "source": [
    "n, m, k = map(int, input().split())\n",
    "tests = []\n",
    "\n",
    "for i in range(m):\n",
    "    test = input().split()\n",
    "    c_i = int(test[0])\n",
    "    a_i = list(map(int, test[1:c_i+1]))\n",
    "    r_i = test[-1]\n",
    "    tests.append((c_i, a_i, r_i))\n",
    "\n",
    "ans = 0\n",
    "\n",
    "\n",
    "#bit全\n",
    "for mask in range(1 << n):\n",
    "    valid = True\n",
    "    for c_i, a_i, r_i in tests:\n",
    "        count_correct_keys = sum((mask >> (key - 1)) & 1 for key in a_i)\n",
    "        if (r_i == 'o' and count_correct_keys < k) or (r_i == 'x' and count_correct_keys >= k):\n",
    "            valid = False\n",
    "            break\n",
    "    if valid:\n",
    "        ans += 1\n",
    "\n",
    "print(ans)\n"
   ]
  },
  {
   "cell_type": "code",
   "execution_count": null,
   "metadata": {},
   "outputs": [],
   "source": []
  }
 ],
 "metadata": {
  "kernelspec": {
   "display_name": "Python 3",
   "language": "python",
   "name": "python3"
  },
  "language_info": {
   "codemirror_mode": {
    "name": "ipython",
    "version": 3
   },
   "file_extension": ".py",
   "mimetype": "text/x-python",
   "name": "python",
   "nbconvert_exporter": "python",
   "pygments_lexer": "ipython3",
   "version": "3.12.2"
  }
 },
 "nbformat": 4,
 "nbformat_minor": 2
}
