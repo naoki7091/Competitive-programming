{
 "cells": [
  {
   "cell_type": "code",
   "execution_count": null,
   "metadata": {},
   "outputs": [],
   "source": [
    "def solution():\n",
    "    pass\n",
    "\n",
    "n = int(input())\n",
    "\n",
    "pare = []\n",
    "\n",
    "for _ in range(n):\n",
    "    l , r = map(int,input().split())\n",
    "    pare.append((l,r))\n",
    "\n",
    "\n",
    "start_end = []\n",
    "\n",
    "for l , r in pare:\n",
    "    start_end.append((l , \"start\"))\n",
    "    start_end.append((r , \"end\"))\n",
    "\n",
    "\n",
    "start_end.sort(key=lambda x : (x[0],x[1] == \"end\"))\n",
    "\n",
    "\n",
    "tmp_1 = 0\n",
    "tmp_2 = 0\n",
    "\n",
    "for i in start_end:\n",
    "    if i[1] == \"start\":\n",
    "        tmp_2 += tmp_1\n",
    "        tmp_1 += 1\n",
    "    else:\n",
    "        tmp_1 -=1\n",
    "print(tmp_2)"
   ]
  },
  {
   "cell_type": "code",
   "execution_count": 15,
   "metadata": {},
   "outputs": [
    {
     "name": "stdout",
     "output_type": "stream",
     "text": [
      "0\n"
     ]
    }
   ],
   "source": [
    "n = int(input())\n",
    "\n",
    "pare = []\n",
    "\n",
    "for _ in range(n):\n",
    "    l , r = map(int,input().split())\n",
    "    pare.append((l,r))\n",
    "\n",
    "start_end_list = []\n",
    "\n",
    "for l , r in pare:\n",
    "    start_end_list.append((l , \"start\"))\n",
    "    start_end_list.append((r , \"end\"))\n",
    "\n",
    "start_end_list.sort(key=lambda x : (x[0] , x[1] == \"end\"))\n",
    "\n",
    "ans = 0\n",
    "start_event_num = 0\n",
    "\n",
    "for lists in start_end_list:\n",
    "    if lists[1] == \"start\":\n",
    "        ans += start_event_num\n",
    "        start_event_num += 1\n",
    "    else:\n",
    "        # endが来たら、startの数を減らしておく\n",
    "        start_event_num -= 1\n",
    "\n",
    "print(ans)"
   ]
  },
  {
   "cell_type": "code",
   "execution_count": 3,
   "metadata": {},
   "outputs": [
    {
     "data": {
      "text/plain": [
       "[[1, 'start'], [5, 'end'], [7, 'start'], [8, 'end'], [3, 'start'], [7, 'end']]"
      ]
     },
     "execution_count": 3,
     "metadata": {},
     "output_type": "execute_result"
    }
   ],
   "source": [
    "start_end_list = []\n",
    "\n",
    "for l , r in pare:\n",
    "    start_end_list.append([l , \"start\"])\n",
    "    start_end_list.append([r , \"end\"])\n",
    "\n",
    "start_end_list.sort(key=lambda x : [x[0] , x[1] == \"end\"])\n",
    "\n",
    "ans = 0\n",
    "start = 0\n",
    "\n",
    "for lists in start_end_list:\n",
    "    if lists[1] == \"start\":\n",
    "        ans += start\n",
    "        start += 1\n",
    "    else:\n",
    "        start -= 1\n",
    "\n",
    "print(ans)"
   ]
  },
  {
   "cell_type": "code",
   "execution_count": 12,
   "metadata": {},
   "outputs": [
    {
     "name": "stdout",
     "output_type": "stream",
     "text": [
      "[[1, 'start'], [3, 'start'], [5, 'end'], [7, 'start'], [7, 'end'], [8, 'end']]\n",
      "2\n"
     ]
    }
   ],
   "source": []
  }
 ],
 "metadata": {
  "kernelspec": {
   "display_name": "Python 3",
   "language": "python",
   "name": "python3"
  },
  "language_info": {
   "codemirror_mode": {
    "name": "ipython",
    "version": 3
   },
   "file_extension": ".py",
   "mimetype": "text/x-python",
   "name": "python",
   "nbconvert_exporter": "python",
   "pygments_lexer": "ipython3",
   "version": "3.12.2"
  }
 },
 "nbformat": 4,
 "nbformat_minor": 2
}
