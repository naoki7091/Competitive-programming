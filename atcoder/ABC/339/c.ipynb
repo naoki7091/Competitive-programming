{
 "cells": [
  {
   "cell_type": "code",
   "execution_count": 33,
   "metadata": {},
   "outputs": [
    {
     "name": "stdout",
     "output_type": "stream",
     "text": [
      "2\n"
     ]
    }
   ],
   "source": [
    "n = int(input())\n",
    "\n",
    "a = list(map(int,input().split()))\n",
    "\n",
    "\n",
    "num = []\n",
    "min_a = 10**10\n",
    "ans = 0\n",
    "\n",
    "# 0人が最小のため0を初期値として置いておく。->もし最小の人数が-x人であった場合、最初に+x人乗っている必要がある。最初に乗っているはずの人と最終的に乗っている人の和が答え\n",
    "\n",
    "for i in range(n):\n",
    "    ans += a[i] # 最終的な合計人数を取得\n",
    "\n",
    "    min_a = min(min_a,ans) # 最小の人数を取得\n",
    "\n",
    "\n",
    "#もし最小の人数が正であった場合、乗り降りの合計を出せばいい\n",
    "syoki = 0\n",
    "if min_a < 0:\n",
    "    syoki = -1*min_a\n",
    "\n",
    "print(syoki + ans)\n"
   ]
  },
  {
   "cell_type": "code",
   "execution_count": 32,
   "metadata": {},
   "outputs": [
    {
     "data": {
      "text/plain": [
       "(-199, -199)"
      ]
     },
     "execution_count": 32,
     "metadata": {},
     "output_type": "execute_result"
    }
   ],
   "source": [
    "min_a,ans"
   ]
  },
  {
   "cell_type": "code",
   "execution_count": 12,
   "metadata": {},
   "outputs": [
    {
     "name": "stdout",
     "output_type": "stream",
     "text": [
      "3\n"
     ]
    }
   ],
   "source": [
    "num = []\n",
    "\n",
    "for i in range(len(a) -1, -1,-1):\n",
    "    if i == len(a) - 1:\n",
    "        num.append(a[i])\n",
    "    elif i != len(a) - 1 and a[i] < 0:\n",
    "        print(sum(num))\n",
    "    else:\n",
    "        num.append(a)"
   ]
  }
 ],
 "metadata": {
  "kernelspec": {
   "display_name": "Python 3",
   "language": "python",
   "name": "python3"
  },
  "language_info": {
   "codemirror_mode": {
    "name": "ipython",
    "version": 3
   },
   "file_extension": ".py",
   "mimetype": "text/x-python",
   "name": "python",
   "nbconvert_exporter": "python",
   "pygments_lexer": "ipython3",
   "version": "3.12.2"
  }
 },
 "nbformat": 4,
 "nbformat_minor": 2
}
