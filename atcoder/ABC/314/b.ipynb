{
 "cells": [
  {
   "cell_type": "code",
   "execution_count": 1,
   "metadata": {},
   "outputs": [
    {
     "name": "stdout",
     "output_type": "stream",
     "text": [
      "[3, 4, 2, 3] [[7, 19, 20], [4, 19, 24, 0], [26, 10], [19, 31, 24]]\n"
     ]
    }
   ],
   "source": [
    "N = int(input())\n",
    "\n",
    "C = []\n",
    "A = []\n",
    "\n",
    "for i in range(N):\n",
    "    tmp_c = int(input())\n",
    "    tmp_a = list(map(int,input().split()))\n",
    "    C.append(tmp_c)\n",
    "    A.append(tmp_a)\n",
    "else:\n",
    "    X = int(input())\n",
    "\n",
    "select_x = []\n",
    "count_c_min = 100\n",
    "for i in range(len(A)):\n",
    "    # print(A[i])\n",
    "    for j in range(len(A[i])):\n",
    "        if A[i][j] == X:\n",
    "            select_x.append([i+1,C[i]])\n",
    "            count_c_min = min(count_c_min,C[i])\n",
    "\n",
    "ans = []\n",
    "\n",
    "for i in range(len(select_x)):\n",
    "    if select_x[i][1] == count_c_min:\n",
    "        ans.append(select_x[i][0])\n",
    "else:\n",
    "    ans.sort()\n",
    "    print(len(ans))\n",
    "    print(*ans)\n",
    "\n"
   ]
  },
  {
   "cell_type": "code",
   "execution_count": 14,
   "metadata": {},
   "outputs": [
    {
     "name": "stdout",
     "output_type": "stream",
     "text": [
      "2\n",
      "1 4\n"
     ]
    }
   ],
   "source": [
    "select_x = []\n",
    "count_c_min = 100\n",
    "for i in range(len(A)):\n",
    "    # print(A[i])\n",
    "    for j in range(len(A[i])):\n",
    "        if A[i][j] == X:\n",
    "            select_x.append([i+1,C[i]])\n",
    "            count_c_min = min(count_c_min,C[i])\n",
    "\n",
    "ans = []\n",
    "\n",
    "for i in range(len(select_x)):\n",
    "    if select_x[i][1] == count_c_min:\n",
    "        ans.append(select_x[i][0])\n",
    "else:\n",
    "    ans.sort()\n",
    "    print(len(ans))\n",
    "    print(*ans)\n",
    "\n"
   ]
  }
 ],
 "metadata": {
  "kernelspec": {
   "display_name": "Python 3",
   "language": "python",
   "name": "python3"
  },
  "language_info": {
   "codemirror_mode": {
    "name": "ipython",
    "version": 3
   },
   "file_extension": ".py",
   "mimetype": "text/x-python",
   "name": "python",
   "nbconvert_exporter": "python",
   "pygments_lexer": "ipython3",
   "version": "3.12.2"
  }
 },
 "nbformat": 4,
 "nbformat_minor": 2
}
