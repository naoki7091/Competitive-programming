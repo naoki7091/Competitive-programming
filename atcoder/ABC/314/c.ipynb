{
 "cells": [
  {
   "cell_type": "code",
   "execution_count": 40,
   "metadata": {},
   "outputs": [],
   "source": [
    "N,M = map(int,input().split())\n",
    "\n",
    "S = list(input())\n",
    "\n",
    "C = list(map(int,input().split()))\n",
    "\n",
    "color = [[] for _ in range(M)]\n",
    "\n",
    "\n",
    "for i in range(N):\n",
    "    C[i] -= 1\n",
    "    color[C[i]].append(i)\n",
    "\n",
    "T = S.copy()\n",
    "\n",
    "for same_color_num in color:\n",
    "    if len(same_color_num) == 1:\n",
    "        continue\n",
    "\n",
    "    for index in range(len(same_color_num)):\n",
    "        prev_index = same_color_num[index]\n",
    "        next_index = same_color_num[(index + 1) % len(same_color_num)]\n",
    "        prev = S[prev_index]\n",
    "        T[next_index] = prev\n",
    "else:\n",
    "    print(*T,sep=\"\")"
   ]
  },
  {
   "cell_type": "code",
   "execution_count": 41,
   "metadata": {},
   "outputs": [
    {
     "data": {
      "text/plain": [
       "['a', 'p', 'z', 'b', 'q', 'r', 'c', 's']"
      ]
     },
     "execution_count": 41,
     "metadata": {},
     "output_type": "execute_result"
    }
   ],
   "source": [
    "S"
   ]
  },
  {
   "cell_type": "code",
   "execution_count": 42,
   "metadata": {},
   "outputs": [
    {
     "name": "stdout",
     "output_type": "stream",
     "text": [
      "[0, 3, 6]\n",
      "[1, 4, 5, 7]\n",
      "[2]\n",
      "cszapqbr\n"
     ]
    }
   ],
   "source": [
    "color = [[] for _ in range(M)]\n",
    "\n",
    "\n",
    "for i in range(N):\n",
    "    C[i] -= 1\n",
    "    color[C[i]].append(i)\n",
    "\n",
    "T = S.copy()\n",
    "\n",
    "for same_color_num in color:\n",
    "    if len(same_color_num) == 1:\n",
    "        continue\n",
    "\n",
    "    for index in range(len(same_color_num)):\n",
    "        prev_index = same_color_num[index]\n",
    "        next_index = same_color_num[(index + 1) % len(same_color_num)]\n",
    "        prev = S[prev_index]\n",
    "        T[next_index] = prev\n",
    "else:\n",
    "\n",
    "    print(*T,sep=\"\")"
   ]
  },
  {
   "cell_type": "code",
   "execution_count": 1,
   "metadata": {},
   "outputs": [
    {
     "data": {
      "text/plain": [
       "defaultdict(list, {1: ['a'], 2: ['p'], 3: ['z']})"
      ]
     },
     "execution_count": 1,
     "metadata": {},
     "output_type": "execute_result"
    }
   ],
   "source": [
    "from collections import defaultdict\n",
    "from copy import deepcopy\n",
    "n,m = map(int,input().split())\n",
    "\n",
    "s = list(input())\n",
    "\n",
    "\n",
    "c = list(map(int,input().split()))\n",
    "table = defaultdict(list)\n",
    "\n",
    "table_index = defaultdict(list)\n",
    "\n",
    "\n",
    "for i in range(n):\n",
    "    table_index[c[i]].append(i)\n",
    "\n",
    "\n",
    "s_ans = deepcopy(s)\n",
    "\n",
    "for color in table_index.values():\n",
    "    # print(color)\n",
    "    if len(color) == 1:\n",
    "        continue\n",
    "    else:\n",
    "        for color_index in range(len(color)):\n",
    "            now_index = color[color_index]\n",
    "            next_index = color[(color_index + 1)%len(color)]\n",
    "            # print(now_index,next_index)\n",
    "            s_ans[next_index] = s[now_index]\n",
    "            # print(s_ans)\n",
    "\n",
    "print(*s_ans,sep=\"\")"
   ]
  },
  {
   "cell_type": "code",
   "execution_count": 31,
   "metadata": {},
   "outputs": [
    {
     "name": "stdout",
     "output_type": "stream",
     "text": [
      "[0, 3, 6]\n",
      "0 3\n",
      "['a', 'p', 'z', 'a', 'q', 'r', 'c', 's']\n",
      "3 6\n",
      "['a', 'p', 'z', 'a', 'q', 'r', 'b', 's']\n",
      "6 0\n",
      "['c', 'p', 'z', 'a', 'q', 'r', 'b', 's']\n",
      "[1, 4, 5, 7]\n",
      "1 4\n",
      "['c', 'p', 'z', 'a', 'p', 'r', 'b', 's']\n",
      "4 5\n",
      "['c', 'p', 'z', 'a', 'p', 'q', 'b', 's']\n",
      "5 7\n",
      "['c', 'p', 'z', 'a', 'p', 'q', 'b', 'r']\n",
      "7 1\n",
      "['c', 's', 'z', 'a', 'p', 'q', 'b', 'r']\n",
      "[2]\n",
      "cszapqbr\n"
     ]
    }
   ],
   "source": [
    "from copy import deepcopy\n",
    "table_char = defaultdict(list)\n",
    "table_index = defaultdict(list)\n",
    "\n",
    "s = list(\"apzbqrcs\")\n",
    "\n",
    "for i in range(n):\n",
    "    table_index[c[i]].append(i)\n",
    "\n",
    "\n",
    "s_ans = deepcopy(s)\n",
    "\n",
    "for color in table_index.values():\n",
    "    # print(color)\n",
    "    if len(color) == 1:\n",
    "        continue\n",
    "    else:\n",
    "        for color_index in range(len(color)):\n",
    "            now_index = color[color_index]\n",
    "            next_index = color[(color_index + 1)%len(color)]\n",
    "            # print(now_index,next_index)\n",
    "            s_ans[next_index] = s[now_index]\n",
    "            # print(s_ans)\n",
    "\n",
    "print(*s_ans,sep=\"\")"
   ]
  },
  {
   "cell_type": "code",
   "execution_count": null,
   "metadata": {},
   "outputs": [],
   "source": []
  }
 ],
 "metadata": {
  "kernelspec": {
   "display_name": "Python 3",
   "language": "python",
   "name": "python3"
  },
  "language_info": {
   "codemirror_mode": {
    "name": "ipython",
    "version": 3
   },
   "file_extension": ".py",
   "mimetype": "text/x-python",
   "name": "python",
   "nbconvert_exporter": "python",
   "pygments_lexer": "ipython3",
   "version": "3.12.2"
  }
 },
 "nbformat": 4,
 "nbformat_minor": 2
}
