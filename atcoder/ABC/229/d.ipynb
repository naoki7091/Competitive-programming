{
 "cells": [
  {
   "cell_type": "code",
   "execution_count": 6,
   "metadata": {},
   "outputs": [],
   "source": [
    "s = [\"?\"] + list(input())\n",
    "k = int(input())\n",
    "\n",
    "\n",
    "# .の個数のリストを作成\n",
    "\n",
    "dot_list = []\n",
    "tmp = 0\n",
    "for i in range(len(s)):\n",
    "    if s[i] == \".\":\n",
    "        tmp += 1\n",
    "        dot_list.append(tmp)\n",
    "    else:\n",
    "        dot_list.append(tmp)\n",
    "\n",
    "dot_list\n",
    "\n",
    "right = 1\n",
    "ans = 0\n",
    "for left in range(1,len(s)):\n",
    "    while right < len(s) :# 右端を進める。この時左は固定\n",
    "        cnt_dot = dot_list[right] - dot_list[left - 1]\n",
    "        if cnt_dot <= k:#k以下の操作で区間内を全て変えられる\n",
    "            right += 1\n",
    "        else:\n",
    "            break\n",
    "    ans = max(ans,right - left)\n",
    "\n",
    "print(ans)"
   ]
  },
  {
   "cell_type": "code",
   "execution_count": 7,
   "metadata": {},
   "outputs": [
    {
     "data": {
      "text/plain": [
       "['?', 'X', 'X', '.', '.', '.', 'X', '.', 'X', '.', 'X', '.']"
      ]
     },
     "execution_count": 7,
     "metadata": {},
     "output_type": "execute_result"
    }
   ],
   "source": [
    "# 尺取り法\n",
    "s"
   ]
  },
  {
   "cell_type": "code",
   "execution_count": 8,
   "metadata": {},
   "outputs": [
    {
     "data": {
      "text/plain": [
       "[0, 0, 0, 1, 2, 3, 3, 4, 4, 5, 5, 6]"
      ]
     },
     "execution_count": 8,
     "metadata": {},
     "output_type": "execute_result"
    }
   ],
   "source": [
    "# .の個数のリストを作成\n",
    "\n",
    "dot_list = []\n",
    "tmp = 0\n",
    "for i in range(len(s)):\n",
    "    if s[i] == \".\":\n",
    "        tmp += 1\n",
    "        dot_list.append(tmp)\n",
    "    else:\n",
    "        dot_list.append(tmp)\n",
    "\n",
    "dot_list\n",
    "\n",
    "right = 1\n",
    "ans = 0\n",
    "for left in range(1,len(s)):\n",
    "    while right < len(s) :# 右端を進める。この時左は固定\n",
    "        cnt_dot = dot_list[right] - dot_list[left - 1]\n",
    "        if cnt_dot <= k:#k以下の操作で区間内を全て変えられる\n",
    "            right += 1\n",
    "        else:\n",
    "            break\n",
    "    ans = max(ans,right - left)\n",
    "\n",
    "print(ans)"
   ]
  },
  {
   "cell_type": "code",
   "execution_count": null,
   "metadata": {},
   "outputs": [],
   "source": [
    "# ある区間の.の数が知りたい場合は右端から左端を引くことで求められる\n",
    "\n",
    "# 左端をleft:1としてい右端をrigjt:1とする\n",
    "\n",
    "# [l,r]の間で、k回以下の操作ですべての文字をxとできるかを確認する\n",
    "# 区間[left,left]だとしたら、.の数は間違いなく0であるから可能である\n",
    "# この場合に、右端を進める\n"
   ]
  },
  {
   "cell_type": "code",
   "execution_count": null,
   "metadata": {},
   "outputs": [],
   "source": [
    "right = 1\n",
    "ans = 0\n",
    "for left in range(1,len(s)):\n",
    "    while right < len(s) :# 右端を進める。この時左は固定\n",
    "        cnt_dot = dot_list[right] - dot_list[left - 1]\n",
    "        if cnt_dot <= k:#k以下の操作で区間内を全て変えられる\n",
    "            right += 1\n",
    "        else:\n",
    "            break\n",
    "    ans = max(ans,right - left)\n",
    "\n",
    "print(ans)"
   ]
  },
  {
   "cell_type": "code",
   "execution_count": 26,
   "metadata": {},
   "outputs": [
    {
     "name": "stdout",
     "output_type": "stream",
     "text": [
      "[3]\n",
      "[1, 1, 2, 10]\n",
      "[]\n",
      "[]\n",
      "[]\n",
      "[]\n"
     ]
    },
    {
     "ename": "IndexError",
     "evalue": "list index out of range",
     "output_type": "error",
     "traceback": [
      "\u001b[0;31m---------------------------------------------------------------------------\u001b[0m",
      "\u001b[0;31mIndexError\u001b[0m                                Traceback (most recent call last)",
      "Cell \u001b[0;32mIn[26], line 23\u001b[0m\n\u001b[1;32m     21\u001b[0m     tmp \u001b[38;5;241m*\u001b[39m\u001b[38;5;241m=\u001b[39m a[right] \n\u001b[1;32m     22\u001b[0m     right \u001b[38;5;241m+\u001b[39m\u001b[38;5;241m=\u001b[39m \u001b[38;5;241m1\u001b[39m\n\u001b[0;32m---> 23\u001b[0m     test\u001b[38;5;241m.\u001b[39mappend(\u001b[43ma\u001b[49m\u001b[43m[\u001b[49m\u001b[43mright\u001b[49m\u001b[43m]\u001b[49m)\n\u001b[1;32m     24\u001b[0m \u001b[38;5;28mprint\u001b[39m(test)\n\u001b[1;32m     25\u001b[0m \u001b[38;5;28;01mif\u001b[39;00m left \u001b[38;5;241m==\u001b[39m right:\n",
      "\u001b[0;31mIndexError\u001b[0m: list index out of range"
     ]
    }
   ],
   "source": [
    "n,k = map(int,input().split())\n",
    "\n",
    "a = []\n",
    "flag = False\n",
    "for _ in range(n):\n",
    "    tmp = int(input())\n",
    "    if tmp == 0:\n",
    "        flag = True\n",
    "    a.append(tmp)\n",
    "\n",
    "\n",
    "ans = 0\n",
    "if flag:\n",
    "    print(n)\n",
    "else:\n",
    "    right = 0\n",
    "    tmp = 1\n",
    "    for left in range(n):\n",
    "        while right < n and tmp*a[right] <= k: # 進めるだけ進む\n",
    "            tmp *= a[right] \n",
    "            right += 1\n",
    "        ans = max(ans,right - left)\n",
    "        if left == right:\n",
    "            right += 1 # 伸ばせなかった場合など追いついてしまうので右端を追加しておく\n",
    "        else:\n",
    "            tmp//=a[left] # 進めるから、割って準備しておく"
   ]
  },
  {
   "cell_type": "code",
   "execution_count": 30,
   "metadata": {},
   "outputs": [
    {
     "ename": "IndexError",
     "evalue": "list index out of range",
     "output_type": "error",
     "traceback": [
      "\u001b[0;31m---------------------------------------------------------------------------\u001b[0m",
      "\u001b[0;31mIndexError\u001b[0m                                Traceback (most recent call last)",
      "Cell \u001b[0;32mIn[30], line 13\u001b[0m\n\u001b[1;32m     11\u001b[0m     tmp \u001b[38;5;241m*\u001b[39m\u001b[38;5;241m=\u001b[39m s[r]\n\u001b[1;32m     12\u001b[0m     r \u001b[38;5;241m+\u001b[39m\u001b[38;5;241m=\u001b[39m \u001b[38;5;241m1\u001b[39m\n\u001b[0;32m---> 13\u001b[0m     test\u001b[38;5;241m.\u001b[39mappend(\u001b[43ms\u001b[49m\u001b[43m[\u001b[49m\u001b[43mr\u001b[49m\u001b[43m]\u001b[49m)\n\u001b[1;32m     14\u001b[0m ans \u001b[38;5;241m=\u001b[39m \u001b[38;5;28mmax\u001b[39m(ans,r\u001b[38;5;241m-\u001b[39ml)\n\u001b[1;32m     15\u001b[0m \u001b[38;5;28;01mif\u001b[39;00m l \u001b[38;5;241m==\u001b[39m r:\n",
      "\u001b[0;31mIndexError\u001b[0m: list index out of range"
     ]
    }
   ],
   "source": [
    "from collections import deque\n",
    "\n",
    "n,k = map(int,input().split())\n",
    "\n",
    "a = [int(input()) for _ in range(n)]\n",
    "\n",
    "if 0 in a:\n",
    "    print(n)\n",
    "else:\n",
    "    ans = 0\n",
    "    right = 0\n",
    "    tmp = 1\n",
    "    for left in range(n):\n",
    "        while right < n and tmp*a[right] <= k:\n",
    "            tmp*=a[right]\n",
    "            right += 1\n",
    "        \n",
    "        ans = max(ans,right - left)\n",
    "        if right == left:\n",
    "            right += 1\n",
    "        else:\n",
    "            tmp//=a[left]\n",
    "    print(ans)"
   ]
  }
 ],
 "metadata": {
  "kernelspec": {
   "display_name": "Python 3",
   "language": "python",
   "name": "python3"
  },
  "language_info": {
   "codemirror_mode": {
    "name": "ipython",
    "version": 3
   },
   "file_extension": ".py",
   "mimetype": "text/x-python",
   "name": "python",
   "nbconvert_exporter": "python",
   "pygments_lexer": "ipython3",
   "version": "3.12.2"
  }
 },
 "nbformat": 4,
 "nbformat_minor": 2
}
