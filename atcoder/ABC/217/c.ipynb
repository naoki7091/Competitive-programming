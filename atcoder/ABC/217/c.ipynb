{
 "cells": [
  {
   "cell_type": "code",
   "execution_count": 17,
   "metadata": {},
   "outputs": [
    {
     "name": "stdout",
     "output_type": "stream",
     "text": [
      "3 1 2\n"
     ]
    }
   ],
   "source": [
    "n = int(input())\n",
    "\n",
    "p = list(map(int,input().split()))\n",
    "\n",
    "p_dict = [0]*(n + 1)\n",
    "\n",
    "for i in range(n):\n",
    "    p_dict[p[i]] = i + 1\n",
    "\n",
    "# print(p_dict)\n",
    "\n",
    "ans = []\n",
    "for num in p_dict:\n",
    "    ans.append(num)\n",
    "\n",
    "print(*ans[1:])"
   ]
  }
 ],
 "metadata": {
  "kernelspec": {
   "display_name": "Python 3",
   "language": "python",
   "name": "python3"
  },
  "language_info": {
   "codemirror_mode": {
    "name": "ipython",
    "version": 3
   },
   "file_extension": ".py",
   "mimetype": "text/x-python",
   "name": "python",
   "nbconvert_exporter": "python",
   "pygments_lexer": "ipython3",
   "version": "3.12.2"
  }
 },
 "nbformat": 4,
 "nbformat_minor": 2
}
