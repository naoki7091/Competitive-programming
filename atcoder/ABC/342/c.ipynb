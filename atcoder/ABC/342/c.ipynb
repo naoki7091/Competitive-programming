{
 "cells": [
  {
   "cell_type": "code",
   "execution_count": 11,
   "metadata": {},
   "outputs": [
    {
     "name": "stdout",
     "output_type": "stream",
     "text": [
      "recover\n"
     ]
    }
   ],
   "source": [
    "from string import ascii_lowercase\n",
    "n = int(input())\n",
    "\n",
    "s = list(input())\n",
    "\n",
    "q = int(input())\n",
    "\n",
    "\n",
    "alpha = dict()\n",
    "\n",
    "for _ , ch in enumerate(ascii_lowercase):\n",
    "    alpha[ch] = ch\n",
    "\n",
    "\n",
    "for _ in range(q):\n",
    "    c,d = input().split()\n",
    "    for ch in alpha: # c = a d = r\n",
    "        if alpha[ch] == c: # ch == a\n",
    "            alpha[ch] = d\n",
    "\n",
    "ans = []\n",
    "for ch in  s:\n",
    "    ans.append(alpha[ch])\n",
    "\n",
    "\n",
    "print(*ans,sep=\"\")"
   ]
  },
  {
   "cell_type": "code",
   "execution_count": 12,
   "metadata": {},
   "outputs": [
    {
     "data": {
      "text/plain": [
       "{'a': 'r',\n",
       " 'b': 'b',\n",
       " 'c': 'c',\n",
       " 'd': 'v',\n",
       " 'e': 'e',\n",
       " 'f': 'f',\n",
       " 'g': 'g',\n",
       " 'h': 'h',\n",
       " 'i': 'i',\n",
       " 'j': 'j',\n",
       " 'k': 'k',\n",
       " 'l': 'l',\n",
       " 'm': 'm',\n",
       " 'n': 'n',\n",
       " 'o': 'o',\n",
       " 'p': 'p',\n",
       " 'q': 'q',\n",
       " 'r': 'r',\n",
       " 's': 's',\n",
       " 't': 'e',\n",
       " 'u': 'u',\n",
       " 'v': 'v',\n",
       " 'w': 'w',\n",
       " 'x': 'x',\n",
       " 'y': 'y',\n",
       " 'z': 'z'}"
      ]
     },
     "execution_count": 12,
     "metadata": {},
     "output_type": "execute_result"
    }
   ],
   "source": [
    "alpha"
   ]
  },
  {
   "cell_type": "code",
   "execution_count": 9,
   "metadata": {},
   "outputs": [
    {
     "ename": "ValueError",
     "evalue": "not enough values to unpack (expected 2, got 1)",
     "output_type": "error",
     "traceback": [
      "\u001b[0;31m---------------------------------------------------------------------------\u001b[0m",
      "\u001b[0;31mValueError\u001b[0m                                Traceback (most recent call last)",
      "Cell \u001b[0;32mIn[9], line 8\u001b[0m\n\u001b[1;32m      4\u001b[0m     alpha[ch] \u001b[38;5;241m=\u001b[39m ch\n\u001b[1;32m      7\u001b[0m \u001b[38;5;28;01mfor\u001b[39;00m _ \u001b[38;5;129;01min\u001b[39;00m \u001b[38;5;28mrange\u001b[39m(q):\n\u001b[0;32m----> 8\u001b[0m     c,d \u001b[38;5;241m=\u001b[39m \u001b[38;5;28minput\u001b[39m()\u001b[38;5;241m.\u001b[39msplit()\n\u001b[1;32m      9\u001b[0m     \u001b[38;5;28;01mfor\u001b[39;00m ch \u001b[38;5;129;01min\u001b[39;00m alpha:\n\u001b[1;32m     10\u001b[0m         \u001b[38;5;28;01mif\u001b[39;00m alpha[ch] \u001b[38;5;241m==\u001b[39m d:\n",
      "\u001b[0;31mValueError\u001b[0m: not enough values to unpack (expected 2, got 1)"
     ]
    }
   ],
   "source": [
    "alpha = dict()\n",
    "\n",
    "for _ , ch in enumerate(ascii_lowercase):\n",
    "    alpha[ch] = ch\n",
    "\n",
    "\n",
    "for _ in range(q):\n",
    "    c,d = input().split()\n",
    "    for ch in alpha:\n",
    "        if alpha[ch] == d:\n",
    "            alpha[ch] = d\n",
    "\n",
    "ans = []\n",
    "for ch in  s:\n",
    "    ans.append(alpha[ch])\n",
    "\n",
    "\n",
    "print(*ans,sep=\"\")"
   ]
  },
  {
   "cell_type": "code",
   "execution_count": 8,
   "metadata": {},
   "outputs": [
    {
     "data": {
      "text/plain": [
       "{'a': 'r',\n",
       " 'b': 'b',\n",
       " 'c': 'c',\n",
       " 'd': 'v',\n",
       " 'e': 'e',\n",
       " 'f': 'f',\n",
       " 'g': 'g',\n",
       " 'h': 'h',\n",
       " 'i': 'i',\n",
       " 'j': 'j',\n",
       " 'k': 'k',\n",
       " 'l': 'l',\n",
       " 'm': 'm',\n",
       " 'n': 'n',\n",
       " 'o': 'o',\n",
       " 'p': 'p',\n",
       " 'q': 'q',\n",
       " 'r': 'a',\n",
       " 's': 's',\n",
       " 't': 'e',\n",
       " 'u': 'u',\n",
       " 'v': 'v',\n",
       " 'w': 'w',\n",
       " 'x': 'x',\n",
       " 'y': 'y',\n",
       " 'z': 'z'}"
      ]
     },
     "execution_count": 8,
     "metadata": {},
     "output_type": "execute_result"
    }
   ],
   "source": [
    "ans = []\n",
    "for ch in  s:\n",
    "    ans.append(alpha[ch])\n",
    "    \n",
    "alpha"
   ]
  }
 ],
 "metadata": {
  "kernelspec": {
   "display_name": "Python 3",
   "language": "python",
   "name": "python3"
  },
  "language_info": {
   "codemirror_mode": {
    "name": "ipython",
    "version": 3
   },
   "file_extension": ".py",
   "mimetype": "text/x-python",
   "name": "python",
   "nbconvert_exporter": "python",
   "pygments_lexer": "ipython3",
   "version": "3.12.2"
  }
 },
 "nbformat": 4,
 "nbformat_minor": 2
}
