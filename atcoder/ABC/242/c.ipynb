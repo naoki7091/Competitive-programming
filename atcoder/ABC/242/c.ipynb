{
 "cells": [
  {
   "cell_type": "code",
   "execution_count": 11,
   "metadata": {},
   "outputs": [
    {
     "name": "stdout",
     "output_type": "stream",
     "text": [
      "25\n"
     ]
    }
   ],
   "source": [
    "MOD = 998244353\n",
    "n = int(input())\n",
    "\n",
    "dp = [[0]*10 for _ in range(n + 1)]\n",
    "\n",
    "for i in range(1 , 10):\n",
    "    dp[1][i] = 1\n",
    "\n",
    "for i in range(2 , n + 1):\n",
    "    for j in range(1 , 10):\n",
    "        if j == 1:\n",
    "            dp[i][j] = dp[i - 1][j] + dp[i - 1][j + 1]\n",
    "        elif 2 <= j <= 8:\n",
    "            dp[i][j] = dp[i - 1][j - 1] + dp[i - 1][j] + dp[i - 1][j + 1]\n",
    "        else:\n",
    "            dp[i][j] = dp[i - 1][j - 1] + dp[i - 1][j]\n",
    "        \n",
    "        dp[i][j]%=MOD\n",
    "print(sum(dp[n])%MOD)"
   ]
  },
  {
   "cell_type": "code",
   "execution_count": null,
   "metadata": {},
   "outputs": [],
   "source": [
    "\n"
   ]
  }
 ],
 "metadata": {
  "kernelspec": {
   "display_name": "Python 3",
   "language": "python",
   "name": "python3"
  },
  "language_info": {
   "codemirror_mode": {
    "name": "ipython",
    "version": 3
   },
   "file_extension": ".py",
   "mimetype": "text/x-python",
   "name": "python",
   "nbconvert_exporter": "python",
   "pygments_lexer": "ipython3",
   "version": "3.12.2"
  }
 },
 "nbformat": 4,
 "nbformat_minor": 2
}
