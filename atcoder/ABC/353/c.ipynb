{
 "cells": [
  {
   "cell_type": "code",
   "execution_count": 44,
   "metadata": {},
   "outputs": [
    {
     "name": "stdout",
     "output_type": "stream",
     "text": [
      "1 1\n",
      "2 1\n",
      "4 2\n",
      "5 1\n",
      "5 0\n",
      "303999988\n"
     ]
    }
   ],
   "source": [
    "# とりあえず合計を出しておいて、10**8以上となるものについては、10**8引かないとならないため、超えてしまう個数を調べて引く\n",
    "n = int(input())\n",
    "\n",
    "a = list(map(int,input().split()))\n",
    "\n",
    "m = 10**8\n",
    "\n",
    "sum_a = sum(a)*(n - 1)\n",
    "\n",
    "a.sort()\n",
    "\n",
    "\n",
    "# 尺取り法でm以上になってしまうような組の個数を調べる\n",
    "\n",
    "a.sort()\n",
    "\n",
    "cnt = 0\n",
    "\n",
    "right = len(a) - 1\n",
    "# 左と右端から進める\n",
    "# 左を固定して右端を進めて条件を満たす個数を調べる\n",
    "for left in range(n):\n",
    "    while right >= 0 and a[left] + a[right] >= m:\n",
    "        right -= 1\n",
    "    \n",
    "    cnt += n - max(right,left) - 1\n",
    "    print(cnt,n - max(right,left) - 1)\n",
    "print(sum_a - cnt*m)\n",
    "\n",
    "\n"
   ]
  },
  {
   "cell_type": "code",
   "execution_count": null,
   "metadata": {},
   "outputs": [],
   "source": [
    "# とりあえず合計を出しておいて、10**8以上となるものについては、10**8引かないとならないため、超えてしまう個数を調べて引く\n",
    "import bisect\n",
    "n = int(input())\n",
    "\n",
    "a = list(map(int,input().split()))\n",
    "\n",
    "m = 10**8\n",
    "\n",
    "sum_a = sum(a)*(n - 1)\n",
    "\n",
    "a.sort()\n",
    "\n",
    "\n",
    "# 二部探索でm以上になってしまうような組の個数を調べる\n",
    "\n",
    "cnt = 0\n",
    "\n",
    "for i in range(len(a)):\n",
    "    cnt = bisect.bisect_left(a,m - a[i])\n",
    "    cnt = max(cnt,i + 1) # cntが挿入位置であるが、i + 1と比べることで自身の位置関係を整理\n",
    "    sum_a -= (n - cnt)*m\n",
    "print(sum_a)"
   ]
  },
  {
   "cell_type": "code",
   "execution_count": 120,
   "metadata": {},
   "outputs": [
    {
     "name": "stdout",
     "output_type": "stream",
     "text": [
      "[3, 50000001, 50000002]\n",
      "3 0\n",
      "2 1\n",
      "3 0\n"
     ]
    }
   ],
   "source": [
    "a = [3 ,50000001 ,50000002]\n",
    "a.sort()\n",
    "import bisect\n",
    "\n",
    "print(a)\n",
    "m = 10**8\n",
    "cnt = 0\n",
    "n = len(a)\n",
    "\n",
    "\n",
    "cnt = 0\n",
    "\n",
    "for i in range(len(a)):\n",
    "    cnt = bisect.bisect_left(a,m - a[i])\n",
    "    cnt = max(cnt,i + 1) # cntが挿入位置であるが、i + 1と比べることで自身の位置関係を整理\n",
    "    ans -= cnt*m\n",
    "print(ans)"
   ]
  },
  {
   "cell_type": "code",
   "execution_count": 68,
   "metadata": {},
   "outputs": [
    {
     "data": {
      "text/plain": [
       "4"
      ]
     },
     "execution_count": 68,
     "metadata": {},
     "output_type": "execute_result"
    }
   ],
   "source": [
    "t = [1,2,3,4]\n",
    "t.pop()"
   ]
  },
  {
   "cell_type": "code",
   "execution_count": 20,
   "metadata": {},
   "outputs": [],
   "source": [
    "for i in range(10**8):\n",
    "    pass"
   ]
  },
  {
   "cell_type": "code",
   "execution_count": 22,
   "metadata": {},
   "outputs": [],
   "source": [
    "M = 10**8\n",
    "cnt = [0] * (M + 1)\n",
    "for i in range(M):\n",
    "    cnt"
   ]
  },
  {
   "cell_type": "markdown",
   "metadata": {},
   "source": [
    "# 尺取り法"
   ]
  },
  {
   "cell_type": "code",
   "execution_count": 10,
   "metadata": {},
   "outputs": [
    {
     "name": "stdout",
     "output_type": "stream",
     "text": [
      "4\n"
     ]
    }
   ],
   "source": [
    "n,k = map(int,input().split())\n",
    "# n , k = 7,6\n",
    "\n",
    "a = []\n",
    "for i in range(n):\n",
    "    tmp = int(input())\n",
    "    a.append(tmp)\n",
    "\n",
    "cnt = 0\n",
    "for i in range(n):\n",
    "    sum_a = 0\n",
    "    length = 0\n",
    "    left = n\n",
    "    while left > 0:\n",
    "        sum_a = a[i]\n",
    "        length += 1\n",
    "        for j in range(i + 1,left):\n",
    "            sum_a *= a[j]\n",
    "            length += 1\n",
    "        \n",
    "        left -= 1\n",
    "        if sum_a <= k:\n",
    "            tmp_cnt = length\n",
    "            cnt = max(cnt,length)\n",
    "        length = 0\n",
    "\n",
    "        sum_a = []\n",
    "print(cnt)"
   ]
  },
  {
   "cell_type": "code",
   "execution_count": null,
   "metadata": {},
   "outputs": [],
   "source": [
    "n,k = map(int,input().split())\n",
    "s = [int(input()) for _ in range(n)]\n",
    "\n",
    "if 0 in s:\n",
    "    print(n)\n",
    "else:\n",
    "    right,ans,tmp = 0,0,1\n",
    "    for left in range(n):\n",
    "        while right < n and tmp*s[right] <= k:\n",
    "            tmp*=s[right]\n",
    "            right += 1\n",
    "            ans = max(ans,right-left)\n",
    "            if left == right:\n",
    "                right += 1\n",
    "            else:\n",
    "                tmp //= s[left]\n",
    "    print(ans)"
   ]
  }
 ],
 "metadata": {
  "kernelspec": {
   "display_name": "Python 3",
   "language": "python",
   "name": "python3"
  },
  "language_info": {
   "codemirror_mode": {
    "name": "ipython",
    "version": 3
   },
   "file_extension": ".py",
   "mimetype": "text/x-python",
   "name": "python",
   "nbconvert_exporter": "python",
   "pygments_lexer": "ipython3",
   "version": "3.12.2"
  }
 },
 "nbformat": 4,
 "nbformat_minor": 2
}
