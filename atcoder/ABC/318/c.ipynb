{
 "cells": [
  {
   "cell_type": "code",
   "execution_count": 39,
   "metadata": {},
   "outputs": [
    {
     "name": "stdout",
     "output_type": "stream",
     "text": [
      "20\n"
     ]
    }
   ],
   "source": [
    "n,d,p = map(int,input().split())\n",
    "\n",
    "f = list(map(int,input().split()))\n",
    "\n",
    "\n",
    "# d = 2\n",
    "# p = 10\n",
    "# f = [7,1,6,3,6]\n",
    "\n",
    "f.sort(reverse=True)\n",
    "\n",
    "total = 0\n",
    "i = 0\n",
    "\n",
    "while i < n:\n",
    "    if i + d <= n:\n",
    "        if sum(f[i:i+d]) > p:\n",
    "            total += p\n",
    "        else:\n",
    "            total += sum(f[i:i+d])\n",
    "        \n",
    "        i += d\n",
    "    else:\n",
    "        if sum(f[i:]) > p:\n",
    "            total += p\n",
    "        else:\n",
    "            total += sum(f[i:])\n",
    "        break\n",
    "\n",
    "print(total)\n"
   ]
  },
  {
   "cell_type": "code",
   "execution_count": 41,
   "metadata": {},
   "outputs": [
    {
     "data": {
      "text/plain": [
       "[7, 1]"
      ]
     },
     "execution_count": 41,
     "metadata": {},
     "output_type": "execute_result"
    }
   ],
   "source": [
    "f = [7,1,6,3,6]\n",
    "\n",
    "f[:2]"
   ]
  },
  {
   "cell_type": "code",
   "execution_count": 36,
   "metadata": {},
   "outputs": [
    {
     "data": {
      "text/plain": [
       "[3, 1]"
      ]
     },
     "execution_count": 36,
     "metadata": {},
     "output_type": "execute_result"
    }
   ],
   "source": [
    "rest = 2\n",
    "\n",
    "f[len(f) - rest : ]"
   ]
  }
 ],
 "metadata": {
  "kernelspec": {
   "display_name": "Python 3",
   "language": "python",
   "name": "python3"
  },
  "language_info": {
   "codemirror_mode": {
    "name": "ipython",
    "version": 3
   },
   "file_extension": ".py",
   "mimetype": "text/x-python",
   "name": "python",
   "nbconvert_exporter": "python",
   "pygments_lexer": "ipython3",
   "version": "3.12.2"
  }
 },
 "nbformat": 4,
 "nbformat_minor": 2
}
