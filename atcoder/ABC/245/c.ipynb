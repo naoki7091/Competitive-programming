{
 "cells": [
  {
   "cell_type": "code",
   "execution_count": null,
   "metadata": {},
   "outputs": [],
   "source": [
    "n , k = map(int,input().split())\n",
    "\n",
    "a = list(map(int,input().split()))\n",
    "b = list(map(int,input().split()))\n",
    "\n",
    "dp = [[False]*n for i in range(2)]\n",
    "\n",
    "dp[0][0] = True\n",
    "dp[1][0] = True\n",
    "\n",
    "\n",
    "for i in range(n - 1):\n",
    "    if dp[0][i] == True:\n",
    "        if abs(a[i] - a[i + 1]) <= k:\n",
    "            dp[0][i + 1] = True\n",
    "        \n",
    "        if abs(a[i] - b[i + 1]) <= k:\n",
    "            dp[1][i + 1] = True\n",
    "\n",
    "    if dp[1][i] == True:\n",
    "        if abs(b[i] - a[i + 1]) <= k:\n",
    "            dp[0][i + 1] = True\n",
    "        \n",
    "        if abs(b[i] - b[i + 1]) <= k:\n",
    "            dp[1][i + 1] = True\n",
    "\n",
    "if dp[0][n - 1] == True or dp[1][n - 1] == True:\n",
    "    print(\"Yes\")\n",
    "else:\n",
    "    print(\"No\")"
   ]
  },
  {
   "cell_type": "code",
   "execution_count": 46,
   "metadata": {},
   "outputs": [
    {
     "name": "stdout",
     "output_type": "stream",
     "text": [
      "30\n"
     ]
    }
   ],
   "source": [
    "i = 0\n",
    "while 1:\n",
    "    if 2**i >= 10**9:\n",
    "        print(i)\n",
    "        break\n",
    "\n",
    "    i += 1\n",
    "\n"
   ]
  }
 ],
 "metadata": {
  "kernelspec": {
   "display_name": "Python 3",
   "language": "python",
   "name": "python3"
  },
  "language_info": {
   "codemirror_mode": {
    "name": "ipython",
    "version": 3
   },
   "file_extension": ".py",
   "mimetype": "text/x-python",
   "name": "python",
   "nbconvert_exporter": "python",
   "pygments_lexer": "ipython3",
   "version": "3.12.2"
  }
 },
 "nbformat": 4,
 "nbformat_minor": 2
}
