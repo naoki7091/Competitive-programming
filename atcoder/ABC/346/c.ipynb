{
 "cells": [
  {
   "cell_type": "code",
   "execution_count": 13,
   "metadata": {},
   "outputs": [
    {
     "name": "stdout",
     "output_type": "stream",
     "text": [
      "12523196490986503\n"
     ]
    }
   ],
   "source": [
    "n,k = map(int,input().split())\n",
    "\n",
    "\n",
    "a = list(map(int,input().split()))\n",
    "\n",
    "exist_a = sorted(list(set(a)))\n",
    "\n",
    "exist_a\n",
    "\n",
    "\n",
    "sum_nums = k*(k + 1)//2\n",
    "sum_nums\n",
    "\n",
    "for num in exist_a:\n",
    "    if num <= k:\n",
    "        sum_nums -= num\n",
    "\n",
    "print(sum_nums)"
   ]
  },
  {
   "cell_type": "code",
   "execution_count": 12,
   "metadata": {},
   "outputs": [
    {
     "name": "stdout",
     "output_type": "stream",
     "text": [
      "11\n"
     ]
    }
   ],
   "source": [
    "n = 5\n",
    "sum_nums = n*(n + 1)//2\n",
    "sum_nums\n",
    "\n",
    "for num in exist_a:\n",
    "    if num <= 5:\n",
    "        sum_nums -= num\n",
    "\n",
    "print(sum_nums)"
   ]
  }
 ],
 "metadata": {
  "kernelspec": {
   "display_name": "Python 3",
   "language": "python",
   "name": "python3"
  },
  "language_info": {
   "codemirror_mode": {
    "name": "ipython",
    "version": 3
   },
   "file_extension": ".py",
   "mimetype": "text/x-python",
   "name": "python",
   "nbconvert_exporter": "python",
   "pygments_lexer": "ipython3",
   "version": "3.12.2"
  }
 },
 "nbformat": 4,
 "nbformat_minor": 2
}
