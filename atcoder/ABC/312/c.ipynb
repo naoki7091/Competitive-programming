{
 "cells": [
  {
   "cell_type": "code",
   "execution_count": 9,
   "metadata": {},
   "outputs": [],
   "source": [
    "n,m = map(int,input().split())\n",
    "\n",
    "a = list(map(int,input().split()))\n",
    "b = list(map(int,input().split()))"
   ]
  },
  {
   "cell_type": "code",
   "execution_count": null,
   "metadata": {},
   "outputs": [],
   "source": [
    "from bisect import bisect_right, bisect_left\n",
    "\n",
    "N,M = map(int,input().split())\n",
    "\n",
    "a = list(map(int,input().split()))\n",
    "b = list(map(int,input().split()))\n",
    "a.sort()\n",
    "b.sort()\n",
    "\n",
    "def judge(m):\n",
    "    c1 = bisect_left(a,m)\n",
    "    c2 = bisect_right(b,m)\n",
    "    return c1 >= c2\n",
    "\n",
    "max_price = 10**10\n",
    "min_price = 0\n",
    "\n",
    "\n",
    "while max_price - min_price > 1:\n",
    "    mid_price = (max_price + min_price) //2\n",
    "\n",
    "    if judge(mid_price):\n",
    "        max_price = mid_price\n",
    "    else:\n",
    "        min_price = mid_price\n",
    "    print(max_price,min_price)\n",
    "\n"
   ]
  },
  {
   "cell_type": "code",
   "execution_count": 15,
   "metadata": {},
   "outputs": [
    {
     "name": "stdout",
     "output_type": "stream",
     "text": [
      "11\n"
     ]
    }
   ],
   "source": [
    "a = [i for i in range(100)]\n",
    "print(bisect_right(a,10))"
   ]
  },
  {
   "cell_type": "code",
   "execution_count": 6,
   "metadata": {},
   "outputs": [
    {
     "name": "stdout",
     "output_type": "stream",
     "text": [
      "1000000001\n"
     ]
    }
   ],
   "source": []
  },
  {
   "cell_type": "code",
   "execution_count": null,
   "metadata": {},
   "outputs": [
    {
     "name": "stdout",
     "output_type": "stream",
     "text": [
      "[2, 10]\n",
      "[2, 8]\n",
      "[3, 6]\n"
     ]
    },
    {
     "data": {
      "text/plain": [
       "16"
      ]
     },
     "metadata": {},
     "output_type": "display_data"
    }
   ],
   "source": []
  },
  {
   "cell_type": "code",
   "execution_count": 11,
   "metadata": {},
   "outputs": [
    {
     "ename": "ValueError",
     "evalue": "not enough values to unpack (expected 3, got 0)",
     "output_type": "error",
     "traceback": [
      "\u001b[0;31m---------------------------------------------------------------------------\u001b[0m",
      "\u001b[0;31mValueError\u001b[0m                                Traceback (most recent call last)",
      "Cell \u001b[0;32mIn[11], line 10\u001b[0m\n\u001b[1;32m      8\u001b[0m     n \u001b[38;5;241m=\u001b[39m \u001b[38;5;28mint\u001b[39m(n)\n\u001b[1;32m      9\u001b[0m     \u001b[38;5;28mprint\u001b[39m(t,d,n)\n\u001b[0;32m---> 10\u001b[0m \u001b[43mstep1\u001b[49m\u001b[43m(\u001b[49m\u001b[43m)\u001b[49m\n",
      "Cell \u001b[0;32mIn[11], line 4\u001b[0m, in \u001b[0;36mstep1\u001b[0;34m()\u001b[0m\n\u001b[1;32m      1\u001b[0m \u001b[38;5;28;01mdef\u001b[39;00m \u001b[38;5;21mstep1\u001b[39m():\n\u001b[1;32m      2\u001b[0m     \u001b[38;5;66;03m# m = int(input())\u001b[39;00m\n\u001b[1;32m      3\u001b[0m     m \u001b[38;5;241m=\u001b[39m \u001b[38;5;241m2\u001b[39m\n\u001b[0;32m----> 4\u001b[0m     d,s,p \u001b[38;5;241m=\u001b[39m \u001b[38;5;28mmap\u001b[39m(\u001b[38;5;28mint\u001b[39m,\u001b[38;5;28minput\u001b[39m()\u001b[38;5;241m.\u001b[39msplit())\n\u001b[1;32m      5\u001b[0m     order,t,d,n \u001b[38;5;241m=\u001b[39m \u001b[38;5;28minput\u001b[39m()\u001b[38;5;241m.\u001b[39msplit()\n\u001b[1;32m      6\u001b[0m     t \u001b[38;5;241m=\u001b[39m \u001b[38;5;28mint\u001b[39m(t)\n",
      "\u001b[0;31mValueError\u001b[0m: not enough values to unpack (expected 3, got 0)"
     ]
    }
   ],
   "source": [
    "def step1():\n",
    "    # m = int(input())\n",
    "    m = 2\n",
    "    d,s,p = map(int,input().split())\n",
    "    order,t,d,n = input().split()\n",
    "    t = int(t)\n",
    "    d = int(d)\n",
    "    n = int(n)\n",
    "    print(t,d,n)\n",
    "step1()"
   ]
  },
  {
   "cell_type": "code",
   "execution_count": 15,
   "metadata": {},
   "outputs": [
    {
     "data": {
      "text/plain": [
       "{100: [5, 700], 50: [2, 300]}"
      ]
     },
     "execution_count": 15,
     "metadata": {},
     "output_type": "execute_result"
    }
   ],
   "source": [
    "#### あなたの答え:\n",
    "\n",
    "  758206\n",
    "\n",
    "  wait\n",
    "\n",
    "  unexpected input\n",
    "\n",
    "  wait\n",
    "\n",
    "  wait\n",
    "\n",
    "  unexpected input\n",
    "\n",
    "  unexpected input\n",
    "\n",
    "  unexpected input\n",
    "\n",
    "  unexpected input\n",
    "\n",
    "  unexpected input\n",
    "\n",
    "  wait\n",
    "\n",
    "  wait\n",
    "\n",
    "  wait\n",
    "\n",
    "  wait\n",
    "\n",
    "  wait\n",
    "\n",
    "  unexpected input\n",
    "\n",
    "  wait\n",
    "\n",
    "  unexpected input\n",
    "\n",
    "  unexpected input\n",
    "\n",
    "  unexpected input...\n",
    "\n",
    "  #### 期待された答え:\n",
    "\n",
    "  758206\n",
    "\n",
    "  wait\n",
    "\n",
    "  ok 758206\n",
    "\n",
    "  wait\n",
    "\n",
    "  wait\n",
    "\n",
    "  unexpected input\n",
    "\n",
    "  ok 335107\n",
    "\n",
    "  unexpected input\n",
    "\n",
    "  unexpected input\n",
    "\n",
    "  unexpected input\n",
    "\n",
    "  wait\n",
    "\n",
    "  wait\n",
    "\n",
    "  wait\n",
    "\n",
    "  wait\n",
    "\n",
    "  wait\n",
    "\n",
    "  ok 335107\n",
    "\n",
    "  wait\n",
    "\n",
    "  ok 124825\n",
    "\n",
    "  ok 124825\n",
    "\n",
    "  unexpected input..."
   ]
  },
  {
   "cell_type": "code",
   "execution_count": 14,
   "metadata": {},
   "outputs": [
    {
     "ename": "NameError",
     "evalue": "name 'data' is not defined",
     "output_type": "error",
     "traceback": [
      "\u001b[0;31m---------------------------------------------------------------------------\u001b[0m",
      "\u001b[0;31mNameError\u001b[0m                                 Traceback (most recent call last)",
      "Cell \u001b[0;32mIn[14], line 1\u001b[0m\n\u001b[0;32m----> 1\u001b[0m \u001b[43mdata\u001b[49m\n",
      "\u001b[0;31mNameError\u001b[0m: name 'data' is not defined"
     ]
    }
   ],
   "source": [
    " #### 入力:\n",
    "\n",
    "  2\n",
    "\n",
    "  10 1\n",
    "\n",
    "  303675 8714 15608\n",
    "\n",
    "  115154 4343 93765\n",
    "\n",
    "  758206 8069 64318\n",
    "\n",
    "  594580 3987 35085\n",
    "\n",
    "  124825 6870 27030\n",
    "\n",
    "  335107 2855 64529\n",
    "\n",
    "  852010 4277 57564\n",
    "\n",
    "  199247 3654 48751\n",
    "\n",
    "  221913 13 464\n",
    "\n",
    "  392038 7671 29683\n",
    "\n",
    "  received order 9225 758206\n",
    "\n",
    "  received order 9225 758206\n",
    "\n",
    "  complete 758206\n",
    "\n",
    "  received order 5244 335107\n",
    "\n",
    "  received order 5244 ..."
   ]
  },
  {
   "cell_type": "code",
   "execution_count": null,
   "metadata": {},
   "outputs": [],
   "source": [
    "2\n",
    "10 1\n",
    "303675 8714 15608\n",
    "115154 4343 93765\n",
    "758206 8069 64318\n",
    "594580 3987 35085\n",
    "124825 6870 27030\n",
    "335107 2855 64529\n",
    "852010 4277 57564\n",
    "199247 3654 48751\n",
    "221913 13 464\n",
    "392038 7671 29683\n",
    "received order 9225 758206\n",
    "received order 9225 758206\n",
    "complete 758206\n",
    "received order 5244 335107\n",
    "received order 5244 335107\n",
    "complete 221913\n",
    "complete 758206\n",
    "complete 392038\n",
    "complete 303675\n",
    "complete 115154\n",
    "received order 7755 124825\n",
    "received order 7755 124825\n",
    "received order 7755 124825\n",
    "received order 7755 124825\n",
    "received order 7755 124825\n",
    "complete 335107\n",
    "received order 4277 115154\n",
    "complete 335107\n",
    "complete 124825\n",
    "complete 594580\n",
    "complete 124825\n",
    "complete 124825\n",
    "complete 124825\n",
    "complete 124825\n",
    "received order 6567 199247\n",
    "complete 115154\n",
    "complete 199247\n",
    "complete 594580\n",
    "complete 199247\n",
    "received order 1578 199247\n"
   ]
  },
  {
   "cell_type": "code",
   "execution_count": 1,
   "metadata": {},
   "outputs": [],
   "source": [
    "n,m = map(int,input().split())\n",
    "\n",
    "seller = list(map(int,input().split()))\n",
    "\n",
    "buyer = list(map(int,input().split()))\n",
    "\n",
    "min_money = 0\n",
    "max_money = 10**10\n",
    "\n",
    "seller.sort()\n",
    "buyer.sort()\n",
    "\n",
    "left = 0\n",
    "center = 0\n",
    "right = max_money\n",
    "ans = max_money\n",
    "\n",
    "max_sell = max(seller)\n",
    "\n",
    "while right - left > 1:\n",
    "    cnt_sell = 0\n",
    "    cnt_buy = 0\n",
    "    center = (left + right)//2\n",
    "    print(left,center,right)\n",
    "    for i in range(n):\n",
    "        if seller[i] <= center:\n",
    "            cnt_sell += 1\n",
    "    \n",
    "    for j in range(m):\n",
    "        if buyer[j] >= center:\n",
    "            cnt_buy += 1\n",
    "\n",
    "    if cnt_sell >= cnt_buy:\n",
    "        ans = min(ans,right)\n",
    "        right = center\n",
    "    else:\n",
    "        left = center\n",
    "\n",
    "print(ans)\n",
    "\n"
   ]
  },
  {
   "cell_type": "code",
   "execution_count": 25,
   "metadata": {},
   "outputs": [
    {
     "name": "stdout",
     "output_type": "stream",
     "text": [
      "0 5000000000 10000000000\n",
      "0 2500000000 5000000000\n",
      "0 1250000000 2500000000\n",
      "0 625000000 1250000000\n",
      "0 312500000 625000000\n",
      "0 156250000 312500000\n",
      "0 78125000 156250000\n",
      "0 39062500 78125000\n",
      "0 19531250 39062500\n",
      "0 9765625 19531250\n",
      "0 4882812 9765625\n",
      "0 2441406 4882812\n",
      "0 1220703 2441406\n",
      "0 610351 1220703\n",
      "0 305175 610351\n",
      "0 152587 305175\n",
      "0 76293 152587\n",
      "0 38146 76293\n",
      "0 19073 38146\n",
      "0 9536 19073\n",
      "0 4768 9536\n",
      "0 2384 4768\n",
      "0 1192 2384\n",
      "0 596 1192\n",
      "0 298 596\n",
      "0 149 298\n",
      "0 74 149\n",
      "0 37 74\n",
      "37 78 120\n",
      "37 57 78\n",
      "57 88 120\n",
      "57 72 88\n",
      "72 96 120\n",
      "72 84 96\n",
      "84 102 120\n",
      "84 93 102\n",
      "93 106 120\n",
      "93 99 106\n",
      "99 109 120\n",
      "99 104 109\n",
      "104 112 120\n",
      "104 108 112\n",
      "104 106 108\n",
      "106 113 120\n",
      "106 109 113\n",
      "106 107 109\n",
      "107 113 120\n",
      "107 110 113\n",
      "107 108 110\n",
      "110\n"
     ]
    }
   ],
   "source": [
    "left = 0\n",
    "center = 0\n",
    "right = max_money\n",
    "ans = max_money\n",
    "while right - left > 1:\n",
    "    cnt_sell = 0\n",
    "    cnt_buy = 0\n",
    "    center = (left + right)//2\n",
    "    print(left,center,right)\n",
    "    for i in range(n):\n",
    "        if seller[i] <= right:\n",
    "            cnt_sell += 1\n",
    "    \n",
    "    for j in range(m):\n",
    "        if buyer[j] >= right:\n",
    "            cnt_buy += 1\n",
    "\n",
    "    if cnt_sell >= cnt_buy:\n",
    "        ans = min(ans,right)\n",
    "        right = center\n",
    "    else:\n",
    "        left = center\n",
    "        right = seller[-1]\n",
    "\n",
    "print(ans)"
   ]
  }
 ],
 "metadata": {
  "kernelspec": {
   "display_name": "Python 3",
   "language": "python",
   "name": "python3"
  },
  "language_info": {
   "codemirror_mode": {
    "name": "ipython",
    "version": 3
   },
   "file_extension": ".py",
   "mimetype": "text/x-python",
   "name": "python",
   "nbconvert_exporter": "python",
   "pygments_lexer": "ipython3",
   "version": "3.12.2"
  }
 },
 "nbformat": 4,
 "nbformat_minor": 2
}
