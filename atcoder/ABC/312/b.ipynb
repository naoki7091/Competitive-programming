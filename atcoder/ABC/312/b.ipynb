{
 "cells": [
  {
   "cell_type": "code",
   "execution_count": 20,
   "metadata": {},
   "outputs": [
    {
     "data": {
      "text/plain": [
       "['wer', 'wer']"
      ]
     },
     "execution_count": 20,
     "metadata": {},
     "output_type": "execute_result"
    }
   ],
   "source": [
    "\n",
    "mask = [\n",
    "    \"###.?????\",\n",
    "    \"###.?????\",\n",
    "    \"###.?????\",\n",
    "    \"....?????\",\n",
    "    \"?????????\",\n",
    "    \"?????....\",\n",
    "    \"?????.###\",\n",
    "    \"?????.###\",\n",
    "    \"?????.###\"\n",
    "]\n",
    "\n",
    "def mask_chek(i,j):\n",
    "    global n,m\n",
    "    \n",
    "    for a in range(9):\n",
    "        for b in range(9):\n",
    "            \n",
    "            if not (0 <= i+a < n and 0 <= j+b < m):\n",
    "                return False\n",
    "            \n",
    "            if mask[a][b] == \"?\":\n",
    "                continue\n",
    "\n",
    "            if masu[i+a][j+b] != mask[a][b]:\n",
    "                return False\n",
    "\n",
    "    return True\n",
    "\n",
    "n,m = map(int,input().split())\n",
    "\n",
    "masu = [input() for _ in range(n)]\n",
    "\n",
    "\n",
    "for i in range(n):\n",
    "    for j in range(m):\n",
    "        if mask_chek(i,j):\n",
    "            print(i+1,j+1)\n"
   ]
  },
  {
   "cell_type": "code",
   "execution_count": null,
   "metadata": {},
   "outputs": [],
   "source": [
    "#TaK Codeはコピペして、少し改造してリストにする\n",
    "tak = [\"###.?????\",\n",
    "\"###.?????\",\n",
    "\"###.?????\",\n",
    "\"....?????\",\n",
    "\"?????????\",\n",
    "\"?????....\",\n",
    "\"?????.###\",\n",
    "\"?????.###\",\n",
    "\"?????.###\"]\n",
    "\n",
    "# Sの(i, j)を左上とする9x9がTaKであるかを判定する関数\n",
    "def takcheck(i, j):\n",
    "    global N, M # N, Mが関数内でも使えるようにする\n",
    "\n",
    "    # Sの調べている部分の座標(i+a, j+b)とTaKの(a, b)を比較\n",
    "    for a in range(9):\n",
    "        for b in range(9):\n",
    "\n",
    "            #もしi+aまたはj+bが範囲外(9x9が作れない)ならばFalseを返す\n",
    "            if not (0 <= i+a < N and 0 <= j+b < M):\n",
    "                return False\n",
    "\n",
    "            # もしTaKが?なら調べない\n",
    "            if tak[a][b] == \"?\": \n",
    "                continue\n",
    "\n",
    "            # もし異なるならFalseを返す\n",
    "            if S[i+a][j+b] != tak[a][b]: \n",
    "                return False\n",
    "\n",
    "    # もし最後まで異なるものがなければTrueを返す\n",
    "    return True\n",
    "\n",
    "N,M = map(int, input().split())\n",
    "S = [input() for _ in range(N)]\n",
    "\n",
    "# (i, j)全ての組において\n",
    "for i in range(N):\n",
    "    for j in range(M):\n",
    "\n",
    "        # もしtakcheck(i,j)がTrueなら\n",
    "        if takcheck(i,j):\n",
    "            # 実際は左上は(1,1)であるため1を足して出力\n",
    "            print(i+1, j+1)"
   ]
  }
 ],
 "metadata": {
  "kernelspec": {
   "display_name": "Python 3",
   "language": "python",
   "name": "python3"
  },
  "language_info": {
   "codemirror_mode": {
    "name": "ipython",
    "version": 3
   },
   "file_extension": ".py",
   "mimetype": "text/x-python",
   "name": "python",
   "nbconvert_exporter": "python",
   "pygments_lexer": "ipython3",
   "version": "3.12.2"
  }
 },
 "nbformat": 4,
 "nbformat_minor": 2
}
