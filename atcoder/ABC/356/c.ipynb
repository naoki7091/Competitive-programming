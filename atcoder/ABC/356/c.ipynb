{
 "cells": [
  {
   "cell_type": "markdown",
   "metadata": {},
   "source": [
    "# Keys\n",
    "* 鍵をn本持っている\n",
    "* ドアには何本でも差し込める\n",
    "* 正しい鍵をk本以上挿した時に空く\n",
    "* ただし、正しい鍵かどうかはわからない\n",
    "* M回挿すことができる\n",
    "\n",
    "* テストの結果に矛盾しないような組み合わせの個数を求める"
   ]
  },
  {
   "cell_type": "markdown",
   "metadata": {},
   "source": [
    "# 例1\n",
    "* 3本のカギ,2回の操作,ドアは2回以上正しい鍵を入れた時にあく\n",
    "* 3本挿した(1,2,3)->空いた\n",
    "* 2本挿した(2,3)->空かない\n",
    "### 考えられること\n",
    "* 2か3は正しくない->1は必ず正しい\n",
    "* (1 , 2) or (1 , 3)が答えになる"
   ]
  },
  {
   "cell_type": "code",
   "execution_count": 16,
   "metadata": {},
   "outputs": [],
   "source": [
    "n, m, k = map(int, input().split())\n",
    "\n",
    "a = [[] for _ in range(m)]\n",
    "\n",
    "r = [0]*m\n",
    "\n",
    "for i in range(m):\n",
    "    tmp = input().split()\n",
    "    c = int(tmp[0])\n",
    "    for j in range(c):\n",
    "        a[i].append(int(tmp[1 + j]) - 1)\n",
    "    if tmp[-1] == 'o':\n",
    "        r[i] = True\n",
    "    else:\n",
    "        r[i] = False\n",
    "\n",
    "ans = 0\n",
    "for key_all in range(1 << n):\n",
    "    ok = True\n",
    "    for i in range(m):\n",
    "        num_k = 0\n",
    "        for j in range(len(a[i])):\n",
    "            if (key_all & (1 << a[i][j])) != 0:\n",
    "                num_k += 1\n",
    "\n",
    "        if num_k >= k and not r[i]:\n",
    "            ok = False\n",
    "        if num_k < k and r[i]:\n",
    "            ok = False\n",
    "    if ok:\n",
    "        ans += 1\n",
    "\n",
    "print(ans)"
   ]
  },
  {
   "cell_type": "code",
   "execution_count": 17,
   "metadata": {},
   "outputs": [
    {
     "data": {
      "text/plain": [
       "([[0, 1, 2], [1, 2]], [True, False])"
      ]
     },
     "execution_count": 17,
     "metadata": {},
     "output_type": "execute_result"
    }
   ],
   "source": [
    "ans = 0\n",
    "for bit in range(1 << n):\n",
    "    ok = True\n",
    "    for i in range(len(a[i])):\n",
    "        num_k = 0\n",
    "        if (bit & (1 << a[i][j])) != 0:\n",
    "            num_k += 1"
   ]
  },
  {
   "cell_type": "code",
   "execution_count": 29,
   "metadata": {},
   "outputs": [
    {
     "name": "stdout",
     "output_type": "stream",
     "text": [
      "0b10\n",
      "0b10\n"
     ]
    }
   ],
   "source": [
    "print(bin(2))\n",
    "print(bin(1<<1))"
   ]
  }
 ],
 "metadata": {
  "kernelspec": {
   "display_name": "Python 3",
   "language": "python",
   "name": "python3"
  },
  "language_info": {
   "codemirror_mode": {
    "name": "ipython",
    "version": 3
   },
   "file_extension": ".py",
   "mimetype": "text/x-python",
   "name": "python",
   "nbconvert_exporter": "python",
   "pygments_lexer": "ipython3",
   "version": "3.12.2"
  }
 },
 "nbformat": 4,
 "nbformat_minor": 2
}
