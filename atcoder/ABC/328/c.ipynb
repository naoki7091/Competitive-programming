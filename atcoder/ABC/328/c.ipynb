{
 "cells": [
  {
   "cell_type": "code",
   "execution_count": 1,
   "metadata": {},
   "outputs": [],
   "source": [
    "n,q = map(int,input().split())\n",
    "\n",
    "s = list(input())"
   ]
  },
  {
   "cell_type": "code",
   "execution_count": 13,
   "metadata": {},
   "outputs": [
    {
     "data": {
      "text/plain": [
       "defaultdict(int, {1: 0, 2: 0, 3: 1, 4: 1, 5: 1, 6: 2, 7: 2, 8: 2, 9: 3, 10: 3})"
      ]
     },
     "execution_count": 13,
     "metadata": {},
     "output_type": "execute_result"
    }
   ],
   "source": [
    "# 連続の文字列を求めたいが、O(n)となってしまう\n",
    "# 最初に辞書でテーブル作っておく\n",
    "\n",
    "from collections import defaultdict\n",
    "\n",
    "table = defaultdict(int)\n",
    "\n",
    "count = 0\n",
    "\n",
    "for i in range(len(s) - 1):\n",
    "    if s[i] == s[i + 1]:\n",
    "        count += 1\n",
    "    \n",
    "    table[i + 1] = count\n",
    "\n",
    "table"
   ]
  },
  {
   "cell_type": "code",
   "execution_count": 12,
   "metadata": {},
   "outputs": [
    {
     "name": "stdout",
     "output_type": "stream",
     "text": [
      "1\n"
     ]
    },
    {
     "ename": "ValueError",
     "evalue": "not enough values to unpack (expected 2, got 0)",
     "output_type": "error",
     "traceback": [
      "\u001b[0;31m---------------------------------------------------------------------------\u001b[0m",
      "\u001b[0;31mValueError\u001b[0m                                Traceback (most recent call last)",
      "Cell \u001b[0;32mIn[12], line 13\u001b[0m\n\u001b[1;32m      9\u001b[0m         \u001b[38;5;28mprint\u001b[39m(\u001b[38;5;241m0\u001b[39m)\n\u001b[1;32m     12\u001b[0m \u001b[38;5;28;01mfor\u001b[39;00m i \u001b[38;5;129;01min\u001b[39;00m \u001b[38;5;28mrange\u001b[39m(q):\n\u001b[0;32m---> 13\u001b[0m     l,r \u001b[38;5;241m=\u001b[39m \u001b[38;5;28mmap\u001b[39m(\u001b[38;5;28mint\u001b[39m,\u001b[38;5;28minput\u001b[39m()\u001b[38;5;241m.\u001b[39msplit())\n\u001b[1;32m     14\u001b[0m     solution(l,r,table)\n",
      "\u001b[0;31mValueError\u001b[0m: not enough values to unpack (expected 2, got 0)"
     ]
    }
   ],
   "source": [
    "def solution(l,r,table):\n",
    "    print(table[r -1] - table[l - 1])\n",
    "\n",
    "\n",
    "for i in range(q):\n",
    "    l,r = map(int,input().split())\n",
    "    solution(l,r,table)"
   ]
  },
  {
   "cell_type": "code",
   "execution_count": null,
   "metadata": {},
   "outputs": [],
   "source": [
    "\n",
    "# 連続の文字列を求めたいが、O(n)となってしまう\n",
    "# 最初に辞書でテーブル作っておく\n",
    "\n",
    "\n",
    "n,q = map(int,input().split())\n",
    "\n",
    "s = list(input())\n",
    "\n",
    "from collections import defaultdict\n",
    "\n",
    "table = defaultdict(int)\n",
    "\n",
    "count = 0\n",
    "\n",
    "for i in range(len(s) - 1):\n",
    "    if s[i] == s[i + 1]:\n",
    "        count += 1\n",
    "    \n",
    "    table[i + 1] = count\n",
    "\n",
    "table\n",
    "\n",
    "def solution(l,r,table):\n",
    "    print(table[r - 1] - table[l - 1])\n",
    "\n",
    "\n",
    "for i in range(q):\n",
    "    l,r = map(int,input().split())\n",
    "    solution(l,r,table)"
   ]
  },
  {
   "cell_type": "code",
   "execution_count": null,
   "metadata": {},
   "outputs": [],
   "source": []
  }
 ],
 "metadata": {
  "kernelspec": {
   "display_name": "Python 3",
   "language": "python",
   "name": "python3"
  },
  "language_info": {
   "codemirror_mode": {
    "name": "ipython",
    "version": 3
   },
   "file_extension": ".py",
   "mimetype": "text/x-python",
   "name": "python",
   "nbconvert_exporter": "python",
   "pygments_lexer": "ipython3",
   "version": "3.12.2"
  }
 },
 "nbformat": 4,
 "nbformat_minor": 2
}
