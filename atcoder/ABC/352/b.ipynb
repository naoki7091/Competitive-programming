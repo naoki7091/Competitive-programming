{
 "cells": [
  {
   "cell_type": "code",
   "execution_count": 5,
   "metadata": {
    "metadata": {}
   },
   "outputs": [],
   "source": [
    "s = list(input())\n",
    "t = list(input())\n"
   ]
  },
  {
   "cell_type": "code",
   "execution_count": null,
   "metadata": {},
   "outputs": [],
   "source": [
    "def find_correct_positions(S, T):\n",
    "    correct_positions = []  \n",
    "    s_index = 0  \n",
    "    t_index = 0\n",
    "    while t_index < len(T):\n",
    "        if S[s_index] == T[t_index]:  # S と T の文字が一致する場合\n",
    "            correct_positions.append(t_index + 1)  # 正しい文字の位置を記録\n",
    "            s_index += 1\n",
    "        t_index += 1\n",
    "\n",
    "    return correct_positions\n",
    "\n",
    "s = list(input())\n",
    "t = list(input())\n",
    "positions = find_correct_positions(s, t)\n",
    "print(*positions)  # 結果を出力\n"
   ]
  },
  {
   "cell_type": "code",
   "execution_count": null,
   "metadata": {},
   "outputs": [],
   "source": [
    "s = list(input())\n",
    "t = list(input())\n",
    "\n",
    "index_s = 0\n",
    "\n",
    "for index_t in range(len(t)):\n",
    "    if t[index_t] == s[index_s]:\n",
    "        print(index_t + 1)\n",
    "        index_s += 1"
   ]
  }
 ],
 "metadata": {
  "kernelspec": {
   "display_name": "Python 3",
   "language": "python",
   "name": "python3"
  },
  "language_info": {
   "codemirror_mode": {
    "name": "ipython",
    "version": 3
   },
   "file_extension": ".py",
   "mimetype": "text/x-python",
   "name": "python",
   "nbconvert_exporter": "python",
   "pygments_lexer": "ipython3",
   "version": "3.12.2"
  }
 },
 "nbformat": 4,
 "nbformat_minor": 2
}
