{
 "cells": [
  {
   "cell_type": "code",
   "execution_count": 13,
   "metadata": {
    "metadata": {}
   },
   "outputs": [],
   "source": [
    "n,k = map(int,input().split())\n",
    "\n",
    "p = list(map(int,input().split()))"
   ]
  },
  {
   "cell_type": "code",
   "execution_count": 14,
   "metadata": {
    "metadata": {}
   },
   "outputs": [
    {
     "data": {
      "text/plain": [
       "{10: 1, 1: 2, 6: 3, 8: 4, 7: 5, 2: 6, 5: 7, 9: 8, 3: 9, 4: 10}"
      ]
     },
     "execution_count": 14,
     "metadata": {},
     "output_type": "execute_result"
    }
   ],
   "source": [
    "table = dict()\n",
    "\n",
    "for i in range(len(p)):\n",
    "    table[p[i]] = i + 1\n",
    "\n",
    "table"
   ]
  },
  {
   "cell_type": "code",
   "execution_count": 15,
   "metadata": {
    "metadata": {}
   },
   "outputs": [
    {
     "data": {
      "text/plain": [
       "{1: 2, 2: 6, 3: 9, 4: 10, 5: 7, 6: 3, 7: 5, 8: 4, 9: 8, 10: 1}"
      ]
     },
     "execution_count": 15,
     "metadata": {},
     "output_type": "execute_result"
    }
   ],
   "source": [
    "sorted_table = dict(sorted(table.items()))\n",
    "\n",
    "sorted_table\n",
    "\n"
   ]
  },
  {
   "cell_type": "code",
   "execution_count": 28,
   "metadata": {
    "metadata": {}
   },
   "outputs": [
    {
     "name": "stdout",
     "output_type": "stream",
     "text": [
      "最小値: inf\n"
     ]
    }
   ],
   "source": [
    "d = {1: 2, 2: 6, 3: 9, 4: 10, 5: 7, 6: 3, 7: 5, 8: 4, 9: 8, 10: 1}\n",
    "k = 5  # ここでkを指定\n",
    "\n",
    "min_difference = float('inf')\n",
    "\n",
    "for i in range(1, len(d) - k):\n",
    "    if all(d[j] < d[j + 1] for j in range(i, i + k - 1)):\n",
    "        difference = d[i + k] - d[i]\n",
    "        if difference < min_difference:\n",
    "            min_difference = difference\n",
    "\n",
    "print(\"最小値:\", min_difference)\n"
   ]
  }
 ],
 "metadata": {
  "kernelspec": {
   "display_name": "Python 3",
   "language": "python",
   "name": "python3"
  },
  "language_info": {
   "codemirror_mode": {
    "name": "ipython",
    "version": 3
   },
   "file_extension": ".py",
   "mimetype": "text/x-python",
   "name": "python",
   "nbconvert_exporter": "python",
   "pygments_lexer": "ipython3",
   "version": "3.12.2"
  }
 },
 "nbformat": 4,
 "nbformat_minor": 2
}
