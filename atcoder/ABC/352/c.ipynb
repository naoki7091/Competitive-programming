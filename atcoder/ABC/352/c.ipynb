{
 "cells": [
  {
   "cell_type": "code",
   "execution_count": 12,
   "metadata": {
    "metadata": {}
   },
   "outputs": [
    {
     "data": {
      "text/plain": [
       "[[4, 10], [5, 8], [2, 9]]"
      ]
     },
     "execution_count": 12,
     "metadata": {},
     "output_type": "execute_result"
    }
   ],
   "source": [
    "# 型の高さai\n",
    "# 頭の高さbi\n",
    "# n人の巨人を積み上げる\n",
    "# 頭の高さの最大値を出力\n",
    "n = int(input())\n",
    "\n",
    "\n",
    "table = []\n",
    "\n",
    "for i in range(n):\n",
    "    a,b = map(int,input().split())\n",
    "    table.append([a,b])\n",
    "\n",
    "table\n"
   ]
  },
  {
   "cell_type": "code",
   "execution_count": 13,
   "metadata": {
    "metadata": {}
   },
   "outputs": [
    {
     "data": {
      "text/plain": [
       "[[4, 10], [5, 8], [2, 9]]"
      ]
     },
     "execution_count": 13,
     "metadata": {},
     "output_type": "execute_result"
    }
   ],
   "source": [
    "table"
   ]
  },
  {
   "cell_type": "code",
   "execution_count": 14,
   "metadata": {
    "metadata": {}
   },
   "outputs": [
    {
     "name": "stdout",
     "output_type": "stream",
     "text": [
      "[[5, 8], [4, 10], [2, 9]]\n"
     ]
    }
   ],
   "source": [
    "sorted_table = sorted(table, key=lambda x: abs(x[0] - x[1]))\n",
    "\n",
    "print(sorted_table)"
   ]
  },
  {
   "cell_type": "code",
   "execution_count": 17,
   "metadata": {
    "metadata": {}
   },
   "outputs": [
    {
     "name": "stdout",
     "output_type": "stream",
     "text": [
      "18\n"
     ]
    }
   ],
   "source": [
    "sum_tall = 0\n",
    "for i in range(len(sorted_table)):\n",
    "    if i == len(sorted_table) - 1:\n",
    "        sum_tall += sorted_table[i][1]\n",
    "        break\n",
    "    sum_tall += sorted_table[i][0]\n",
    "\n",
    "print(sum_tall)"
   ]
  },
  {
   "cell_type": "code",
   "execution_count": null,
   "metadata": {},
   "outputs": [],
   "source": [
    "# 型の高さai\n",
    "# 頭の高さbi\n",
    "# n人の巨人を積み上げる\n",
    "# 頭の高さの最大値を出力\n",
    "n = int(input())\n",
    "\n",
    "\n",
    "table = []\n",
    "\n",
    "for i in range(n):\n",
    "    a,b = map(int,input().split())\n",
    "    table.append([a,b])\n",
    "\n",
    "table\n",
    "\n",
    "sorted_table = sorted(table, key=lambda x: abs(x[0] - x[1]))\n",
    "\n",
    "# print(sorted_table)\n",
    "\n",
    "sum_tall = 0\n",
    "for i in range(len(sorted_table)):\n",
    "    if i == len(sorted_table) - 1:\n",
    "        sum_tall += sorted_table[i][1]\n",
    "        break\n",
    "    sum_tall += sorted_table[i][0]\n",
    "\n",
    "print(sum_tall)\n"
   ]
  },
  {
   "cell_type": "code",
   "execution_count": null,
   "metadata": {},
   "outputs": [],
   "source": [
    "n = int(input())\n",
    "\n",
    "\n",
    "table = []\n",
    "a = []\n",
    "b = []\n",
    "max_amib = 0\n",
    "\n",
    "\n",
    "for i in range(n):\n",
    "    tmpa,tmpb = map(int,input().split())\n",
    "    a.append(tmpa)\n",
    "    b.append(tmpb)\n",
    "    max_amib = max(max_amib,tmpb - tmpa)\n",
    "\n",
    "print(sum(a) + max_amib)"
   ]
  }
 ],
 "metadata": {
  "kernelspec": {
   "display_name": "Python 3",
   "language": "python",
   "name": "python3"
  },
  "language_info": {
   "codemirror_mode": {
    "name": "ipython",
    "version": 3
   },
   "file_extension": ".py",
   "mimetype": "text/x-python",
   "name": "python",
   "nbconvert_exporter": "python",
   "pygments_lexer": "ipython3",
   "version": "3.12.2"
  }
 },
 "nbformat": 4,
 "nbformat_minor": 2
}
