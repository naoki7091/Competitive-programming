{
 "cells": [
  {
   "cell_type": "code",
   "execution_count": 40,
   "metadata": {},
   "outputs": [
    {
     "name": "stdout",
     "output_type": "stream",
     "text": [
      "1\n"
     ]
    }
   ],
   "source": [
    "from collections import defaultdict\n",
    "\n",
    "def input_ab(m,n):\n",
    "    ab_list = [0]*(n)\n",
    "    for _ in range(m):\n",
    "        a,b = map(int,input().split())\n",
    "        ab_list[b-1] += 1\n",
    "    \n",
    "    return ab_list\n",
    "\n",
    "def chek(ab):\n",
    "    ans_count = 0\n",
    "    ans_pos = 0\n",
    "    for i in range(len(ab)):\n",
    "        if ab[i] == 0:\n",
    "            ans_count += 1\n",
    "            ans_pos = i\n",
    "\n",
    "    if ans_count != 1:\n",
    "        return \"-1\"\n",
    "    else:\n",
    "        return ans_pos + 1\n",
    "        \n",
    "\n",
    "\n",
    "N,M = map(int,input().split())\n",
    "\n",
    "AB = input_ab(M,N)\n",
    "\n",
    "print(chek(AB))\n",
    "\n"
   ]
  },
  {
   "cell_type": "code",
   "execution_count": 36,
   "metadata": {},
   "outputs": [
    {
     "name": "stdout",
     "output_type": "stream",
     "text": [
      "[6]\n",
      "[5, 2]\n",
      "[3]\n",
      "[3, 2]\n",
      "{2, 3, 5, 6}\n"
     ]
    }
   ],
   "source": [
    "ex = {1: [6], 6: [5, 2], 2: [3], 4: [3, 2]}\n",
    "\n",
    "\n",
    "def chek():\n",
    "    dict_ab_val = dict_ab.values()\n",
    "    val_judge = set()\n",
    "    for v in dict_ab_val:\n",
    "        print(v)\n",
    "        for num in v:\n",
    "            val_judge.add(num)\n",
    "    print(val_judge)\n",
    "\n",
    "chek(ex)"
   ]
  }
 ],
 "metadata": {
  "kernelspec": {
   "display_name": "Python 3",
   "language": "python",
   "name": "python3"
  },
  "language_info": {
   "codemirror_mode": {
    "name": "ipython",
    "version": 3
   },
   "file_extension": ".py",
   "mimetype": "text/x-python",
   "name": "python",
   "nbconvert_exporter": "python",
   "pygments_lexer": "ipython3",
   "version": "3.12.2"
  }
 },
 "nbformat": 4,
 "nbformat_minor": 2
}
