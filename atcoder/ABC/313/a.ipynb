{
 "cells": [
  {
   "cell_type": "code",
   "execution_count": null,
   "metadata": {},
   "outputs": [],
   "source": [
    "N = int(input())\n",
    "\n",
    "def input_p(n):\n",
    "    p = list(map(int,input().split()))\n",
    "    return p\n",
    "\n",
    "def check(p):\n",
    "    p1 = p[0]\n",
    "\n",
    "    p_max = max(p[1:])\n",
    "    if p1 > p_max:\n",
    "        return 0\n",
    "    \n",
    "    ans = p_max - p1 + 1\n",
    "    return ans\n",
    "\n",
    "\n",
    "P = input_p(N)\n",
    "\n",
    "if N == 1:\n",
    "    print(0)\n",
    "else:\n",
    "    print(check(P))"
   ]
  }
 ],
 "metadata": {
  "kernelspec": {
   "display_name": "Python 3",
   "language": "python",
   "name": "python3"
  },
  "language_info": {
   "name": "python",
   "version": "3.12.2"
  }
 },
 "nbformat": 4,
 "nbformat_minor": 2
}
