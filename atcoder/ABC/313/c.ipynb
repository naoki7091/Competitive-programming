{
 "cells": [
  {
   "cell_type": "code",
   "execution_count": 95,
   "metadata": {},
   "outputs": [],
   "source": [
    "def input_n_a():\n",
    "    n = int(input())\n",
    "    a = list(map(int,input().split()))\n",
    "    return n,a\n",
    "\n",
    "N , A = input_n_a()\n",
    "\n",
    "def check(a,n):\n",
    "    sum_a = sum(a)\n",
    "    ans = 0\n",
    "    ave_a = sum_a//n\n",
    "    if sum_a%n == 0:\n",
    "        for num in a:\n",
    "            if num < ave_a:\n",
    "                ans += abs(num-ave_a)\n",
    "        return ans\n",
    "    else:\n",
    "        res_1 = 0\n",
    "        res_2 = 0\n",
    "        for num in a:\n",
    "            if num < ave_a:\n",
    "                res_1 += abs(num - ave_a)\n",
    "            elif num > ave_a + 1:\n",
    "                res_2 += abs(num - (ave_a + 1))\n",
    "        return max(res_1,res_2)\n",
    "\n",
    "print(check(A,N))\n"
   ]
  },
  {
   "cell_type": "code",
   "execution_count": 37,
   "metadata": {},
   "outputs": [
    {
     "data": {
      "text/plain": [
       "{0: 999999997,\n",
       " 1: 999999999,\n",
       " 2: 4,\n",
       " 3: 3,\n",
       " 4: 2,\n",
       " 5: 4,\n",
       " 6: 999999990,\n",
       " 7: 8,\n",
       " 8: 999999991,\n",
       " 9: 999999993}"
      ]
     },
     "execution_count": 37,
     "metadata": {},
     "output_type": "execute_result"
    }
   ],
   "source": [
    "A\n",
    "    "
   ]
  },
  {
   "cell_type": "code",
   "execution_count": 29,
   "metadata": {},
   "outputs": [
    {
     "data": {
      "text/plain": [
       "999999999"
      ]
     },
     "execution_count": 29,
     "metadata": {},
     "output_type": "execute_result"
    }
   ],
   "source": [
    "max(A.values())"
   ]
  },
  {
   "cell_type": "code",
   "execution_count": 96,
   "metadata": {},
   "outputs": [
    {
     "name": "stdout",
     "output_type": "stream",
     "text": [
      "6\n"
     ]
    }
   ],
   "source": [
    "def check(a,n):\n",
    "    sum_a = sum(a)\n",
    "    ans = 0\n",
    "    ave_a = sum_a//n\n",
    "    if sum_a%n == 0:\n",
    "        for num in a:\n",
    "            if num < ave_a:\n",
    "                ans += abs(num-ave_a)\n",
    "        return ans\n",
    "    else:\n",
    "        res_1 = 0\n",
    "        res_2 = 0\n",
    "        for num in a:\n",
    "            if num < ave_a:\n",
    "                res_1 += abs(num - ave_a)\n",
    "            elif num > ave_a + 1:\n",
    "                res_2 += abs(num - ave_a + 1)\n",
    "        return max(res_1,res_2)\n",
    "\n",
    "print(check(A,N))\n"
   ]
  },
  {
   "cell_type": "code",
   "execution_count": 88,
   "metadata": {},
   "outputs": [
    {
     "data": {
      "text/plain": [
       "499999998"
      ]
     },
     "execution_count": 88,
     "metadata": {},
     "output_type": "execute_result"
    }
   ],
   "source": [
    "(999999999 -2)//2"
   ]
  },
  {
   "cell_type": "code",
   "execution_count": null,
   "metadata": {},
   "outputs": [],
   "source": [
    "3,4,6,7"
   ]
  },
  {
   "cell_type": "code",
   "execution_count": 61,
   "metadata": {},
   "outputs": [],
   "source": [
    "n = int(input())\n",
    "\n",
    "a = list(map(int,input().split()))\n",
    "\n",
    "\n",
    "sum_a = sum(a)\n",
    "ave_a = sum_a//n\n",
    "\n",
    "\n",
    "ans_1 = 0\n",
    "ans_2 = 0\n",
    "for i in range(n):\n",
    "    if a[i] <= ave_a:\n",
    "        ans_1 += ave_a - a[i]\n",
    "    elif a[i] > ave_a + 1:\n",
    "        ans_2 += a[i] - (ave_a + 1)\n",
    "print(max(ans_1,ans_2))"
   ]
  }
 ],
 "metadata": {
  "kernelspec": {
   "display_name": "Python 3",
   "language": "python",
   "name": "python3"
  },
  "language_info": {
   "codemirror_mode": {
    "name": "ipython",
    "version": 3
   },
   "file_extension": ".py",
   "mimetype": "text/x-python",
   "name": "python",
   "nbconvert_exporter": "python",
   "pygments_lexer": "ipython3",
   "version": "3.12.2"
  }
 },
 "nbformat": 4,
 "nbformat_minor": 2
}
