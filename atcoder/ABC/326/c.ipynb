{
 "cells": [
  {
   "cell_type": "code",
   "execution_count": 1,
   "metadata": {},
   "outputs": [],
   "source": [
    "# ｎプレゼント\n",
    "# ｍ区間指定\n",
    "# 求めるのはもらえるプレゼントの最大（ｘの指定）\n",
    "\n",
    "n , m = map(int,input().split())\n",
    "\n",
    "a = list(map(int,input().split()))\n",
    "\n",
    "import bisect\n",
    "\n",
    "a.sort()\n",
    "\n",
    "ans = 0\n",
    "\n",
    "for i in range(n):\n",
    "    # ai + m の挿入インデックス(左)を求める->全部もらえるから、現在のインデックスを引く\n",
    "    present = bisect.bisect_left(a,a[i] + m) - i\n",
    "    ans = max(ans,present)\n",
    "\n",
    "print(ans)"
   ]
  },
  {
   "cell_type": "code",
   "execution_count": 15,
   "metadata": {},
   "outputs": [
    {
     "ename": "TypeError",
     "evalue": "'int' object is not callable",
     "output_type": "error",
     "traceback": [
      "\u001b[0;31m---------------------------------------------------------------------------\u001b[0m",
      "\u001b[0;31mTypeError\u001b[0m                                 Traceback (most recent call last)",
      "Cell \u001b[0;32mIn[15], line 11\u001b[0m\n\u001b[1;32m      8\u001b[0m     present \u001b[38;5;241m=\u001b[39m bisect\u001b[38;5;241m.\u001b[39mbisect_left(a,a[i] \u001b[38;5;241m+\u001b[39m m) \u001b[38;5;241m-\u001b[39m i\n\u001b[1;32m      9\u001b[0m     ans \u001b[38;5;241m=\u001b[39m \u001b[38;5;28mmax\u001b[39m(ans,present)\n\u001b[0;32m---> 11\u001b[0m \u001b[43mpresent\u001b[49m\u001b[43m(\u001b[49m\u001b[43mans\u001b[49m\u001b[43m)\u001b[49m\n",
      "\u001b[0;31mTypeError\u001b[0m: 'int' object is not callable"
     ]
    }
   ],
   "source": [
    "import bisect\n",
    "\n",
    "a.sort()\n",
    "\n",
    "ans = 0\n",
    "\n",
    "for i in range(n):\n",
    "    present = bisect.bisect_left(a,a[i] + m) - i\n",
    "    ans = max(ans,present)\n",
    "\n",
    "print(ans)"
   ]
  },
  {
   "cell_type": "code",
   "execution_count": 25,
   "metadata": {},
   "outputs": [
    {
     "name": "stdout",
     "output_type": "stream",
     "text": [
      "8\n",
      "7\n",
      "8\n"
     ]
    }
   ],
   "source": [
    "import bisect\n",
    "\n",
    "# bisect(list,int)\n",
    "# listはもちろん配列でintが配列に挿入したい位置を示す\n",
    "# 返値は、挿入した時のインデックスを返す。\n",
    "\n",
    "list1 = [0, 1, 2, 3, 4, 5, 6, 7, 8, 9]\n",
    "want_insert = 7\n",
    "\n",
    "print(bisect.bisect(list1,want_insert)) # 8:つまり、8のインデックスに挿入する\n",
    "\n",
    "\n",
    "print(bisect.bisect_left(list1,want_insert)) # 7:つまり、8のインデックスに入れるが、その左のインデックスを表示\n",
    "\n",
    "\n",
    "print(bisect.bisect_right(list1,want_insert)) # 8:つまり、8のインデックスに入れるが、その左のインデックスを表示"
   ]
  }
 ],
 "metadata": {
  "kernelspec": {
   "display_name": "Python 3",
   "language": "python",
   "name": "python3"
  },
  "language_info": {
   "codemirror_mode": {
    "name": "ipython",
    "version": 3
   },
   "file_extension": ".py",
   "mimetype": "text/x-python",
   "name": "python",
   "nbconvert_exporter": "python",
   "pygments_lexer": "ipython3",
   "version": "3.12.2"
  }
 },
 "nbformat": 4,
 "nbformat_minor": 2
}
