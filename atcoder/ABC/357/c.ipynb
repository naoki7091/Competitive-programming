{
 "cells": [
  {
   "cell_type": "code",
   "execution_count": 77,
   "metadata": {},
   "outputs": [
    {
     "name": "stdout",
     "output_type": "stream",
     "text": [
      "#\n"
     ]
    },
    {
     "ename": "SystemExit",
     "evalue": "",
     "output_type": "error",
     "traceback": [
      "An exception has occurred, use %tb to see the full traceback.\n",
      "\u001b[0;31mSystemExit\u001b[0m\n"
     ]
    },
    {
     "name": "stderr",
     "output_type": "stream",
     "text": [
      "/root/.local/lib/python3.12/site-packages/IPython/core/interactiveshell.py:3585: UserWarning: To exit: use 'exit', 'quit', or Ctrl-D.\n",
      "  warn(\"To exit: use 'exit', 'quit', or Ctrl-D.\", stacklevel=1)\n"
     ]
    }
   ],
   "source": [
    "import sys\n",
    "n = int(input())\n",
    "\n",
    "\n",
    "before = [[\"#\"]]\n",
    "\n",
    "if n == 0:\n",
    "    print(\"#\")\n",
    "    sys.exit()\n",
    "for ni in range(n):\n",
    "    before_carpet_size = len(before)\n",
    "    next_carpet_size = before_carpet_size*3\n",
    "    carpet = [[\".\" for _ in range(next_carpet_size)] for _ in range(next_carpet_size)]\n",
    "    for i in range(len(carpet)):\n",
    "        for j in range(len(carpet)):\n",
    "            # どのブロックに属するのかを判定する\n",
    "            if (i // before_carpet_size == 1 and j // before_carpet_size == 1):\n",
    "                carpet[i][j] = \".\"\n",
    "            else:\n",
    "                carpet[i][j] = before[i%before_carpet_size][j%before_carpet_size]\n",
    "    \n",
    "    before = carpet\n",
    "\n",
    "for i in range(len(carpet)):\n",
    "    print(*carpet[i] , sep=\"\")"
   ]
  },
  {
   "cell_type": "code",
   "execution_count": 63,
   "metadata": {},
   "outputs": [
    {
     "name": "stdout",
     "output_type": "stream",
     "text": [
      "#########\n",
      "#.##.##.#\n",
      "#########\n",
      "###...###\n",
      "#.#...#.#\n",
      "###...###\n",
      "#########\n",
      "#.##.##.#\n",
      "#########\n"
     ]
    }
   ],
   "source": [
    "n = int(input())\n",
    "\n",
    "before = [[\"#\"]]\n",
    "\n",
    "for ni in range(n):\n",
    "    before_carpet_size = len(before)\n",
    "    next_carpet_size = before_carpet_size * 3\n",
    "    carpet = [[\".\" for _ in range(next_carpet_size)] for _ in range(next_carpet_size)]\n",
    "    \n",
    "    for i in range(next_carpet_size):\n",
    "        for j in range(next_carpet_size):\n",
    "            if (i // before_carpet_size == 1 and j // before_carpet_size == 1):\n",
    "                carpet[i][j] = \".\"\n",
    "            else:\n",
    "                carpet[i][j] = before[i % before_carpet_size][j % before_carpet_size]\n",
    "    \n",
    "    before = carpet\n",
    "\n",
    "for row in carpet:\n",
    "    print(\"\".join(row))\n"
   ]
  },
  {
   "cell_type": "code",
   "execution_count": 33,
   "metadata": {},
   "outputs": [
    {
     "data": {
      "text/plain": [
       "[['#', '#', '#'], ['#', '.', '#'], ['#', '#', '#']]"
      ]
     },
     "execution_count": 33,
     "metadata": {},
     "output_type": "execute_result"
    }
   ],
   "source": [
    "n = int(input())\n",
    "\n",
    "carpet_size = 3**n\n",
    "\n",
    "carpet = [[\".\" for _ in range(carpet_size)] for _ in range(carpet_size)]\n",
    "\n",
    "def solution(carpet_size , i , j):\n",
    "    if carpet_size == 1:\n",
    "        carpet[i][j] = \"#\"\n",
    "        return\n",
    "    \n",
    "    block = carpet_size//3\n",
    "    \n",
    "    for block_i in range(3):\n",
    "        for block_j in range(3):\n",
    "            if block_i == 1 and block_j == 1:\n",
    "                continue\n",
    "            solution(block , i + block_i*block , j + block_j*block)\n",
    "            \n",
    "solution(carpet_size , 0 , 0)\n",
    "\n",
    "carpet"
   ]
  },
  {
   "cell_type": "code",
   "execution_count": null,
   "metadata": {},
   "outputs": [],
   "source": []
  }
 ],
 "metadata": {
  "kernelspec": {
   "display_name": "Python 3",
   "language": "python",
   "name": "python3"
  },
  "language_info": {
   "codemirror_mode": {
    "name": "ipython",
    "version": 3
   },
   "file_extension": ".py",
   "mimetype": "text/x-python",
   "name": "python",
   "nbconvert_exporter": "python",
   "pygments_lexer": "ipython3",
   "version": "3.12.2"
  }
 },
 "nbformat": 4,
 "nbformat_minor": 2
}
