{
 "cells": [
  {
   "cell_type": "code",
   "execution_count": 1,
   "metadata": {},
   "outputs": [],
   "source": [
    "import math\n",
    "n = int(input())\n"
   ]
  },
  {
   "cell_type": "code",
   "execution_count": 12,
   "metadata": {},
   "outputs": [
    {
     "name": "stdout",
     "output_type": "stream",
     "text": [
      "2\n",
      "5\n",
      "12\n",
      "34\n",
      "16\n",
      "39\n",
      "94\n",
      "230\n",
      "100\n",
      "237\n",
      "552\n",
      "1274\n",
      "2888\n"
     ]
    },
    {
     "data": {
      "text/plain": [
       "2888"
      ]
     },
     "execution_count": 12,
     "metadata": {},
     "output_type": "execute_result"
    }
   ],
   "source": [
    "\n",
    "m = {}\n",
    "n = int(input())\n",
    "\n",
    "def f(n):\n",
    "    if n <= 1:\n",
    "        return 0\n",
    "    \n",
    "    if n not in m:\n",
    "        m[n] = n + f(n//2) + f((n + 1)//2)\n",
    "    \n",
    "    return m[n]\n",
    "\n",
    "f(n)"
   ]
  }
 ],
 "metadata": {
  "kernelspec": {
   "display_name": "Python 3",
   "language": "python",
   "name": "python3"
  },
  "language_info": {
   "codemirror_mode": {
    "name": "ipython",
    "version": 3
   },
   "file_extension": ".py",
   "mimetype": "text/x-python",
   "name": "python",
   "nbconvert_exporter": "python",
   "pygments_lexer": "ipython3",
   "version": "3.12.2"
  }
 },
 "nbformat": 4,
 "nbformat_minor": 2
}
