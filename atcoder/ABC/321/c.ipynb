{
 "cells": [
  {
   "cell_type": "code",
   "execution_count": null,
   "metadata": {},
   "outputs": [],
   "source": [
    "1,2,3,4,5,6,7,8,9\n",
    "10\n",
    "20,21\n",
    "30,31,32\n",
    "40,41,42,43\n",
    "\n",
    "210\n"
   ]
  },
  {
   "cell_type": "code",
   "execution_count": null,
   "metadata": {},
   "outputs": [],
   "source": [
    "k = int(input())\n",
    "\n",
    "ans = []\n",
    "def dfs(n, start=9, current=\"\"):\n",
    "    if n == 0:\n",
    "        ans.append(int(current))\n",
    "    else:\n",
    "        for i in range(start, -1, -1):\n",
    "            dfs(n - 1, i - 1, current + str(i))\n",
    "\n",
    "\n",
    "for i in range(1,10):\n",
    "    dfs(i)\n",
    "\n",
    "ans.sort()\n",
    "\n",
    "if k < len(ans):\n",
    "    print(ans[k])\n",
    "else:\n",
    "    print(9876543210)"
   ]
  },
  {
   "cell_type": "code",
   "execution_count": 47,
   "metadata": {},
   "outputs": [],
   "source": [
    "\n",
    "\n",
    "ans = []\n",
    "\n",
    "for i in range(1,10):\n",
    "    ans.append(i)"
   ]
  },
  {
   "cell_type": "code",
   "execution_count": 58,
   "metadata": {},
   "outputs": [
    {
     "name": "stdout",
     "output_type": "stream",
     "text": [
      "9 8 7 6 5 4 3 2 1 0\n"
     ]
    },
    {
     "data": {
      "text/plain": [
       "[1, 2, 3, 4, 5, 6, 7, 8, 9]"
      ]
     },
     "execution_count": 58,
     "metadata": {},
     "output_type": "execute_result"
    }
   ],
   "source": [
    "j = 0\n",
    "for i in range(1,10):\n",
    "    for j in range(0,i):\n",
    "        for k in range(0,j):\n",
    "            for l in range(0,k):\n",
    "                for q in range(0,l):\n",
    "                    for w in range(0,q):\n",
    "                        for e in range(0,w):\n",
    "                            for r in range(0,e):\n",
    "                                for t in range(0,r):\n",
    "                                    for y in range(0,t):\n",
    "                                        print(i,j,k,l,q,w,e,r,t,y)\n",
    "\n",
    "ans = []\n",
    "def dfs(start):\n",
    "    for i in range(start,10):\n",
    "        ans.append(i)\n",
    "\n",
    "    dfs(i)\n",
    "\n",
    "\n",
    "start = 1\n",
    "\n",
    "dfs(start)\n",
    "\n",
    "ans"
   ]
  },
  {
   "cell_type": "code",
   "execution_count": 79,
   "metadata": {},
   "outputs": [
    {
     "data": {
      "text/plain": [
       "987654321"
      ]
     },
     "execution_count": 79,
     "metadata": {},
     "output_type": "execute_result"
    }
   ],
   "source": [
    "ans = []\n",
    "def dfs(n, start=9, current=\"\"):\n",
    "    if n == 0:\n",
    "        ans.append(int(current))\n",
    "    else:\n",
    "        for i in range(start, -1, -1):\n",
    "            dfs(n - 1, i - 1, current + str(i))\n",
    "\n",
    "\n",
    "for i in range(1,10):\n",
    "    dfs(i)\n",
    "\n",
    "ans.sort()\n",
    "\n",
    "\n",
    "len(ans)\n",
    "\n",
    "ans[1021]"
   ]
  }
 ],
 "metadata": {
  "kernelspec": {
   "display_name": "Python 3",
   "language": "python",
   "name": "python3"
  },
  "language_info": {
   "codemirror_mode": {
    "name": "ipython",
    "version": 3
   },
   "file_extension": ".py",
   "mimetype": "text/x-python",
   "name": "python",
   "nbconvert_exporter": "python",
   "pygments_lexer": "ipython3",
   "version": "3.12.2"
  }
 },
 "nbformat": 4,
 "nbformat_minor": 2
}
