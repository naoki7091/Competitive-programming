{
 "cells": [
  {
   "cell_type": "code",
   "execution_count": 14,
   "metadata": {},
   "outputs": [
    {
     "data": {
      "text/plain": [
       "{4: 1, 1: 2, 0: 3, 5: 4, 3: 5, 2: 6}"
      ]
     },
     "execution_count": 14,
     "metadata": {},
     "output_type": "execute_result"
    }
   ],
   "source": [
    "import sys\n",
    "sys.setrecursionlimit(10 ** 9)\n",
    "\n",
    "n = int(input())\n",
    "\n",
    "a = list(map(int,input().split()))\n",
    "\n",
    "table = {}\n",
    "\n",
    "for i in range(len(a)):\n",
    "    if a[i] == -1:\n",
    "        table[0] = i + 1\n",
    "    else:\n",
    "        table[a[i]] = i + 1\n",
    "table\n",
    "\n",
    "ans = []\n",
    "# ans.append(table[0])\n",
    "\n",
    "\n",
    "def dfs(num):\n",
    "    if len(ans) == n:\n",
    "        return\n",
    "    \n",
    "    ans.append(table[num])\n",
    "\n",
    "    dfs(table[num])\n",
    "\n",
    "\n",
    "dfs(0)\n",
    "\n",
    "print(*ans)"
   ]
  },
  {
   "cell_type": "code",
   "execution_count": 18,
   "metadata": {},
   "outputs": [
    {
     "name": "stdout",
     "output_type": "stream",
     "text": [
      "3 5 4 1 2\n"
     ]
    }
   ],
   "source": [
    "ans = []\n",
    "# ans.append(table[0])\n",
    "\n",
    "\n",
    "def dfs(num):\n",
    "    if len(ans) == n:\n",
    "        return\n",
    "    \n",
    "    ans.append(table[num])\n",
    "\n",
    "    dfs(table[num])\n",
    "\n",
    "\n",
    "dfs(0)\n",
    "\n",
    "print(*ans)"
   ]
  }
 ],
 "metadata": {
  "kernelspec": {
   "display_name": "Python 3",
   "language": "python",
   "name": "python3"
  },
  "language_info": {
   "codemirror_mode": {
    "name": "ipython",
    "version": 3
   },
   "file_extension": ".py",
   "mimetype": "text/x-python",
   "name": "python",
   "nbconvert_exporter": "python",
   "pygments_lexer": "ipython3",
   "version": "3.12.2"
  }
 },
 "nbformat": 4,
 "nbformat_minor": 2
}
