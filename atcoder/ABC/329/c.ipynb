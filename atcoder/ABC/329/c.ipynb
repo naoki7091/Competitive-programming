{
 "cells": [
  {
   "cell_type": "code",
   "execution_count": 13,
   "metadata": {},
   "outputs": [
    {
     "name": "stdout",
     "output_type": "stream",
     "text": [
      "{'a': 0, 'b': 0, 'c': 0, 'd': 0, 'e': 0, 'f': 0, 'g': 0, 'h': 0, 'i': 0, 'j': 0, 'k': 0, 'l': 0, 'm': 0, 'n': 0, 'o': 0, 'p': 0, 'q': 0, 'r': 0, 's': 0, 't': 0, 'u': 0, 'v': 0, 'w': 0, 'x': 1, 'y': 0, 'z': 0}\n",
      "1\n"
     ]
    }
   ],
   "source": [
    "n = int(input())\n",
    "\n",
    "s = list(input())\n",
    "\n",
    "\n",
    "# aaabaaから1種類の部分文字列を出力\n",
    "# a:3,b:1みたいに辞書ごとに連続成分をまとめたい\n",
    "# from collections import defaultdict\n",
    "\n",
    "komoji = [\"a\",\"b\",\"c\",\"d\",\"e\",\"f\",\"g\",\"h\",\"i\",\"j\",\"k\",\"l\",\"m\",\"n\",\"o\",\"p\",\"q\",\"r\",\"s\",\"t\",\"u\",\"v\",\"w\",\"x\",\"y\",\"z\"]\n",
    "\n",
    "table = {}\n",
    "\n",
    "for ch in komoji:\n",
    "    table[ch] = 0\n",
    "\n",
    "count = 0\n",
    "# print(len(komoji))\n",
    "for i in range(len(komoji)):\n",
    "    count = 0\n",
    "    for j in range(len(s)):\n",
    "        if komoji[i] == s[j]:\n",
    "            count += 1\n",
    "        else:\n",
    "            table[komoji[i]] = max(count,table[komoji[i]])\n",
    "            count = 0\n",
    "    table[komoji[i]] = max(count,table[komoji[i]])\n",
    "\n",
    "# print(table)\n",
    "ans = 0\n",
    "for k,v in table.items():\n",
    "    if v:\n",
    "        ans += v\n",
    "    else:\n",
    "        continue\n",
    "\n",
    "print(ans)\n"
   ]
  },
  {
   "cell_type": "code",
   "execution_count": 10,
   "metadata": {},
   "outputs": [
    {
     "name": "stdout",
     "output_type": "stream",
     "text": [
      "4\n"
     ]
    }
   ],
   "source": [
    "# aaabaaから1種類の部分文字列を出力\n",
    "# a:3,b:1みたいに辞書ごとに連続成分をまとめたい\n",
    "# from collections import defaultdict\n",
    "\n",
    "komoji = [\"a\",\"b\",\"c\",\"d\",\"e\",\"f\",\"g\",\"h\",\"i\",\"j\",\"k\",\"l\",\"m\",\"n\",\"o\",\"p\",\"q\",\"r\",\"s\",\"t\",\"u\",\"v\",\"w\",\"x\",\"y\",\"z\"]\n",
    "\n",
    "table = {}\n",
    "\n",
    "for ch in komoji:\n",
    "    table[ch] = 0\n",
    "\n",
    "count = 0\n",
    "# print(len(komoji))\n",
    "for i in range(len(komoji)):\n",
    "    count = 0\n",
    "    for j in range(len(s)):\n",
    "        if komoji[i] == s[j]:\n",
    "            count += 1\n",
    "        else:\n",
    "            table[komoji[i]] = max(count,table[komoji[i]])\n",
    "            count = 0\n",
    "\n",
    "ans = 0\n",
    "for k,v in table.items():\n",
    "    if v:\n",
    "        ans += v\n",
    "    else:\n",
    "        continue\n",
    "\n",
    "print(ans)\n"
   ]
  },
  {
   "cell_type": "code",
   "execution_count": null,
   "metadata": {},
   "outputs": [],
   "source": [
    "aaaa\n",
    "a,aa,aaa,aaaa"
   ]
  },
  {
   "cell_type": "code",
   "execution_count": null,
   "metadata": {},
   "outputs": [],
   "source": []
  }
 ],
 "metadata": {
  "kernelspec": {
   "display_name": "Python 3",
   "language": "python",
   "name": "python3"
  },
  "language_info": {
   "codemirror_mode": {
    "name": "ipython",
    "version": 3
   },
   "file_extension": ".py",
   "mimetype": "text/x-python",
   "name": "python",
   "nbconvert_exporter": "python",
   "pygments_lexer": "ipython3",
   "version": "3.12.2"
  }
 },
 "nbformat": 4,
 "nbformat_minor": 2
}
