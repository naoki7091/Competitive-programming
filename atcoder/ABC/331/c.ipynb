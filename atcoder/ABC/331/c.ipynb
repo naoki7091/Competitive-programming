{
 "cells": [
  {
   "cell_type": "code",
   "execution_count": 22,
   "metadata": {
    "metadata": {}
   },
   "outputs": [],
   "source": [
    "n = int(input())\n",
    "\n",
    "a = list(map(int,input().split()))"
   ]
  },
  {
   "cell_type": "code",
   "execution_count": 23,
   "metadata": {
    "metadata": {}
   },
   "outputs": [
    {
     "data": {
      "text/plain": [
       "536"
      ]
     },
     "execution_count": 23,
     "metadata": {},
     "output_type": "execute_result"
    }
   ],
   "source": [
    "sum_a = sum(a)\n",
    "sum_a"
   ]
  },
  {
   "cell_type": "code",
   "execution_count": 24,
   "metadata": {
    "metadata": {}
   },
   "outputs": [
    {
     "data": {
      "text/plain": [
       "defaultdict(int,\n",
       "            {31: 31,\n",
       "             42: 42,\n",
       "             59: 59,\n",
       "             26: 26,\n",
       "             53: 53,\n",
       "             58: 58,\n",
       "             97: 97,\n",
       "             93: 93,\n",
       "             23: 23,\n",
       "             54: 54})"
      ]
     },
     "execution_count": 24,
     "metadata": {},
     "output_type": "execute_result"
    }
   ],
   "source": [
    "from collections import defaultdict\n",
    "table = defaultdict(int)\n",
    "for i in range(n):\n",
    "    table[a[i]] += a[i]\n",
    "\n",
    "table"
   ]
  },
  {
   "cell_type": "code",
   "execution_count": 28,
   "metadata": {
    "metadata": {}
   },
   "outputs": [
    {
     "data": {
      "text/plain": [
       "[23, 26, 31, 42, 53, 54, 58, 59, 93, 97]"
      ]
     },
     "execution_count": 28,
     "metadata": {},
     "output_type": "execute_result"
    }
   ],
   "source": [
    "a_sort_set = sorted(list(set(a)))\n",
    "\n"
   ]
  },
  {
   "cell_type": "code",
   "execution_count": 31,
   "metadata": {
    "metadata": {}
   },
   "outputs": [
    {
     "name": "stdout",
     "output_type": "stream",
     "text": [
      "456 414 190 487 361 249 0 97 513 307\n"
     ]
    }
   ],
   "source": [
    "table_sum = defaultdict(int)\n",
    "tmp = 0\n",
    "for i in range(len(a_sort_set)):\n",
    "    tmp += table[a_sort_set[i]]\n",
    "    table_sum[a_sort_set[i]] = tmp\n",
    "\n",
    "ans = []\n",
    "for i in range(len(a)):\n",
    "    ans.append(sum_a - table_sum[a[i]])\n",
    "\n",
    "\n",
    "print(*ans)"
   ]
  },
  {
   "cell_type": "code",
   "execution_count": 30,
   "metadata": {
    "metadata": {}
   },
   "outputs": [
    {
     "ename": "ValueError",
     "evalue": "invalid literal for int() with base 10: ''",
     "output_type": "error",
     "traceback": [
      "\u001b[0;31m---------------------------------------------------------------------------\u001b[0m",
      "\u001b[0;31mValueError\u001b[0m                                Traceback (most recent call last)",
      "Cell \u001b[0;32mIn[30], line 2\u001b[0m\n\u001b[1;32m      1\u001b[0m \u001b[38;5;28;01mfrom\u001b[39;00m \u001b[38;5;21;01mcollections\u001b[39;00m \u001b[38;5;28;01mimport\u001b[39;00m defaultdict\n\u001b[0;32m----> 2\u001b[0m n \u001b[38;5;241m=\u001b[39m \u001b[38;5;28;43mint\u001b[39;49m\u001b[43m(\u001b[49m\u001b[38;5;28;43minput\u001b[39;49m\u001b[43m(\u001b[49m\u001b[43m)\u001b[49m\u001b[43m)\u001b[49m\n\u001b[1;32m      4\u001b[0m a \u001b[38;5;241m=\u001b[39m \u001b[38;5;28mlist\u001b[39m(\u001b[38;5;28mmap\u001b[39m(\u001b[38;5;28mint\u001b[39m,\u001b[38;5;28minput\u001b[39m()\u001b[38;5;241m.\u001b[39msplit()))\n\u001b[1;32m      6\u001b[0m sum_a \u001b[38;5;241m=\u001b[39m \u001b[38;5;28msum\u001b[39m(a)\n",
      "\u001b[0;31mValueError\u001b[0m: invalid literal for int() with base 10: ''"
     ]
    }
   ],
   "source": [
    "from collections import defaultdict\n",
    "n = int(input())\n",
    "\n",
    "a = list(map(int,input().split()))\n",
    "\n",
    "sum_a = sum(a)\n",
    "\n",
    "table = defaultdict(int)\n",
    "for i in range(n):\n",
    "    table[a[i]] += a[i]\n",
    "\n",
    "\n",
    "a_sort_set = sorted(list(set(a)))\n",
    "\n",
    "table_sum = defaultdict(int)\n",
    "tmp = 0\n",
    "for i in range(len(a_sort_set)):\n",
    "    tmp += table[a_sort_set[i]]\n",
    "    table_sum[a_sort_set[i]] = tmp\n",
    "\n",
    "table_sum\n",
    "ans = []\n",
    "for i in range(len(a)):\n",
    "    ans.append(sum_a - table_sum[a[i]])\n",
    "\n",
    "\n",
    "print(*ans)\n"
   ]
  }
 ],
 "metadata": {
  "kernelspec": {
   "display_name": "Python 3",
   "language": "python",
   "name": "python3"
  },
  "language_info": {
   "codemirror_mode": {
    "name": "ipython",
    "version": 3
   },
   "file_extension": ".py",
   "mimetype": "text/x-python",
   "name": "python",
   "nbconvert_exporter": "python",
   "pygments_lexer": "ipython3",
   "version": "3.12.2"
  }
 },
 "nbformat": 4,
 "nbformat_minor": 2
}
