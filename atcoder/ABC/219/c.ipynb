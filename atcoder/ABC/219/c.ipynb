{
 "cells": [
  {
   "cell_type": "code",
   "execution_count": 1,
   "metadata": {},
   "outputs": [],
   "source": [
    "x = list(input())\n",
    "n = int(input())\n",
    "s = [\n",
    "    list(input()) for _ in range(n)\n",
    "]\n",
    "\n",
    "order_dict = {ch : index for index , ch in enumerate(x)}\n",
    "\n",
    "def ket_sort(sub):\n",
    "    return [order_dict.get(ch , len(x) + ord(ch)) for ch in sub]\n",
    "\n",
    "\n",
    "ans = sorted(s , key=ket_sort)\n",
    "\n",
    "for i in range(len(ans)):\n",
    "    print(*ans[i],sep=\"\")"
   ]
  },
  {
   "cell_type": "code",
   "execution_count": 3,
   "metadata": {},
   "outputs": [
    {
     "name": "stdout",
     "output_type": "stream",
     "text": [
      "[['b', 'z', 'z'], ['b', 'z', 'y'], ['a', 'b', 'x'], ['c', 'a', 'a']]\n"
     ]
    }
   ],
   "source": [
    "def custom_sort_2d_list(input_list, custom_order):\n",
    "    # カスタム順序を辞書として作成\n",
    "    order_dict = {char: index for index, char in enumerate(custom_order)}\n",
    "\n",
    "    # カスタムキー関数を定義\n",
    "    def custom_key(sublist):\n",
    "        return [order_dict.get(char, len(custom_order) + ord(char)) for char in sublist]\n",
    "\n",
    "    # ソート実行\n",
    "    sorted_list = sorted(input_list, key=custom_key)\n",
    "    return sorted_list\n",
    "\n",
    "# カスタムアルファベット順序\n",
    "custom_order = \"bacdefghijklmnopqrstuvwxzy\"\n",
    "\n",
    "# ソートしたい2次元リスト\n",
    "input_list = [['a', 'b', 'x'], ['b', 'z', 'z'], ['b', 'z', 'y'], ['c', 'a', 'a']]\n",
    "\n",
    "# ソート\n",
    "sorted_list = custom_sort_2d_list(input_list, custom_order)\n",
    "print(sorted_list)\n"
   ]
  }
 ],
 "metadata": {
  "kernelspec": {
   "display_name": "Python 3",
   "language": "python",
   "name": "python3"
  },
  "language_info": {
   "codemirror_mode": {
    "name": "ipython",
    "version": 3
   },
   "file_extension": ".py",
   "mimetype": "text/x-python",
   "name": "python",
   "nbconvert_exporter": "python",
   "pygments_lexer": "ipython3",
   "version": "3.12.2"
  }
 },
 "nbformat": 4,
 "nbformat_minor": 2
}
