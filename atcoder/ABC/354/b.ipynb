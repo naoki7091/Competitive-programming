{
 "cells": [
  {
   "cell_type": "code",
   "execution_count": null,
   "metadata": {},
   "outputs": [],
   "source": [
    "map(int,input().split())\n",
    "list(map(int,input().split()))\n",
    "int(input())"
   ]
  },
  {
   "cell_type": "code",
   "execution_count": null,
   "metadata": {},
   "outputs": [],
   "source": [
    "n = int(input())\n",
    "\n",
    "name = []\n",
    "rate = []\n",
    "\n",
    "for _ in range(n):\n",
    "    s , c = input().split()\n",
    "    name.append(s)\n",
    "    rate.append(int(c))\n",
    "\n",
    "rate_sum = sum(rate)\n",
    "\n",
    "mod_t = rate_sum%n\n",
    "\n",
    "name.sort()\n",
    "\n",
    "print(name[mod_t])"
   ]
  }
 ],
 "metadata": {
  "language_info": {
   "name": "python"
  }
 },
 "nbformat": 4,
 "nbformat_minor": 2
}
