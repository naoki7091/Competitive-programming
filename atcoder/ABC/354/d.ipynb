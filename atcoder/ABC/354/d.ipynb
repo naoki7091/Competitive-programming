{
 "cells": [
  {
   "cell_type": "code",
   "execution_count": 1,
   "metadata": {},
   "outputs": [
    {
     "name": "stdout",
     "output_type": "stream",
     "text": [
      "Black area: 2.5\n"
     ]
    }
   ],
   "source": [
    "import numpy as np\n",
    "\n",
    "def calculate_black_area(A, B, C, D):\n",
    "    # グリッドのサイズ\n",
    "    grid_size = 1\n",
    "    \n",
    "    # 領域の幅と高さ\n",
    "    width = C - A\n",
    "    height = D - B\n",
    "    \n",
    "    # パターンの数\n",
    "    num_patterns_x = width // grid_size\n",
    "    num_patterns_y = height // grid_size\n",
    "    \n",
    "    # 黒い部分の面積をカウントする\n",
    "    black_area = 0\n",
    "    \n",
    "    for i in range(num_patterns_x):\n",
    "        for j in range(num_patterns_y):\n",
    "            # パターンの開始点 (i, j)\n",
    "            x_start = A + i * grid_size\n",
    "            y_start = B + j * grid_size\n",
    "            \n",
    "            # 黒い部分の面積をカウントする\n",
    "            if (i + j) % 2 == 0:\n",
    "                black_area += grid_size * grid_size / 2\n",
    "    \n",
    "    return black_area\n",
    "\n",
    "# 例として、頂点を与えます\n",
    "A, B = 0, 0\n",
    "C, D = 3, 3\n",
    "\n",
    "black_area = calculate_black_area(A, B, C, D)\n",
    "print(f\"Black area: {black_area}\")\n"
   ]
  },
  {
   "cell_type": "code",
   "execution_count": null,
   "metadata": {},
   "outputs": [],
   "source": [
    "# リストを作って直接求めるのは二次元を作る時点で無理そう\n",
    "# 何か規則性があるのではないか\n",
    "\n"
   ]
  }
 ],
 "metadata": {
  "kernelspec": {
   "display_name": "Python 3",
   "language": "python",
   "name": "python3"
  },
  "language_info": {
   "codemirror_mode": {
    "name": "ipython",
    "version": 3
   },
   "file_extension": ".py",
   "mimetype": "text/x-python",
   "name": "python",
   "nbconvert_exporter": "python",
   "pygments_lexer": "ipython3",
   "version": "3.12.2"
  }
 },
 "nbformat": 4,
 "nbformat_minor": 2
}
