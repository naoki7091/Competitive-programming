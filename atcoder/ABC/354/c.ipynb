{
 "cells": [
  {
   "cell_type": "code",
   "execution_count": null,
   "metadata": {},
   "outputs": [],
   "source": [
    "map(int,input().split())\n",
    "list(map(int,input().split()))\n",
    "int(input())"
   ]
  },
  {
   "cell_type": "code",
   "execution_count": 16,
   "metadata": {},
   "outputs": [],
   "source": [
    "# n枚のカード\n",
    "# 強さa,コストc\n",
    "# 強さが大きくて、かつ、コストが少ない->捨てる\n",
    "# 操作ができなくなるまで行う\n",
    "\n",
    "n = int(input())\n",
    "\n",
    "#純粋でやるとo(n**2)\n",
    "\n",
    "cards = []\n",
    "\n",
    "for i in range(n):\n",
    "    a,c = map(int,input().split())\n",
    "    cards.append([i + 1 , a, c])\n",
    "\n",
    "cards.sort(key= lambda x : x[1])# 弱い順にソート\n"
   ]
  },
  {
   "cell_type": "code",
   "execution_count": 22,
   "metadata": {},
   "outputs": [
    {
     "name": "stdout",
     "output_type": "stream",
     "text": [
      "2\n",
      "2 3\n"
     ]
    }
   ],
   "source": [
    "cards # index , strong , cost\n",
    "# 最後は必ず残る\n",
    "\n",
    "ans = []\n",
    "ans.append(cards[n - 1][0])\n",
    "\n",
    "for i in range(n - 1):\n",
    "    now_cost = cards[i][2]\n",
    "    next_cost = cards[i + 1][2]\n",
    "    if now_cost < next_cost:\n",
    "        ans.append(cards[i][0])\n",
    "\n",
    "print(len(ans))\n",
    "print(*sorted(ans))"
   ]
  },
  {
   "cell_type": "code",
   "execution_count": 27,
   "metadata": {},
   "outputs": [
    {
     "name": "stdout",
     "output_type": "stream",
     "text": [
      "2\n",
      "1 2\n"
     ]
    }
   ],
   "source": [
    "# n枚のカード\n",
    "# 強さa,コストc\n",
    "# 強さが大きくて、かつ、コストが少ない->捨てる\n",
    "# 操作ができなくなるまで行う\n",
    "\n",
    "n = int(input())\n",
    "\n",
    "#純粋でやるとo(n**2)\n",
    "\n",
    "cards = []\n",
    "\n",
    "for i in range(n):\n",
    "    a,c = map(int,input().split())\n",
    "    cards.append([i + 1 , a, c])\n",
    "\n",
    "cards.sort(key= lambda x : x[1])# 弱い順にソート\n",
    "\n",
    "cards # index , strong , cost\n",
    "# 最後は必ず残る\n",
    "\n",
    "ans = []\n",
    "ans.append(cards[n - 1][0])\n",
    "\n",
    "for i in range(n - 1):\n",
    "    now_cost = cards[i][2]\n",
    "    next_cost = cards[i + 1][2]\n",
    "    if now_cost < next_cost:\n",
    "        ans.append(cards[i][0])\n",
    "\n",
    "print(len(ans))\n",
    "print(*sorted(ans))"
   ]
  }
 ],
 "metadata": {
  "kernelspec": {
   "display_name": "Python 3",
   "language": "python",
   "name": "python3"
  },
  "language_info": {
   "codemirror_mode": {
    "name": "ipython",
    "version": 3
   },
   "file_extension": ".py",
   "mimetype": "text/x-python",
   "name": "python",
   "nbconvert_exporter": "python",
   "pygments_lexer": "ipython3",
   "version": "3.12.2"
  }
 },
 "nbformat": 4,
 "nbformat_minor": 2
}
