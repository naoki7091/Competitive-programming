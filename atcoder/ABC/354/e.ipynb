{
 "cells": [
  {
   "cell_type": "code",
   "execution_count": null,
   "metadata": {},
   "outputs": [],
   "source": [
    "# Ai = Aj or Bi = Bjの組を除去\n",
    "# 除去できなくなった方が負け\n",
    "\n",
    "# 最初の方針: 愚直に比べるn = 18だからいけるか？\n",
    "# 奇数回しかできない場合 -> 直大君かち other 負け\n",
    "n = int(input())\n",
    "\n",
    "a = []\n",
    "# a_set = set()\n",
    "b = []\n",
    "# b_set = set()\n",
    "\n",
    "for _ in range(n):\n",
    "    A,B = map(int,input().split())\n",
    "    a.append(A)\n",
    "    b.append(B)\n",
    "    # a_set.add(A)\n",
    "    # b_set.add(B)\n",
    "\n"
   ]
  },
  {
   "cell_type": "code",
   "execution_count": 6,
   "metadata": {},
   "outputs": [
    {
     "name": "stdout",
     "output_type": "stream",
     "text": [
      "Aoki\n"
     ]
    }
   ],
   "source": [
    "# Ai = Aj or Bi = Bjの組を除去\n",
    "# 除去できなくなった方が負け\n",
    "\n",
    "# 最初の方針: 愚直に比べるn = 18だからいけるか？\n",
    "# 奇数回しかできない場合 -> 直大君かち other 負け\n",
    "\n",
    "from collections import Counter\n",
    "n = int(input())\n",
    "a = []\n",
    "b = []\n",
    "for _ in range(n):\n",
    "    A, B = map(int, input().split())\n",
    "    a.append(A)\n",
    "    b.append(B)\n",
    "\n",
    "# 同じものを数えておく\n",
    "count_a = Counter(a)\n",
    "\n",
    "\n",
    "remove = 0\n",
    "for key in list(count_a.keys()):\n",
    "    if count_a[key] > 1:\n",
    "        remove += count_a[key] // 2\n",
    "        count_a[key] = count_a[key] % 2 # 再度結果を格納\n",
    "\n",
    "\n",
    "count_b = Counter(b)\n",
    "\n",
    "for key in list(count_b.keys()):\n",
    "    if count_b[key] > 1:\n",
    "        remove += count_b[key] // 2\n",
    "        count_b[key] = count_b[key] % 2\n",
    "\n",
    "remaining_cards = sum(count_a.values()) + sum(count_b.values())\n",
    "\n",
    "\n",
    "if remove % 2 == 1:\n",
    "    print(\"Takahashi\")\n",
    "else:\n",
    "    print(\"Aoki\")"
   ]
  },
  {
   "cell_type": "code",
   "execution_count": null,
   "metadata": {},
   "outputs": [],
   "source": [
    "n = int(input())\n",
    "cards = []\n",
    "for _ in range(n):\n",
    "    A, B = map(int, input().split())\n",
    "    cards.append([A,B])\n",
    "\n",
    "# Aについて\n",
    "\n",
    "for i in range(n):\n",
    "    tmp_a = cards[i][0]\n",
    "    for j in range(n):\n",
    "        if tmp_a == cards[j][0]:\n",
    "            cards[i]を消す\n",
    "            cards[j]を消す\n",
    "# Bについて\n",
    "\n",
    "for i in range(n):\n",
    "    tmp_a = cards[i][1]\n",
    "    for j in range(n):\n",
    "        if tmp_a == cards[j][1]:\n",
    "            cards[i]を消す\n",
    "            cards[j]を消す"
   ]
  }
 ],
 "metadata": {
  "kernelspec": {
   "display_name": "Python 3",
   "language": "python",
   "name": "python3"
  },
  "language_info": {
   "codemirror_mode": {
    "name": "ipython",
    "version": 3
   },
   "file_extension": ".py",
   "mimetype": "text/x-python",
   "name": "python",
   "nbconvert_exporter": "python",
   "pygments_lexer": "ipython3",
   "version": "3.12.2"
  }
 },
 "nbformat": 4,
 "nbformat_minor": 2
}
