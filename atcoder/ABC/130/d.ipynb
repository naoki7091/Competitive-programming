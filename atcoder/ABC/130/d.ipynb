{
 "cells": [
  {
   "cell_type": "code",
   "execution_count": 1,
   "metadata": {},
   "outputs": [],
   "source": [
    "n , k = map(int,input().split())\n",
    "\n",
    "a = list(map(int,input().split()))\n",
    "\n",
    "# 尺取り法\n",
    "l = 0\n",
    "r = 0\n",
    "tmp_sum = 0\n",
    "ans = 0\n",
    "for left in range(n):\n",
    "    while r < n:\n",
    "        if tmp_sum >= k:\n",
    "            break\n",
    "        tmp_sum += a[r]\n",
    "        r += 1\n",
    "    \n",
    "    if tmp_sum >= k:\n",
    "        ans += n - r + 1\n",
    "    \n",
    "    tmp_sum -= a[left]\n",
    "    \n",
    "print(ans)"
   ]
  },
  {
   "cell_type": "code",
   "execution_count": 2,
   "metadata": {},
   "outputs": [
    {
     "data": {
      "text/plain": [
       "2"
      ]
     },
     "execution_count": 2,
     "metadata": {},
     "output_type": "execute_result"
    }
   ],
   "source": []
  }
 ],
 "metadata": {
  "kernelspec": {
   "display_name": "Python 3",
   "language": "python",
   "name": "python3"
  },
  "language_info": {
   "codemirror_mode": {
    "name": "ipython",
    "version": 3
   },
   "file_extension": ".py",
   "mimetype": "text/x-python",
   "name": "python",
   "nbconvert_exporter": "python",
   "pygments_lexer": "ipython3",
   "version": "3.12.2"
  }
 },
 "nbformat": 4,
 "nbformat_minor": 2
}
