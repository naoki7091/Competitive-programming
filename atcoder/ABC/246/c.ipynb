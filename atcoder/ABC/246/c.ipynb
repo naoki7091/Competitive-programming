{
 "cells": [
  {
   "cell_type": "code",
   "execution_count": 7,
   "metadata": {},
   "outputs": [
    {
     "name": "stdout",
     "output_type": "stream",
     "text": [
      "7\n",
      "None\n"
     ]
    }
   ],
   "source": [
    "n,k,x = map(int,input().split())\n",
    "\n",
    "a = list(map(int,input().split()))\n",
    "\n",
    "\n",
    "def solution(a , k , x):\n",
    "    sum_a = sum(a)\n",
    "    rem_k = k\n",
    "\n",
    "    # 負にならない範囲で引けるだけひれる総数\n",
    "    possible_minus = sum(num//x for num in a)\n",
    "\n",
    "    # 一回引いた後の値段たち\n",
    "    rem_a = sorted([num%x for num in a] , reverse=True)\n",
    "    # print(rem_a)\n",
    "\n",
    "    # 引けるだけ引く総数と、チケットの数の最小を使う\n",
    "    sum_a -= x*min(possible_minus , rem_k)\n",
    "\n",
    "    rem_k -= min(possible_minus , rem_k)\n",
    "\n",
    "    # 余った部分を大きい順に使う\n",
    "    sum_a -= sum(rem_a[:rem_k])\n",
    "    return sum_a\n",
    "\n",
    "\n",
    "\n",
    "print(solution(a,k,x))"
   ]
  },
  {
   "cell_type": "code",
   "execution_count": 12,
   "metadata": {},
   "outputs": [
    {
     "name": "stdout",
     "output_type": "stream",
     "text": [
      "[6, 5, 3, 3, 1]\n",
      "12\n"
     ]
    }
   ],
   "source": [
    "def solution(a , k , x):\n",
    "    sum_a = sum(a)\n",
    "    rem_k = k\n",
    "\n",
    "    # 負にならない範囲で引けるだけひれる総数\n",
    "    possible_minus = sum(num//x for num in a)\n",
    "\n",
    "    # 一回引いた後の値段たち\n",
    "    rem_a = sorted([num%x for num in a] , reverse=True)\n",
    "    # print(rem_a)\n",
    "\n",
    "    # 引けるだけ引く総数と、チケットの数の最小を使う\n",
    "    sum_a -= x*min(possible_minus , rem_k)\n",
    "\n",
    "    rem_k -= min(possible_minus , rem_k)\n",
    "\n",
    "    # 余った部分を大きい順に使う\n",
    "    sum_a -= sum(rem_a[:rem_k])\n",
    "    return sum_a\n",
    "\n",
    "\n",
    "\n",
    "print(solution(a,k,x))"
   ]
  },
  {
   "cell_type": "code",
   "execution_count": 9,
   "metadata": {},
   "outputs": [
    {
     "ename": "KeyboardInterrupt",
     "evalue": "",
     "output_type": "error",
     "traceback": [
      "\u001b[0;31m---------------------------------------------------------------------------\u001b[0m",
      "\u001b[0;31mKeyboardInterrupt\u001b[0m                         Traceback (most recent call last)",
      "Cell \u001b[0;32mIn[9], line 2\u001b[0m\n\u001b[1;32m      1\u001b[0m \u001b[38;5;28;01mfor\u001b[39;00m i \u001b[38;5;129;01min\u001b[39;00m \u001b[38;5;28mrange\u001b[39m(\u001b[38;5;241m10\u001b[39m\u001b[38;5;241m*\u001b[39m\u001b[38;5;241m*\u001b[39m\u001b[38;5;241m9\u001b[39m):\n\u001b[0;32m----> 2\u001b[0m     \u001b[38;5;28;01mpass\u001b[39;00m\n",
      "\u001b[0;31mKeyboardInterrupt\u001b[0m: "
     ]
    }
   ],
   "source": [
    "for i in range(10**9):\n",
    "    pass"
   ]
  }
 ],
 "metadata": {
  "kernelspec": {
   "display_name": "Python 3",
   "language": "python",
   "name": "python3"
  },
  "language_info": {
   "codemirror_mode": {
    "name": "ipython",
    "version": 3
   },
   "file_extension": ".py",
   "mimetype": "text/x-python",
   "name": "python",
   "nbconvert_exporter": "python",
   "pygments_lexer": "ipython3",
   "version": "3.12.2"
  }
 },
 "nbformat": 4,
 "nbformat_minor": 2
}
