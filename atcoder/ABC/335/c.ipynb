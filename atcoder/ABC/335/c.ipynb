{
 "cells": [
  {
   "cell_type": "code",
   "execution_count": 1,
   "metadata": {
    "metadata": {}
   },
   "outputs": [],
   "source": [
    "n,q  = map(int,input().split())"
   ]
  },
  {
   "cell_type": "code",
   "execution_count": 30,
   "metadata": {
    "metadata": {}
   },
   "outputs": [
    {
     "data": {
      "text/plain": [
       "defaultdict(list, {1: [1, 0], 2: [2, 0], 3: [3, 0], 4: [4, 0], 5: [5, 0]})"
      ]
     },
     "execution_count": 30,
     "metadata": {},
     "output_type": "execute_result"
    }
   ],
   "source": [
    "from collections import defaultdict\n",
    "\n",
    "maps = defaultdict(list)\n",
    "\n",
    "for i in range(n):\n",
    "    maps[i + 1] = [i + 1,0]\n",
    "\n",
    "maps"
   ]
  },
  {
   "cell_type": "code",
   "execution_count": 39,
   "metadata": {
    "metadata": {}
   },
   "outputs": [
    {
     "name": "stdout",
     "output_type": "stream",
     "text": [
      "[2, 0]\n",
      "[3, 0]\n",
      "[4, 0]\n",
      "[5, 0]\n"
     ]
    }
   ],
   "source": [
    "for i in range(2,len(maps) + 1):\n",
    "    print(maps[i])"
   ]
  },
  {
   "cell_type": "code",
   "execution_count": 56,
   "metadata": {
    "metadata": {}
   },
   "outputs": [],
   "source": [
    "import copy\n",
    "\n",
    "def sousa(maps,query_1):\n",
    "    tmp = copy.deepcopy(maps)\n",
    "    if query_1 == \"U\":\n",
    "        # print(tmp)\n",
    "        maps[1][1] += 1\n",
    "        for i in range(2,len(maps) + 1):\n",
    "            maps[i] = tmp[i - 1]\n",
    "        return maps\n",
    "    elif query_1 == \"D\":\n",
    "        # print(tmp)\n",
    "        maps[1][1] -= 1\n",
    "        for i in range(2,len(maps) + 1):\n",
    "            maps[i] = tmp[i - 1]\n",
    "        return maps\n",
    "    elif query_1 == \"R\":\n",
    "        # print(tmp)\n",
    "        maps[1][0] += 1\n",
    "        for i in range(2,len(maps) + 1):\n",
    "            maps[i] = tmp[i - 1]\n",
    "        return maps\n",
    "    elif query_1 == \"L\":\n",
    "        # print(tmp)\n",
    "        maps[1][0] -= 1\n",
    "        for i in range(2,len(maps) + 1):\n",
    "            maps[i] = tmp[i - 1]\n",
    "        return maps\n",
    "\n"
   ]
  },
  {
   "cell_type": "code",
   "execution_count": 57,
   "metadata": {
    "metadata": {}
   },
   "outputs": [
    {
     "name": "stdout",
     "output_type": "stream",
     "text": [
      "[3, 0]\n",
      "defaultdict(<class 'list'>, {1: [1, 1], 2: [1, 0], 3: [2, 0], 4: [3, 0], 5: [4, 0]})\n",
      "[2, 0]\n",
      "defaultdict(<class 'list'>, {1: [2, 1], 2: [1, 1], 3: [1, 0], 4: [2, 0], 5: [3, 0]})\n",
      "defaultdict(<class 'list'>, {1: [2, 0], 2: [2, 1], 3: [1, 1], 4: [1, 0], 5: [2, 0]})\n",
      "[1, 1]\n",
      "defaultdict(<class 'list'>, {1: [1, 0], 2: [2, 0], 3: [2, 1], 4: [1, 1], 5: [1, 0]})\n",
      "[1, 0]\n",
      "[1, 0]\n"
     ]
    }
   ],
   "source": [
    "maps = defaultdict(list)\n",
    "for i in range(n):\n",
    "    maps[i + 1] = [i + 1,0]\n",
    "\n",
    "\n",
    "\n",
    "for i in range(q): # O(2*10**5*10*6)\n",
    "    query = list(input().split())\n",
    "    query_0 = int(query[0])\n",
    "    query_1 = query[1]\n",
    "\n",
    "    if query_0 == 1:\n",
    "        sousa(maps,query_1)\n",
    "        # print(sousa(maps,query_1))\n",
    "    else:\n",
    "        print(*maps[int(query_1)])\n"
   ]
  },
  {
   "cell_type": "code",
   "execution_count": 41,
   "metadata": {
    "metadata": {}
   },
   "outputs": [
    {
     "data": {
      "text/plain": [
       "[3, 0]"
      ]
     },
     "execution_count": 41,
     "metadata": {},
     "output_type": "execute_result"
    }
   ],
   "source": [
    "import copy\n",
    "from collections import defaultdict\n",
    "n,q  = map(int,input().split())\n",
    "\n",
    "\n",
    "def sousa(maps,query_1,stack_0,stack_1):\n",
    "    tmp = copy.deepcopy(maps)\n",
    "    if query_1 == \"U\":\n",
    "        # print(tmp)\n",
    "        maps[1][1] += 1\n",
    "        stack_1 += 1\n",
    "\n",
    "        return maps,stack_1,stack_0\n",
    "    elif query_1 == \"D\":\n",
    "        # print(tmp)\n",
    "        maps[1][1] -= 1\n",
    "        stack_1 -= 1\n",
    "    \n",
    "        return maps,stack_1,stack_0\n",
    "    elif query_1 == \"R\":\n",
    "        # print(tmp)\n",
    "        maps[1][0] += 1\n",
    "        stack_0 += 1\n",
    "        return maps,stack_1,stack_0\n",
    "    elif query_1 == \"L\":\n",
    "        # print(tmp)\n",
    "        maps[1][0] -= 1\n",
    "        stack_0 -=1\n",
    "        return maps,stack_0,stack_1\n",
    "\n",
    "\n",
    "\n",
    "maps = defaultdict(list)\n",
    "for i in range(n):\n",
    "    maps[i + 1] = [i + 1,0]\n",
    "\n",
    "stack_0 = [0]*len(n + 1)\n",
    "stack_1 = [0]*len(n + 1)\n",
    "\n",
    "for i in range(q): # O(2*10**5*10*6)\n",
    "    query = list(input().split())\n",
    "    query_0 = int(query[0])\n",
    "    query_1 = query[1]\n",
    "\n",
    "    if query_0 == 1:\n",
    "        sousa(maps,query_1,stack_0,stack_1)\n",
    "        # print(sousa(maps,query_1))\n",
    "    else:\n",
    "        maps[int(query_1)] = [maps[int(query_1)][0] + stack_0, maps[int(query_1)][1] + stack_1]\n"
   ]
  },
  {
   "cell_type": "code",
   "execution_count": 60,
   "metadata": {
    "metadata": {}
   },
   "outputs": [
    {
     "data": {
      "text/plain": [
       "[(5, 0), (4, 0), (3, 0), (2, 0), (1, 0)]"
      ]
     },
     "execution_count": 60,
     "metadata": {},
     "output_type": "execute_result"
    }
   ],
   "source": [
    "n,q = map(int,input().split())\n",
    "\n",
    "maps = []\n",
    "\n",
    "# 逆順にしておく\n",
    "for i in range(n, 0 ,-1):\n",
    "    maps.append((i,0))\n",
    "\n",
    "maps\n",
    "\n",
    "for i in range(q):\n",
    "    query = list(input().split())\n",
    "    query_0 = int(query[0])\n",
    "\n",
    "    if query_0 == 1:\n",
    "        c = query[1]\n",
    "        x = maps[-1][0]\n",
    "        y = maps[-1][1] # 座標の取得\n",
    "\n",
    "        if c == \"U\":\n",
    "            y += 1\n",
    "        elif c == \"D\":\n",
    "            y -= 1\n",
    "        elif c == \"R\":\n",
    "            x += 1\n",
    "        elif c == \"L\":\n",
    "            x -= 1\n",
    "        maps.append((x,y)) # 最後尾に追加することで、-1が最新となり、勝手にそのあとの座標が移動することになっている\n",
    "\n",
    "    elif query_0 == 2:\n",
    "        position = int(query[1])\n",
    "        print(*maps[-position]) # 逆順から座標を取得する"
   ]
  },
  {
   "cell_type": "code",
   "execution_count": null,
   "metadata": {},
   "outputs": [],
   "source": [
    "for i in range(q):\n",
    "    query = list(input().split())\n",
    "    query_0 = int(query[0])\n",
    "\n",
    "    if query_0 == 1:\n",
    "        c = query[1]\n",
    "        x = maps[-1][0]\n",
    "        y = maps[-1][1] # 座標の取得\n",
    "\n",
    "        if c == \"U\":\n",
    "            y += 1\n",
    "        elif c == \"D\":\n",
    "            y -= 1\n",
    "        elif c == \"R\":\n",
    "            x += 1\n",
    "        elif c == \"L\":\n",
    "            c -= 1\n",
    "        maps.append((x,y)) # 最後尾に追加することで、-1が最新となり、勝手にそのあとの座標が移動することになっている\n",
    "\n",
    "    elif query_0 == 2:\n",
    "        position = int(query[1])\n",
    "        print(*maps[-position]) # 逆順から座標を取得する"
   ]
  }
 ],
 "metadata": {
  "kernelspec": {
   "display_name": "Python 3",
   "language": "python",
   "name": "python3"
  },
  "language_info": {
   "codemirror_mode": {
    "name": "ipython",
    "version": 3
   },
   "file_extension": ".py",
   "mimetype": "text/x-python",
   "name": "python",
   "nbconvert_exporter": "python",
   "pygments_lexer": "ipython3",
   "version": "3.12.2"
  }
 },
 "nbformat": 4,
 "nbformat_minor": 2
}
