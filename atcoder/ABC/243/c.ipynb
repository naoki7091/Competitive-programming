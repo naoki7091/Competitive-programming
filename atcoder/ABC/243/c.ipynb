{
 "cells": [
  {
   "cell_type": "code",
   "execution_count": 5,
   "metadata": {},
   "outputs": [],
   "source": [
    "from collections import defaultdict\n",
    "import sys\n",
    "n = int(input())\n",
    "grid = []\n",
    "same_y = defaultdict(list)\n",
    "for i in range(n):\n",
    "    x , y = map(int,input().split())\n",
    "    grid.append([i + 1 , x ,y])\n",
    "\n",
    "\n",
    "s = list(input())\n",
    "\n",
    "grid.sort(key=lambda x: x[1])\n",
    "\n",
    "\n",
    "\n",
    "grid\n",
    "\n",
    "for i in range(len(grid)):\n",
    "    same_y[grid[i][2]].append(grid[i][0])\n",
    "\n",
    "same_y\n",
    "\n",
    "\n",
    "for key in same_y.keys():\n",
    "    direction_R = []\n",
    "    direction_L = []\n",
    "    if len(same_y[key]) >= 2:\n",
    "        for element in same_y[key]:\n",
    "            if s[element - 1] == \"R\":\n",
    "                direction_R.append(1)\n",
    "            if direction_R and s[element - 1] == \"L\":\n",
    "                print(\"Yes\")\n",
    "                sys.exit()\n",
    "                \n",
    "print(\"No\")"
   ]
  },
  {
   "cell_type": "code",
   "execution_count": 7,
   "metadata": {},
   "outputs": [
    {
     "data": {
      "text/plain": [
       "defaultdict(list, {1: [2, 3], 3: [1]})"
      ]
     },
     "execution_count": 7,
     "metadata": {},
     "output_type": "execute_result"
    }
   ],
   "source": [
    "grid\n",
    "\n",
    "for i in range(len(grid)):\n",
    "    same_y[grid[i][2]].append(grid[i][0])\n",
    "\n",
    "same_y"
   ]
  },
  {
   "cell_type": "code",
   "execution_count": 9,
   "metadata": {},
   "outputs": [
    {
     "name": "stdout",
     "output_type": "stream",
     "text": [
      "Yes\n"
     ]
    },
    {
     "ename": "SystemExit",
     "evalue": "",
     "output_type": "error",
     "traceback": [
      "An exception has occurred, use %tb to see the full traceback.\n",
      "\u001b[0;31mSystemExit\u001b[0m\n"
     ]
    },
    {
     "name": "stderr",
     "output_type": "stream",
     "text": [
      "/root/.local/lib/python3.12/site-packages/IPython/core/interactiveshell.py:3585: UserWarning: To exit: use 'exit', 'quit', or Ctrl-D.\n",
      "  warn(\"To exit: use 'exit', 'quit', or Ctrl-D.\", stacklevel=1)\n"
     ]
    }
   ],
   "source": [
    "\n",
    "for key in same_y.keys():\n",
    "    direction_set = set()\n",
    "    if len(same_y[key]) >= 2:\n",
    "        for element in same_y[key]:\n",
    "            direction_set.add(s[element - 1])\n",
    "            if len(direction_set) > 1:\n",
    "                print(\"Yes\")\n",
    "                sys.exit()\n",
    "print(\"No\")"
   ]
  }
 ],
 "metadata": {
  "kernelspec": {
   "display_name": "Python 3",
   "language": "python",
   "name": "python3"
  },
  "language_info": {
   "codemirror_mode": {
    "name": "ipython",
    "version": 3
   },
   "file_extension": ".py",
   "mimetype": "text/x-python",
   "name": "python",
   "nbconvert_exporter": "python",
   "pygments_lexer": "ipython3",
   "version": "3.12.2"
  }
 },
 "nbformat": 4,
 "nbformat_minor": 2
}
