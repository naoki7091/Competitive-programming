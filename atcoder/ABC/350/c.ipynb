{
 "cells": [
  {
   "cell_type": "code",
   "execution_count": 80,
   "metadata": {},
   "outputs": [],
   "source": [
    "\n",
    "import sys\n",
    "n = int(input())\n",
    "\n",
    "a = list(map(int,input().split()))\n",
    "\n",
    "\n",
    "\n",
    "\n",
    "a_zero_index = [num -1 for num in a]\n",
    "\n",
    "id_dict = dict()\n",
    "\n",
    "\n",
    "for i in range(n):\n",
    "    id_dict[i] = a_zero_index[i]\n",
    "\n",
    "a_zero_index.sort()\n",
    "\n",
    "count = 0\n",
    "\n",
    "ans = []\n",
    "\n",
    "for i in range(n):\n",
    "    if list(id_dict.values()) == a_zero_index:\n",
    "        print(count)\n",
    "        break\n",
    "    arubeki = id_dict[i]\n",
    "    # print(arubeki)\n",
    "    if i != arubeki:\n",
    "        mouiru = id_dict[arubeki]\n",
    "        id_dict[i] = mouiru\n",
    "        id_dict[arubeki] = arubeki\n",
    "        ans.append([mouiru+1,arubeki+1])\n",
    "        # print(mouiru+1,arubeki+1)\n",
    "        count += 1\n",
    "\n",
    "for re in ans:\n",
    "    print(*re)"
   ]
  },
  {
   "cell_type": "code",
   "execution_count": 87,
   "metadata": {},
   "outputs": [
    {
     "name": "stdout",
     "output_type": "stream",
     "text": [
      "1 2\n",
      "1 2\n"
     ]
    }
   ],
   "source": [
    "a = [[1,2],[1,2]]\n",
    "for num in range(len(a)):\n",
    "    print(*a[num])"
   ]
  },
  {
   "cell_type": "code",
   "execution_count": 81,
   "metadata": {},
   "outputs": [
    {
     "data": {
      "text/plain": [
       "[2, 3, 0, 1, 4]"
      ]
     },
     "execution_count": 81,
     "metadata": {},
     "output_type": "execute_result"
    }
   ],
   "source": [
    "a_zero_index = [num -1 for num in a]\n",
    "\n",
    "id_dict = dict()\n",
    "\n",
    "\n",
    "for i in range(n):\n",
    "    id_dict[i] = a_zero_index[i]\n",
    "\n",
    "a_zero_index.sort()\n",
    "\n",
    "\n",
    "for i in range(n):\n",
    "    if list(id_dict.values()) == a_zero_index:\n",
    "        break\n",
    "    arubeki = id_dict[i]\n",
    "    # print(arubeki)\n",
    "    if i != arubeki:\n",
    "        mouiru = id_dict[arubeki]\n",
    "        id_dict[i] = mouiru\n",
    "        id_dict[arubeki] = arubeki\n",
    "        print(mouiru+1,arubeki+1)"
   ]
  },
  {
   "cell_type": "code",
   "execution_count": 82,
   "metadata": {},
   "outputs": [],
   "source": [
    "id_dict = dict()\n",
    "\n",
    "\n",
    "for i in range(n):\n",
    "    id_dict[i] = a_zero_index[i]\n",
    "\n",
    "a_zero_index.sort()\n",
    "\n",
    "\n",
    "for i in range(n):\n",
    "    if list(id_dict.values()) == a_zero_index:\n",
    "        break\n",
    "    arubeki = id_dict[i]\n",
    "    # print(arubeki)\n",
    "    if i != arubeki:\n",
    "        mouiru = id_dict[arubeki]\n",
    "        id_dict[i] = mouiru\n",
    "        id_dict[arubeki] = arubeki\n",
    "        print(mouiru+1,arubeki+1)"
   ]
  },
  {
   "cell_type": "code",
   "execution_count": 83,
   "metadata": {},
   "outputs": [
    {
     "data": {
      "text/plain": [
       "{0: 2, 1: 3, 2: 0, 3: 1, 4: 4}"
      ]
     },
     "execution_count": 83,
     "metadata": {},
     "output_type": "execute_result"
    }
   ],
   "source": [
    "id_dict"
   ]
  },
  {
   "cell_type": "code",
   "execution_count": 84,
   "metadata": {},
   "outputs": [
    {
     "name": "stdout",
     "output_type": "stream",
     "text": [
      "{0: 2, 1: 3, 2: 0, 3: 1, 4: 4}\n",
      "222222222222222222\n",
      "3 1\n",
      "4 2\n"
     ]
    }
   ],
   "source": [
    "\n",
    "for i in range(n):\n",
    "    if list(id_dict.values()) == a_zero_index:\n",
    "        break\n",
    "    arubeki = id_dict[i]\n",
    "    # print(arubeki)\n",
    "    if i != arubeki:\n",
    "        mouiru = id_dict[arubeki]\n",
    "        id_dict[i] = mouiru\n",
    "        id_dict[arubeki] = arubeki\n",
    "        print(mouiru+1,arubeki+1)"
   ]
  },
  {
   "cell_type": "code",
   "execution_count": 42,
   "metadata": {},
   "outputs": [],
   "source": [
    "n = int(input())\n",
    "\n",
    "a = list(map(int,input().split()))\n",
    "\n"
   ]
  },
  {
   "cell_type": "code",
   "execution_count": 2,
   "metadata": {},
   "outputs": [
    {
     "data": {
      "text/plain": [
       "[3, 4, 1, 2, 5]"
      ]
     },
     "execution_count": 2,
     "metadata": {},
     "output_type": "execute_result"
    }
   ],
   "source": [
    "a"
   ]
  },
  {
   "cell_type": "code",
   "execution_count": 43,
   "metadata": {},
   "outputs": [
    {
     "data": {
      "text/plain": [
       "[2, 0, 1]"
      ]
     },
     "execution_count": 43,
     "metadata": {},
     "output_type": "execute_result"
    }
   ],
   "source": [
    "a_index = [num - 1 for num in a]\n",
    "    \n",
    "a_index"
   ]
  },
  {
   "cell_type": "code",
   "execution_count": 44,
   "metadata": {},
   "outputs": [
    {
     "data": {
      "text/plain": [
       "{0: 2, 1: 0, 2: 1}"
      ]
     },
     "execution_count": 44,
     "metadata": {},
     "output_type": "execute_result"
    }
   ],
   "source": [
    "# 現在いるインデックスと、本来いるべきインデックスを辞書として格納する\n",
    "\n",
    "dic_index_num = dict()\n",
    "for i in range(n):\n",
    "    dic_index_num[i] = a_index[i]\n",
    "\n",
    "dic_index_num"
   ]
  },
  {
   "cell_type": "code",
   "execution_count": 45,
   "metadata": {},
   "outputs": [
    {
     "name": "stdout",
     "output_type": "stream",
     "text": [
      "1\n",
      "2 3\n"
     ]
    }
   ],
   "source": [
    "kousin_dict = dict()\n",
    "ans = []\n",
    "count = 0\n",
    "for i in range(n):\n",
    "    # もし現在いるインデックスと、本来いるべきインデックスの位置が一致しているならスルー\n",
    "    if dic_index_num[i] == i:\n",
    "        continue\n",
    "    else:\n",
    "        irubeki_index = dic_index_num[i]\n",
    "        kousinsaki_no_index = dic_index_num[irubeki_index]\n",
    "        kousin_dict[irubeki_index] = dic_index_num[i]\n",
    "        kousin_dict[kousinsaki_no_index] = kousinsaki_no_index\n",
    "\n",
    "        dic_index_num[irubeki_index] = kousin_dict[irubeki_index]\n",
    "        dic_index_num[kousinsaki_no_index] = kousin_dict[kousinsaki_no_index]\n",
    "        # print(kousinsaki_no_index,irubeki_index)\n",
    "        ans.append([kousinsaki_no_index+1,1+irubeki_index])\n",
    "        count += 1\n",
    "    # print(dic_index_num)\n",
    "print(count)\n",
    "for i in range(len(ans)):\n",
    "    print(*ans[i])"
   ]
  },
  {
   "cell_type": "code",
   "execution_count": null,
   "metadata": {},
   "outputs": [],
   "source": [
    "def correct_swaps(n, a):\n",
    "    a_zero_index = [num - 1 for num in a]\n",
    "    id_dict = {i: a_zero_index[i] for i in range(n)}\n",
    "    original_position = {value: i for i, value in enumerate(a_zero_index)}\n",
    "\n",
    "    count = 0\n",
    "    ans = []\n",
    "\n",
    "    for i in range(n):\n",
    "        correct_value_at_i = i\n",
    "        current_value_at_i = id_dict[i]\n",
    "\n",
    "        if current_value_at_i != correct_value_at_i:\n",
    "            # Get the index where the correct value of `i` currently is\n",
    "            index_of_correct_value = original_position[correct_value_at_i]\n",
    "\n",
    "            # Swap the values in the dictionary\n",
    "            id_dict[i], id_dict[index_of_correct_value] = id_dict[index_of_correct_value], id_dict[i]\n",
    "            \n",
    "            # Update the positions in the `original_position` map\n",
    "            original_position[current_value_at_i] = index_of_correct_value\n",
    "            original_position[correct_value_at_i] = i\n",
    "            \n",
    "            # Record the swap (1-based index)\n",
    "            ans.append([i + 1, index_of_correct_value + 1])\n",
    "            count += 1\n",
    "\n",
    "    # Output the result in the requested format\n",
    "    print(count)\n",
    "    for swap in ans:\n",
    "        print(*swap)\n",
    "\n",
    "# Example input to test the function\n",
    "n_example = int(input())\n",
    "a_example = list(map(int,input().split()))  # This should correspond to permutation\n",
    "\n",
    "correct_swaps(n_example, a_example)"
   ]
  },
  {
   "cell_type": "code",
   "execution_count": 87,
   "metadata": {},
   "outputs": [
    {
     "name": "stdout",
     "output_type": "stream",
     "text": [
      "[2, 0, 1]\n",
      "{0: 2, 1: 0, 2: 1}\n",
      "{2: 0, 0: 1, 1: 2}\n"
     ]
    }
   ],
   "source": [
    "n = int(input())\n",
    "\n",
    "a = list(map(int,input().split()))\n",
    "\n",
    "# n = 3\n",
    "# a = [3, 1, 2]\n",
    "\n",
    "\n",
    "a_zero_index = [num - 1 for num in a]\n",
    "\n",
    "\n",
    "\n",
    "# 現在のインデックスと値の関係の辞書 本来のindexを出力\n",
    "dict_honrai = {i:a_zero_index[i] for i in range(n)}\n",
    "\n",
    "# 現在の値と、インデックスの関係の辞書(上の辞書と逆の関係) 現在のインデックスを出力\n",
    "dict_genzai = {value: i for i, value in enumerate(a_zero_index)}\n",
    "\n",
    "ans = []\n",
    "count = 0\n",
    "for i in range(n):\n",
    "    genzai_index = i\n",
    "    honrai_index = dict_honrai[i]\n",
    "    if genzai_index == honrai_index:\n",
    "        print(count)\n",
    "        continue\n",
    "    else:\n",
    "        tadasii_kousein_saki = dict_honrai[genzai_index]\n",
    "        dict_genzai[tadasii_kousein_saki],dict_genzai[genzai_index] = dict_genzai[genzai_index],dict_genzai[tadasii_kousein_saki]\n",
    "        dict_honrai[genzai_index] = genzai_index\n",
    "        dict_honrai[tadasii_kousein_saki] = tadasii_kousein_saki\n",
    "        # print(genzai_index+1,honrai_index+1)\n",
    "        ans.append([genzai_index+1,honrai_index+1])\n",
    "        count += 1\n",
    "    \n",
    "    # print(dict_honrai,dict_genzai)\n",
    "\n",
    "for i in range(len(ans)):\n",
    "    print(*ans[i])"
   ]
  },
  {
   "cell_type": "code",
   "execution_count": 88,
   "metadata": {},
   "outputs": [
    {
     "name": "stdout",
     "output_type": "stream",
     "text": [
      "2\n",
      "1 3\n",
      "2 1\n"
     ]
    }
   ],
   "source": [
    "ans = []\n",
    "count = 0\n",
    "for i in range(n):\n",
    "    genzai_index = i\n",
    "    honrai_index = dict_honrai[i]\n",
    "    if genzai_index == honrai_index:\n",
    "        print(count)\n",
    "        continue\n",
    "    else:\n",
    "        tadasii_kousein_saki = dict_honrai[genzai_index]\n",
    "        dict_genzai[tadasii_kousein_saki],dict_genzai[genzai_index] = dict_genzai[genzai_index],dict_genzai[tadasii_kousein_saki]\n",
    "        dict_honrai[genzai_index] = genzai_index\n",
    "        dict_honrai[tadasii_kousein_saki] = tadasii_kousein_saki\n",
    "        # print(genzai_index+1,honrai_index+1)\n",
    "        ans.append([genzai_index+1,honrai_index+1])\n",
    "        count += 1\n",
    "    \n",
    "    # print(dict_honrai,dict_genzai)\n",
    "\n",
    "for i in range(len(ans)):\n",
    "    print(*ans[i])"
   ]
  },
  {
   "cell_type": "code",
   "execution_count": 105,
   "metadata": {},
   "outputs": [
    {
     "name": "stdout",
     "output_type": "stream",
     "text": [
      "[0, 3, 2, 1, 4] [2, 3, 2, 1, 4]\n",
      "[0, 1, 2, 3, 4] [2, 3, 2, 3, 4]\n",
      "2\n",
      "1 3\n",
      "2 4\n"
     ]
    }
   ],
   "source": [
    "n = int(input())\n",
    "\n",
    "a = list(map(int,input().split()))\n",
    "\n",
    "\n",
    "\n",
    "# aは現在のインデックスを示す\n",
    "a = [num-1 for num in a]\n",
    "\n",
    "\n",
    "# 本来いるべきインデックスを示す\n",
    "b = [0]*n\n",
    "\n",
    "for i,a_i in enumerate(a):\n",
    "    b[a_i] = i\n",
    "\n",
    "\n",
    "ans = []\n",
    "\n",
    "correct  = [num for num in range(n)]\n",
    "\n",
    "for i in range(n):\n",
    "    if a[i] == correct[i]:\n",
    "        continue\n",
    "    else:\n",
    "        b_i_move_index = b[i]\n",
    "        a[i],a[b_i_move_index] = a[b_i_move_index],a[i]\n",
    "        ans.append([i+1,1+b_i_move_index])\n",
    "\n",
    "\n",
    "        #a[bi]は変更後なので、実質a[i]つまり入れ替え後のi番目のインデックス\n",
    "        b[a[b_i_move_index]] = b_i_move_index\n",
    "        print(a,b)\n",
    "\n",
    "\n",
    "print(len(ans))\n",
    "for a in ans:\n",
    "    print(*a)"
   ]
  },
  {
   "cell_type": "code",
   "execution_count": 97,
   "metadata": {},
   "outputs": [
    {
     "data": {
      "text/plain": [
       "[0, 1, 2, 3, 4]"
      ]
     },
     "execution_count": 97,
     "metadata": {},
     "output_type": "execute_result"
    }
   ],
   "source": [
    "b = [0]*n\n",
    "\n",
    "for i,a_i in enumerate(a):\n",
    "    b[a_i] = i\n",
    "\n",
    "\n",
    "ans = []\n",
    "\n",
    "correct  = [num for num in range(n)]\n",
    "\n",
    "for i in range(n):\n",
    "    if a[i] == correct[i]:\n",
    "        continue\n",
    "    else:\n",
    "        a_i_now_index, b_i_move_index = a[i], b[i]\n",
    "        a[i],a[b_i_move_index] = a[b_i_move_index],a[i]\n",
    "        ans.append([i+1,1+b_i_move_index])\n",
    "\n",
    "\n",
    "        b[a[b_i_move_index]] = b_i_move_index\n",
    "\n",
    "\n",
    "print(len(ans))\n",
    "for a in ans:\n",
    "    print(*a)"
   ]
  },
  {
   "cell_type": "code",
   "execution_count": 98,
   "metadata": {},
   "outputs": [
    {
     "data": {
      "text/plain": [
       "([2, 3, 0, 1, 4], [2, 3, 0, 1, 4])"
      ]
     },
     "execution_count": 98,
     "metadata": {},
     "output_type": "execute_result"
    }
   ],
   "source": [
    "a,b"
   ]
  },
  {
   "cell_type": "code",
   "execution_count": 100,
   "metadata": {},
   "outputs": [
    {
     "name": "stdout",
     "output_type": "stream",
     "text": [
      "2\n",
      "1 3\n",
      "2 4\n"
     ]
    }
   ],
   "source": [
    "for i in range(n):\n",
    "    if a[i] == correct[i]:\n",
    "        continue\n",
    "    else:\n",
    "        a_i_now_index, b_i_move_index = a[i], b[i]\n",
    "        a[i],a[b_i_move_index] = a[b_i_move_index],a[i]\n",
    "        ans.append([i+1,1+b_i_move_index])\n",
    "\n",
    "\n",
    "        b[a[b_i_move_index]] = b_i_move_index\n",
    "\n",
    "\n",
    "print(len(ans))\n",
    "for a in ans:\n",
    "    print(*a)"
   ]
  },
  {
   "cell_type": "code",
   "execution_count": null,
   "metadata": {},
   "outputs": [],
   "source": []
  },
  {
   "cell_type": "code",
   "execution_count": 107,
   "metadata": {},
   "outputs": [
    {
     "name": "stdout",
     "output_type": "stream",
     "text": [
      "{2: 0, 3: 1, 0: 2, 1: 3, 4: 4}\n",
      "{2: 2, 3: 1, 0: 0, 1: 3, 4: 4}\n",
      "{2: 2, 3: 3, 0: 0, 1: 1, 4: 4}\n",
      "2\n",
      "1 3\n",
      "2 4\n"
     ]
    }
   ],
   "source": [
    "n = int(input())  # 入力の配列のサイズ\n",
    "a = list(map(int, input().split()))  # 入力の配列\n",
    "\n",
    "# 0ベースインデックスに変換\n",
    "a = [num - 1 for num in a]\n",
    "\n",
    "# 値から現在のインデックスを追跡する辞書\n",
    "value_to_index = {value: index for index, value in enumerate(a)}\n",
    "\n",
    "print(value_to_index)\n",
    "\n",
    "# スワップの記録を保存するリスト\n",
    "swaps = []\n",
    "\n",
    "# 正しい順序の配列を生成（0からn-1）\n",
    "correct = list(range(n))\n",
    "\n",
    "# 配列の各要素を確認し、正しい位置にない場合はスワップする\n",
    "for i in range(n):\n",
    "    if a[i] != correct[i]:\n",
    "        target_index = value_to_index[correct[i]]  # 正しい値が現在どこにあるか\n",
    "\n",
    "        # スワップ実行\n",
    "        a[i], a[target_index] = a[target_index], a[i]\n",
    "        swaps.append((i + 1, target_index + 1))  # 1ベースインデックスで記録\n",
    "\n",
    "        # 辞書も更新して新しい位置情報を反映\n",
    "        value_to_index[a[target_index]], value_to_index[a[i]] = target_index, i\n",
    "        print(value_to_index)\n",
    "\n",
    "# 出力\n",
    "print(len(swaps))  # スワップの総数\n",
    "for swap in swaps:\n",
    "    print(*swap)\n"
   ]
  }
 ],
 "metadata": {
  "kernelspec": {
   "display_name": "Python 3",
   "language": "python",
   "name": "python3"
  },
  "language_info": {
   "codemirror_mode": {
    "name": "ipython",
    "version": 3
   },
   "file_extension": ".py",
   "mimetype": "text/x-python",
   "name": "python",
   "nbconvert_exporter": "python",
   "pygments_lexer": "ipython3",
   "version": "3.12.2"
  }
 },
 "nbformat": 4,
 "nbformat_minor": 2
}
