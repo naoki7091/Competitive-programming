{
 "cells": [
  {
   "cell_type": "code",
   "execution_count": 11,
   "metadata": {},
   "outputs": [
    {
     "data": {
      "text/plain": [
       "defaultdict(set, {1: {2, 4}, 2: {1, 3}, 3: {2}, 4: {1}})"
      ]
     },
     "execution_count": 11,
     "metadata": {},
     "output_type": "execute_result"
    }
   ],
   "source": [
    "from collections import defaultdict\n",
    "n,m = map(int,input().split())\n",
    "\n",
    "hash_d = defaultdict(set)\n",
    "\n",
    "stack_d = [num+ 1 for num in range(n)]\n",
    "\n",
    "for i in range(m):\n",
    "    a,b = map(int,input().split())\n",
    "    hash_d[a].add(b)\n",
    "    hash_d[b].add(a)\n",
    "    \n",
    "hash_d"
   ]
  },
  {
   "cell_type": "code",
   "execution_count": 23,
   "metadata": {},
   "outputs": [
    {
     "name": "stdout",
     "output_type": "stream",
     "text": [
      "Added operations: 0\n"
     ]
    }
   ],
   "source": [
    "from collections import defaultdict\n",
    "\n",
    "def fill_elements(graph):\n",
    "    added_count = 0\n",
    "    keys = list(graph.keys())\n",
    "\n",
    "    # 各キーに対して\n",
    "    for key in keys:\n",
    "        # 現在のキーの値（セット）を取得\n",
    "        current_values = graph[key]\n",
    "        # 他の全ての値に対して確認\n",
    "        for value in list(current_values):\n",
    "            # 対象の値が持つセットを取得\n",
    "            target_values = graph[value]\n",
    "            # キーが対象の値のセットに含まれているか確認\n",
    "            if key not in target_values:\n",
    "                # 含まれていなければ追加\n",
    "                graph[value].add(key)\n",
    "                added_count += 1\n",
    "\n",
    "    return added_count\n",
    "\n",
    "# 初期状態のグラフを定義\n",
    "graph = defaultdict(set, {1: {2, 4}, 2: {1, 3}, 3: {2}, 4: {1}})\n",
    "\n",
    "# 要素を埋め、追加回数を出力\n",
    "added_count = fill_elements(graph)\n",
    "print(\"Added operations:\", added_count)\n"
   ]
  },
  {
   "cell_type": "code",
   "execution_count": 9,
   "metadata": {},
   "outputs": [
    {
     "data": {
      "text/plain": [
       "8"
      ]
     },
     "execution_count": 9,
     "metadata": {},
     "output_type": "execute_result"
    }
   ],
   "source": [
    "def max_new_friendships(n, m, friendships):\n",
    "    from collections import defaultdict, deque\n",
    "    \n",
    "    # 各ユーザの友達リストを保持する辞書\n",
    "    friends = defaultdict(set)\n",
    "    \n",
    "    # 友達関係を設定\n",
    "    for a, b in friendships:\n",
    "        friends[a].add(b)\n",
    "        friends[b].add(a)\n",
    "    \n",
    "    # 新たな友達関係を形成する操作のカウント\n",
    "    new_friendships = 0\n",
    "    visited_pairs = set()  # 重複チェック用セット\n",
    "    \n",
    "    # 各ユーザの友達リストを調べて、新たな友達関係を探す\n",
    "    for y in range(1, n + 1):\n",
    "        # y の友達リストから友達ペア (x, z) を作る\n",
    "        for x in friends[y]:\n",
    "            for z in friends[y]:\n",
    "                if x >= z:  # x < z を保証して重複を避ける\n",
    "                    continue\n",
    "                # x と z が直接友達ではない場合、新たな友達関係を形成\n",
    "                if z not in friends[x]:\n",
    "                    if (x, z) not in visited_pairs and (z, x) not in visited_pairs:\n",
    "                        visited_pairs.add((x, z))\n",
    "                        new_friendships += 1\n",
    "    \n",
    "    return new_friendships\n",
    "\n",
    "# テスト用のデータ\n",
    "n = 10  # ユーザ数\n",
    "m = 8 # 友達関係の数\n",
    "friendships = [(1, 2), (2, 3), (3, 4), (4, 5), (5, 6), (6, 7), (7, 8), (8, 9), (9, 10)]\n",
    "\n",
    "# 関数を実行して結果を得る\n",
    "max_new_friendships(n, m, friendships)"
   ]
  }
 ],
 "metadata": {
  "kernelspec": {
   "display_name": "Python 3",
   "language": "python",
   "name": "python3"
  },
  "language_info": {
   "codemirror_mode": {
    "name": "ipython",
    "version": 3
   },
   "file_extension": ".py",
   "mimetype": "text/x-python",
   "name": "python",
   "nbconvert_exporter": "python",
   "pygments_lexer": "ipython3",
   "version": "3.12.2"
  }
 },
 "nbformat": 4,
 "nbformat_minor": 2
}
