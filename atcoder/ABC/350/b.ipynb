{
 "cells": [
  {
   "cell_type": "code",
   "execution_count": 12,
   "metadata": {},
   "outputs": [
    {
     "name": "stdout",
     "output_type": "stream",
     "text": [
      "2\n",
      "9\n",
      "18\n",
      "27\n",
      "18\n",
      "9\n"
     ]
    },
    {
     "data": {
      "text/plain": [
       "defaultdict(int,\n",
       "            {1: 1,\n",
       "             2: 0,\n",
       "             3: 1,\n",
       "             4: 1,\n",
       "             5: 1,\n",
       "             6: 1,\n",
       "             7: 1,\n",
       "             8: 1,\n",
       "             9: 1,\n",
       "             10: 1,\n",
       "             11: 1,\n",
       "             12: 1,\n",
       "             13: 1,\n",
       "             14: 1,\n",
       "             15: 1,\n",
       "             16: 1,\n",
       "             17: 1,\n",
       "             18: 1,\n",
       "             19: 1,\n",
       "             20: 1,\n",
       "             21: 1,\n",
       "             22: 1,\n",
       "             23: 1,\n",
       "             24: 1,\n",
       "             25: 1,\n",
       "             26: 1,\n",
       "             27: 0,\n",
       "             28: 1,\n",
       "             29: 1,\n",
       "             30: 1})"
      ]
     },
     "execution_count": 12,
     "metadata": {},
     "output_type": "execute_result"
    }
   ],
   "source": [
    "from collections import defaultdict\n",
    "n,q = map(int,input().split())\n",
    "\n",
    "t = list(map(int,input().split()))\n",
    "\n",
    "t_dict = defaultdict(int)\n",
    "\n",
    "for i in range(n):\n",
    "    t_dict[i+1] = 1\n",
    "\n",
    "for num in t:\n",
    "    print(num)\n",
    "    if t_dict[num] == 0:\n",
    "        t_dict[num] = 1\n",
    "    elif t_dict[num] == 1:\n",
    "        t_dict[num] = 0\n",
    "\n",
    "\n",
    "print(sum(t_dict.values()))\n",
    "\n",
    "\n",
    "    "
   ]
  },
  {
   "cell_type": "code",
   "execution_count": 13,
   "metadata": {},
   "outputs": [
    {
     "data": {
      "text/plain": [
       "28"
      ]
     },
     "execution_count": 13,
     "metadata": {},
     "output_type": "execute_result"
    }
   ],
   "source": [
    "sum(t_dict.values())"
   ]
  },
  {
   "cell_type": "code",
   "execution_count": 11,
   "metadata": {},
   "outputs": [
    {
     "name": "stdout",
     "output_type": "stream",
     "text": [
      "2\n",
      "9\n",
      "18\n",
      "27\n",
      "18\n",
      "9\n"
     ]
    },
    {
     "data": {
      "text/plain": [
       "defaultdict(int,\n",
       "            {1: 0,\n",
       "             2: 1,\n",
       "             3: 0,\n",
       "             4: 0,\n",
       "             5: 0,\n",
       "             6: 0,\n",
       "             7: 0,\n",
       "             8: 0,\n",
       "             9: 1,\n",
       "             10: 0,\n",
       "             11: 0,\n",
       "             12: 0,\n",
       "             13: 0,\n",
       "             14: 0,\n",
       "             15: 0,\n",
       "             16: 0,\n",
       "             17: 0,\n",
       "             18: 1,\n",
       "             19: 0,\n",
       "             20: 0,\n",
       "             21: 0,\n",
       "             22: 0,\n",
       "             23: 0,\n",
       "             24: 0,\n",
       "             25: 0,\n",
       "             26: 0,\n",
       "             27: 1,\n",
       "             28: 0,\n",
       "             29: 0,\n",
       "             30: 0})"
      ]
     },
     "execution_count": 11,
     "metadata": {},
     "output_type": "execute_result"
    }
   ],
   "source": [
    "for num in t:\n",
    "    print(num)\n",
    "    if t_dict[num] == 0:\n",
    "        t_dict[num] = 1\n",
    "    elif t_dict[num] == 1:\n",
    "        t_dict[num] = 0\n",
    "t_dict\n",
    "\n",
    "# print(sum(t_dict.values()))"
   ]
  },
  {
   "cell_type": "code",
   "execution_count": 1,
   "metadata": {},
   "outputs": [],
   "source": [
    "n,q = map(int,input().split())\n",
    "\n",
    "t = list(map(int,input().split()))\n",
    "\n",
    "teeth = dict()\n",
    "for i in range(n):\n",
    "    teeth[i+1] = 1\n",
    "\n",
    "for num in t:\n",
    "    if teeth[num] == 1:\n",
    "        teeth[num] = 0\n",
    "    else:\n",
    "        teeth[num] = 1"
   ]
  },
  {
   "cell_type": "code",
   "execution_count": 2,
   "metadata": {},
   "outputs": [
    {
     "data": {
      "text/plain": [
       "{1: 1,\n",
       " 2: 1,\n",
       " 3: 1,\n",
       " 4: 1,\n",
       " 5: 1,\n",
       " 6: 1,\n",
       " 7: 1,\n",
       " 8: 1,\n",
       " 9: 1,\n",
       " 10: 1,\n",
       " 11: 1,\n",
       " 12: 1,\n",
       " 13: 1,\n",
       " 14: 1,\n",
       " 15: 1,\n",
       " 16: 1,\n",
       " 17: 1,\n",
       " 18: 1,\n",
       " 19: 1,\n",
       " 20: 1,\n",
       " 21: 1,\n",
       " 22: 1,\n",
       " 23: 1,\n",
       " 24: 1,\n",
       " 25: 1,\n",
       " 26: 1,\n",
       " 27: 1,\n",
       " 28: 1,\n",
       " 29: 1,\n",
       " 30: 1}"
      ]
     },
     "execution_count": 2,
     "metadata": {},
     "output_type": "execute_result"
    }
   ],
   "source": [
    "teeth = dict()\n",
    "for i in range(n):\n",
    "    teeth[i+1] = 1\n",
    "\n",
    "for num in t:\n",
    "    if teeth[num] == 1:\n",
    "        teeth[num] = 0\n",
    "    else:\n",
    "        teeth[num] = 1"
   ]
  }
 ],
 "metadata": {
  "kernelspec": {
   "display_name": "Python 3",
   "language": "python",
   "name": "python3"
  },
  "language_info": {
   "codemirror_mode": {
    "name": "ipython",
    "version": 3
   },
   "file_extension": ".py",
   "mimetype": "text/x-python",
   "name": "python",
   "nbconvert_exporter": "python",
   "pygments_lexer": "ipython3",
   "version": "3.12.2"
  }
 },
 "nbformat": 4,
 "nbformat_minor": 2
}
