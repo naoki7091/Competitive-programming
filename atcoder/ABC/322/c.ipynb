{
 "cells": [
  {
   "cell_type": "code",
   "execution_count": null,
   "metadata": {},
   "outputs": [],
   "source": [
    "n,m = map(int,input().split())\n",
    "\n",
    "a = list(map(int,input().split()))\n"
   ]
  },
  {
   "cell_type": "code",
   "execution_count": null,
   "metadata": {},
   "outputs": [],
   "source": [
    "days = [0]*(n + 1)\n",
    "\n",
    "a_index = 0\n",
    "for i in range(1,n):\n",
    "    if i == a[a_index]:\n",
    "        days[i] = 0\n",
    "    elif i < a[a_index]:\n",
    "        days[i] = a[a_index] - i\n",
    "    elif i > a[a_index]:\n",
    "        days[i] = i - a[a_index]\n",
    "\n",
    "    if a_index < len(a):\n",
    "        a_index += 1\n",
    "    \n",
    "for num in days:\n",
    "    print(num)"
   ]
  },
  {
   "cell_type": "code",
   "execution_count": 2,
   "metadata": {},
   "outputs": [
    {
     "name": "stdout",
     "output_type": "stream",
     "text": [
      "2\n",
      "1\n",
      "0\n"
     ]
    }
   ],
   "source": [
    "n,m = map(int,input().split())\n",
    "\n",
    "a = list(map(int,input().split()))\n",
    "\n",
    "\n",
    "days = [0]*(n + 1)\n",
    "\n",
    "a_index = 0\n",
    "for i in range(1,n + 1):\n",
    "    if i == a[a_index]:\n",
    "        days[i] = 0\n",
    "        a_index += 1\n",
    "    elif i < a[a_index]:\n",
    "        days[i] = a[a_index] - i\n",
    "    elif i > a[a_index]:\n",
    "        days[i] = i - a[a_index]\n",
    "\n",
    "    \n",
    "for i in range(1,n + 1):\n",
    "    print(days[i])"
   ]
  },
  {
   "cell_type": "code",
   "execution_count": null,
   "metadata": {},
   "outputs": [],
   "source": []
  }
 ],
 "metadata": {
  "kernelspec": {
   "display_name": "Python 3",
   "language": "python",
   "name": "python3"
  },
  "language_info": {
   "codemirror_mode": {
    "name": "ipython",
    "version": 3
   },
   "file_extension": ".py",
   "mimetype": "text/x-python",
   "name": "python",
   "nbconvert_exporter": "python",
   "pygments_lexer": "ipython3",
   "version": "3.12.2"
  }
 },
 "nbformat": 4,
 "nbformat_minor": 2
}
