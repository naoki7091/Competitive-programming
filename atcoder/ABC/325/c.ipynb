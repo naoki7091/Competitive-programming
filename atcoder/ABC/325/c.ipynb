{
 "cells": [
  {
   "cell_type": "code",
   "execution_count": null,
   "metadata": {},
   "outputs": [],
   "source": [
    "y,x = map(int,input().split())\n",
    "\n",
    "grid = []\n",
    "\n",
    "for i in range(x):\n",
    "    tmp = list(input())\n",
    "    grid.append(tmp)\n"
   ]
  },
  {
   "cell_type": "code",
   "execution_count": 22,
   "metadata": {},
   "outputs": [],
   "source": [
    "y,x = 5,6\n",
    "\n",
    "grid = [\n",
    "    [\".\", \"#\", \"#\", \".\", \".\", \".\"],\n",
    "    [\".\", \".\", \".\", \"#\", \".\", \".\"],\n",
    "    [\".\", \".\", \".\", \".\", \"#\", \"#\"],\n",
    "    [\"#\", \".\", \"#\", \".\", \".\", \".\"],\n",
    "    [\".\", \".\", \"#\", \".\", \".\", \".\"]\n",
    "]\n"
   ]
  },
  {
   "cell_type": "code",
   "execution_count": 25,
   "metadata": {},
   "outputs": [
    {
     "name": "stdout",
     "output_type": "stream",
     "text": [
      "3\n"
     ]
    }
   ],
   "source": [
    "def solution(grid,x,y):\n",
    "    # print(grid,x,y)\n",
    "    visited = [[False for _ in range(x)] for _ in range(y)]\n",
    "\n",
    "    moves = [[1,0],[-1,0],[0,1],[0,-1],[1,1],[1,-1],[-1,1],[-1,-1]]\n",
    "    # print(len(moves))\n",
    "    def dfs(i,j):\n",
    "        # print(i,j)\n",
    "        visited[i][j] = True\n",
    "\n",
    "        for move in moves:\n",
    "            next_i = move[0] + i\n",
    "            next_j = move[1] + j\n",
    "\n",
    "            if not (0 <= next_i <= y- 1 and  0 <= next_j <= x - 1):\n",
    "                continue\n",
    "            if visited[next_i][next_j] == True:\n",
    "                continue\n",
    "            if grid[next_i][next_j] != \"#\":\n",
    "                continue\n",
    "\n",
    "            dfs(next_i,next_j)\n",
    "\n",
    "    count = 0\n",
    "    for i in range(y):\n",
    "        for j in range(x):\n",
    "            if grid[i][j] == \"#\" and visited[i][j] != True:\n",
    "                # print(visited)\n",
    "                dfs(i,j)\n",
    "                # print(\"###################\")\n",
    "                count += 1\n",
    "    return count\n",
    "\n",
    "\n",
    "print(solution(grid,x,y))"
   ]
  },
  {
   "cell_type": "code",
   "execution_count": 26,
   "metadata": {},
   "outputs": [
    {
     "ename": "ValueError",
     "evalue": "not enough values to unpack (expected 2, got 0)",
     "output_type": "error",
     "traceback": [
      "\u001b[0;31m---------------------------------------------------------------------------\u001b[0m",
      "\u001b[0;31mValueError\u001b[0m                                Traceback (most recent call last)",
      "Cell \u001b[0;32mIn[26], line 35\u001b[0m\n\u001b[1;32m     31\u001b[0m                 count \u001b[38;5;241m+\u001b[39m\u001b[38;5;241m=\u001b[39m \u001b[38;5;241m1\u001b[39m\n\u001b[1;32m     32\u001b[0m     \u001b[38;5;28;01mreturn\u001b[39;00m count\n\u001b[0;32m---> 35\u001b[0m y,x \u001b[38;5;241m=\u001b[39m \u001b[38;5;28mmap\u001b[39m(\u001b[38;5;28mint\u001b[39m,\u001b[38;5;28minput\u001b[39m()\u001b[38;5;241m.\u001b[39msplit())\n\u001b[1;32m     37\u001b[0m grid \u001b[38;5;241m=\u001b[39m []\n\u001b[1;32m     39\u001b[0m \u001b[38;5;28;01mfor\u001b[39;00m i \u001b[38;5;129;01min\u001b[39;00m \u001b[38;5;28mrange\u001b[39m(x):\n",
      "\u001b[0;31mValueError\u001b[0m: not enough values to unpack (expected 2, got 0)"
     ]
    }
   ],
   "source": [
    "import sys\n",
    "sys.setrecursionlimit(10**100)\n",
    "def solution(grid,x,y):\n",
    "    # print(grid,x,y)\n",
    "    visited = [[False for _ in range(x)] for _ in range(y)]\n",
    "\n",
    "    moves = [[1,0],[-1,0],[0,1],[0,-1],[1,1],[1,-1],[-1,1],[-1,-1]]\n",
    "    # print(len(moves))\n",
    "    def dfs(i,j):\n",
    "        # print(i,j)\n",
    "        visited[i][j] = True\n",
    "\n",
    "        for move in moves:\n",
    "            next_i = move[0] + i\n",
    "            next_j = move[1] + j\n",
    "\n",
    "            if not (0 <= next_i <= y- 1 and  0 <= next_j <= x - 1):\n",
    "                continue\n",
    "            if visited[next_i][next_j] == True:\n",
    "                continue\n",
    "            if grid[next_i][next_j] != \"#\":\n",
    "                continue\n",
    "\n",
    "            dfs(next_i,next_j)\n",
    "\n",
    "    count = 0\n",
    "    for i in range(y):\n",
    "        for j in range(x):\n",
    "            if grid[i][j] == \"#\" and visited[i][j] != True:\n",
    "                # print(visited)\n",
    "                dfs(i,j)\n",
    "                # print(\"###################\")\n",
    "                count += 1\n",
    "    return count\n",
    "\n",
    "\n",
    "y,x = map(int,input().split())\n",
    "\n",
    "grid = []\n",
    "\n",
    "for i in range(y):\n",
    "    tmp = list(input())\n",
    "    grid.append(tmp)\n",
    "\n",
    "print(solution(grid,x,y))"
   ]
  }
 ],
 "metadata": {
  "kernelspec": {
   "display_name": "Python 3",
   "language": "python",
   "name": "python3"
  },
  "language_info": {
   "codemirror_mode": {
    "name": "ipython",
    "version": 3
   },
   "file_extension": ".py",
   "mimetype": "text/x-python",
   "name": "python",
   "nbconvert_exporter": "python",
   "pygments_lexer": "ipython3",
   "version": "3.12.2"
  }
 },
 "nbformat": 4,
 "nbformat_minor": 2
}
