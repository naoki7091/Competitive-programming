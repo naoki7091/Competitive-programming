{
 "cells": [
  {
   "cell_type": "code",
   "execution_count": 9,
   "metadata": {},
   "outputs": [
    {
     "name": "stdout",
     "output_type": "stream",
     "text": [
      "[0]\n",
      "[0, 2]\n",
      "[0, 2, 3]\n",
      "[0, 2, 3, 6]\n",
      "[0, 2, 3, 6, 7]\n",
      "[0, 2, 3, 6, 7, 1]\n",
      "3\n",
      "7 8 2\n"
     ]
    }
   ],
   "source": [
    "from collections import defaultdict\n",
    "import sys\n",
    "sys.setrecursionlimit(10 ** 8)\n",
    "\n",
    "\n",
    "n = int(input())\n",
    "\n",
    "graph = [int(t) - 1 for t in input().split()]\n",
    "\n",
    "visited_list = [0]\n",
    "\n",
    "visited_set = {0}\n",
    "\n",
    "now = 0\n",
    "\n",
    "while 1:\n",
    "    next_postion = graph[now]\n",
    "    print(visited_list)\n",
    "    if next_postion in visited_set:\n",
    "        index_ans = visited_list.index(next_postion)\n",
    "        ans = visited_list[index_ans:]\n",
    "        print(len(ans))\n",
    "        print(*[a + 1 for a in ans])\n",
    "        break\n",
    "    else:\n",
    "        visited_set.add(next_postion)\n",
    "        visited_list.append(next_postion)\n",
    "        now = next_postion"
   ]
  },
  {
   "cell_type": "code",
   "execution_count": 17,
   "metadata": {},
   "outputs": [
    {
     "name": "stdout",
     "output_type": "stream",
     "text": [
      "3\n",
      "7 8 2\n"
     ]
    }
   ],
   "source": [
    "from collections import defaultdict\n",
    "import sys\n",
    "sys.setrecursionlimit(10 ** 8)\n",
    "\n",
    "\n",
    "n = int(input())\n",
    "tmp = list(map(int,input().split()))\n",
    "graph = defaultdict(list)\n",
    "for i in range(n):\n",
    "    graph[i + 1].append(tmp[i])\n",
    "\n",
    "graph\n",
    "\n",
    "def dfs(now):\n",
    "    # print(ans)\n",
    "    if now in visited:\n",
    "        return now    \n",
    "    visited.add(now)\n",
    "    ans.append(now)\n",
    "\n",
    "    for next_position in graph[now]:\n",
    "        return dfs(next_position)\n",
    "    \n",
    "visited = set()\n",
    "ans = []\n",
    "for key in graph.keys():\n",
    "    ans = []\n",
    "    visited = set()\n",
    "    index____ = dfs(key)\n",
    "    if ans:\n",
    "        ans_index = ans.index(index____)\n",
    "        ans = ans[ans_index : ]\n",
    "        print(len(ans))\n",
    "        print(*ans)\n",
    "        break"
   ]
  },
  {
   "cell_type": "code",
   "execution_count": 13,
   "metadata": {},
   "outputs": [
    {
     "name": "stdout",
     "output_type": "stream",
     "text": [
      "1\n",
      "2\n",
      "3\n",
      "4\n",
      "5\n",
      "6\n",
      "7\n"
     ]
    }
   ],
   "source": []
  }
 ],
 "metadata": {
  "kernelspec": {
   "display_name": "Python 3",
   "language": "python",
   "name": "python3"
  },
  "language_info": {
   "codemirror_mode": {
    "name": "ipython",
    "version": 3
   },
   "file_extension": ".py",
   "mimetype": "text/x-python",
   "name": "python",
   "nbconvert_exporter": "python",
   "pygments_lexer": "ipython3",
   "version": "3.12.2"
  }
 },
 "nbformat": 4,
 "nbformat_minor": 2
}
