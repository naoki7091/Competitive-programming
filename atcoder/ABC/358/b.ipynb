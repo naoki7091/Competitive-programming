{
 "cells": [
  {
   "cell_type": "code",
   "execution_count": null,
   "metadata": {},
   "outputs": [],
   "source": [
    "map(int,input().split())\n",
    "list(map(int,input().split()))\n",
    "int(input())"
   ]
  },
  {
   "cell_type": "code",
   "execution_count": 9,
   "metadata": {},
   "outputs": [],
   "source": [
    "now = 0\n",
    "n , a = map(int,input().split())\n",
    "t = list(map(int,input().split()))\n",
    "max_time = 10**6 + 1\n",
    "stack = []\n",
    "\n",
    "for i in range(n):\n",
    "    if now < t[i]:\n",
    "        now += abs(now - t[i])\n",
    "        now += a\n",
    "        print(now)\n",
    "    else:\n",
    "        now += a\n",
    "        print(now)\n",
    "        "
   ]
  },
  {
   "cell_type": "code",
   "execution_count": 10,
   "metadata": {},
   "outputs": [
    {
     "name": "stdout",
     "output_type": "stream",
     "text": [
      "4\n",
      "8\n",
      "14\n"
     ]
    }
   ],
   "source": [
    "max_time = 10**6 + 1\n",
    "stack = []\n",
    "\n",
    "for i in range(n):\n",
    "    if now < t[i]:\n",
    "        now += abs(now - t[i])\n",
    "        now += a\n",
    "        print(now)\n",
    "    else:\n",
    "        now += a\n",
    "        print(now)\n",
    "        "
   ]
  }
 ],
 "metadata": {
  "kernelspec": {
   "display_name": "Python 3",
   "language": "python",
   "name": "python3"
  },
  "language_info": {
   "codemirror_mode": {
    "name": "ipython",
    "version": 3
   },
   "file_extension": ".py",
   "mimetype": "text/x-python",
   "name": "python",
   "nbconvert_exporter": "python",
   "pygments_lexer": "ipython3",
   "version": "3.12.2"
  }
 },
 "nbformat": 4,
 "nbformat_minor": 2
}
