{
 "cells": [
  {
   "cell_type": "code",
   "execution_count": 6,
   "metadata": {},
   "outputs": [
    {
     "name": "stdout",
     "output_type": "stream",
     "text": [
      "-1\n"
     ]
    },
    {
     "ename": "SystemExit",
     "evalue": "",
     "output_type": "error",
     "traceback": [
      "An exception has occurred, use %tb to see the full traceback.\n",
      "\u001b[0;31mSystemExit\u001b[0m\n"
     ]
    },
    {
     "name": "stderr",
     "output_type": "stream",
     "text": [
      "/root/.local/lib/python3.12/site-packages/IPython/core/interactiveshell.py:3585: UserWarning: To exit: use 'exit', 'quit', or Ctrl-D.\n",
      "  warn(\"To exit: use 'exit', 'quit', or Ctrl-D.\", stacklevel=1)\n"
     ]
    }
   ],
   "source": [
    "n , m = map(int,input().split())\n",
    "a = list(map(int,input().split()))\n",
    "b = list(map(int,input().split()))\n",
    "\n",
    "# 無理\n",
    "import sys\n",
    "max_a = max(a)\n",
    "max_b = max(b)\n",
    "if max_a < max_b:\n",
    "    print(-1)\n",
    "    sys.exit()\n",
    "    \n",
    "a_sort = sorted(a)\n",
    "b_sort = sorted(b)\n",
    "\n",
    "count_b = 0\n",
    "ans = 0\n",
    "for i in range(len(a_sort)):\n",
    "    if a_sort[i] >= b_sort[count_b]:\n",
    "        ans += a_sort[i]\n",
    "        count_b += 1\n",
    "        if count_b == len(b_sort):\n",
    "            print(ans)\n",
    "            break"
   ]
  },
  {
   "cell_type": "code",
   "execution_count": null,
   "metadata": {},
   "outputs": [],
   "source": [
    "n, m = map(int, input().split())\n",
    "a = list(map(int, input().split()))\n",
    "b = list(map(int, input().split()))\n",
    "\n",
    "import sys\n",
    "\n",
    "max_a = max(a)\n",
    "max_b = max(b)\n",
    "if max_a < max_b:\n",
    "    print(-1)\n",
    "    sys.exit()\n",
    "\n",
    "# リストのソート\n",
    "a_sort = sorted(a)\n",
    "b_sort = sorted(b)\n",
    "\n",
    "count_b = 0\n",
    "ans = 0\n",
    "\n",
    "for i in range(len(a_sort)):\n",
    "    if a_sort[i] >= b_sort[count_b]:\n",
    "        ans += a_sort[i]\n",
    "        count_b += 1\n",
    "        if count_b == len(b_sort):\n",
    "            print(ans)\n",
    "            sys.exit()\n",
    "\n",
    "print(-1)\n"
   ]
  },
  {
   "cell_type": "code",
   "execution_count": 4,
   "metadata": {},
   "outputs": [
    {
     "name": "stdout",
     "output_type": "stream",
     "text": [
      "7\n"
     ]
    }
   ],
   "source": [
    "# 無理\n",
    "import sys\n",
    "max_a = max(a)\n",
    "max_b = max(b)\n",
    "if max_a < max_b:\n",
    "    print(-1)\n",
    "    sys.exit()\n",
    "    \n",
    "a_sort = sorted(a)\n",
    "b_sort = sorted(b)\n",
    "\n",
    "a_sort , b_sort\n",
    "count_b = 0\n",
    "ans = 0\n",
    "for i in range(len(a_sort)):\n",
    "    if a_sort[i] >= b_sort[count_b]:\n",
    "        ans += a_sort[i]\n",
    "        count_b += 1\n",
    "        if count_b == len(b_sort):\n",
    "            print(ans)\n",
    "            break"
   ]
  },
  {
   "cell_type": "code",
   "execution_count": null,
   "metadata": {},
   "outputs": [],
   "source": [
    "def count_strings(alphabet_limits, max_length, M):\n",
    "    from collections import defaultdict\n",
    "\n",
    "    num_alphabets = len(alphabet_limits)\n",
    "    \n",
    "    # DPテーブルの初期化\n",
    "    dp = defaultdict(lambda: [0] * (max_length + 1))\n",
    "    initial_state = tuple([0] * num_alphabets)\n",
    "    dp[initial_state][0] = 1\n",
    "\n",
    "    # DPテーブルの更新\n",
    "    for length in range(max_length):\n",
    "        current_dp = defaultdict(lambda: [0] * (max_length + 1))\n",
    "        for state, counts in dp.items():\n",
    "            if counts[length] > 0:\n",
    "                for i in range(num_alphabets):\n",
    "                    if state[i] < alphabet_limits[i]:\n",
    "                        next_state = list(state)\n",
    "                        next_state[i] += 1\n",
    "                        next_state = tuple(next_state)\n",
    "                        current_dp[next_state][length + 1] = (current_dp[next_state][length + 1] + counts[length]) % M\n",
    "        dp = current_dp\n",
    "\n",
    "    # 解の計算\n",
    "    result = 0\n",
    "    for counts in dp.values():\n",
    "        result = (result + sum(counts[1:max_length + 1])) % M\n",
    "\n",
    "    return result\n",
    "\n",
    "k = int(input())\n",
    "c = list(map(int, input().split()))\n",
    "M = 998244353\n",
    "\n",
    "print(count_strings(c, k, M))\n"
   ]
  }
 ],
 "metadata": {
  "kernelspec": {
   "display_name": "Python 3",
   "language": "python",
   "name": "python3"
  },
  "language_info": {
   "codemirror_mode": {
    "name": "ipython",
    "version": 3
   },
   "file_extension": ".py",
   "mimetype": "text/x-python",
   "name": "python",
   "nbconvert_exporter": "python",
   "pygments_lexer": "ipython3",
   "version": "3.12.2"
  }
 },
 "nbformat": 4,
 "nbformat_minor": 2
}
