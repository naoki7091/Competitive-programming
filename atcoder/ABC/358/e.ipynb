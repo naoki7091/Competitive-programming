{
 "cells": [
  {
   "cell_type": "code",
   "execution_count": null,
   "metadata": {},
   "outputs": [],
   "source": [
    "M = 998244353\n",
    "k = int(input())\n",
    "c = list(map(int,input().split()))\n"
   ]
  },
  {
   "cell_type": "code",
   "execution_count": 20,
   "metadata": {},
   "outputs": [],
   "source": [
    "def count_strings(alphabet_limits, max_length, M):\n",
    "\n",
    "    num_alphabets = len(alphabet_limits)\n",
    "    \n",
    "    dp = {}\n",
    "    initial_state = tuple([0] * num_alphabets)\n",
    "    dp[initial_state] = [1] + [0] * max_length\n",
    "\n",
    "    for length in range(max_length):\n",
    "        current_dp = dp.copy()\n",
    "        for state, counts in current_dp.items():\n",
    "            if counts[length] > 0:\n",
    "                for i in range(num_alphabets):\n",
    "                    next_state = list(state)\n",
    "                    if next_state[i] < alphabet_limits[i]:\n",
    "                        next_state[i] += 1\n",
    "                        next_state = tuple(next_state)\n",
    "                        if next_state not in dp:\n",
    "                            dp[next_state] = [0] * (max_length + 1)\n",
    "                        dp[next_state][length + 1] = (dp[next_state][length + 1] + counts[length]) % M\n",
    "\n",
    "    result = 0\n",
    "    for state, counts in dp.items():\n",
    "        result = (result + sum(counts[1:max_length + 1])) % M\n",
    "\n",
    "    return result\n",
    "\n",
    "k = int(input())\n",
    "c = list(map(int, input().split()))\n",
    "M = 998244353\n",
    "\n",
    "print(count_strings(c, k, M))\n"
   ]
  }
 ],
 "metadata": {
  "kernelspec": {
   "display_name": "Python 3",
   "language": "python",
   "name": "python3"
  },
  "language_info": {
   "codemirror_mode": {
    "name": "ipython",
    "version": 3
   },
   "file_extension": ".py",
   "mimetype": "text/x-python",
   "name": "python",
   "nbconvert_exporter": "python",
   "pygments_lexer": "ipython3",
   "version": "3.12.2"
  }
 },
 "nbformat": 4,
 "nbformat_minor": 2
}
