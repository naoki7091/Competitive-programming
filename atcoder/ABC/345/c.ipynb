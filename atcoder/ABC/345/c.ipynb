{
 "cells": [
  {
   "cell_type": "code",
   "execution_count": 34,
   "metadata": {},
   "outputs": [
    {
     "name": "stdout",
     "output_type": "stream",
     "text": [
      "<itertools.combinations object at 0x7f06be29fce0>\n",
      "['b', 'a', 'c']\n",
      "['c', 'a', 'b']\n",
      "['c', 'b', 'a']\n",
      "{'cab', 'bac', 'cba'}\n",
      "3\n"
     ]
    }
   ],
   "source": [
    "import itertools\n",
    "s = list(input())\n",
    "\n",
    "nums = [i for i in range(len(s))]\n",
    "comb = itertools.combinations(nums,2)\n",
    "\n",
    "ans = set()\n",
    "\n",
    "print(comb)\n",
    "\n",
    "for i,j in comb:\n",
    "    s[i],s[j] = s[j],s[i]\n",
    "    print(s)\n",
    "    ans.add(\"\".join(s))\n",
    "    \n",
    "print(ans)\n",
    "\n",
    "print(len(ans))"
   ]
  },
  {
   "cell_type": "code",
   "execution_count": 36,
   "metadata": {},
   "outputs": [
    {
     "name": "stdout",
     "output_type": "stream",
     "text": [
      "3\n"
     ]
    }
   ],
   "source": [
    "from collections import defaultdict\n",
    "s = list(input())\n",
    "count = defaultdict(int)\n",
    "ans = 0\n",
    "for j in range(len(s)):\n",
    "    ans += j - count[s[j]]\n",
    "    count[s[j]] += 1\n",
    "\n",
    "if max(count.values()) > 1:\n",
    "    ans += 1\n",
    "\n",
    "print(ans)\n"
   ]
  }
 ],
 "metadata": {
  "kernelspec": {
   "display_name": "Python 3",
   "language": "python",
   "name": "python3"
  },
  "language_info": {
   "codemirror_mode": {
    "name": "ipython",
    "version": 3
   },
   "file_extension": ".py",
   "mimetype": "text/x-python",
   "name": "python",
   "nbconvert_exporter": "python",
   "pygments_lexer": "ipython3",
   "version": "3.12.2"
  }
 },
 "nbformat": 4,
 "nbformat_minor": 2
}
