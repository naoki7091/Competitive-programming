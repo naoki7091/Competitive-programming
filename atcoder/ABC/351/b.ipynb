{
 "cells": [
  {
   "cell_type": "code",
   "execution_count": null,
   "metadata": {},
   "outputs": [],
   "source": []
  },
  {
   "cell_type": "code",
   "execution_count": 24,
   "metadata": {},
   "outputs": [],
   "source": [
    "n = int(input())  # 行列のサイズ\n",
    "\n",
    "# grid_a の入力\n",
    "grid_a = []\n",
    "for _ in range(n):\n",
    "    grid_a.append(list(input()))  # 各行を文字のリストとして読み込む\n",
    "\n",
    "# grid_b の入力\n",
    "grid_b = []\n",
    "for _ in range(n):\n",
    "    grid_b.append(list(input()))  # 各行を文字のリストとして読み込む\n",
    "\n",
    "ans = []\n",
    "for i in range(n):\n",
    "    for j in range(n):\n",
    "        if grid_a[i][j] != grid_b[i][j]:\n",
    "            ans.append((i+1, j+1))  # インデックスのタプルをリストに追加\n",
    "\n",
    "print(*ans)  # 結果の表示"
   ]
  },
  {
   "cell_type": "code",
   "execution_count": 29,
   "metadata": {},
   "outputs": [
    {
     "name": "stdout",
     "output_type": "stream",
     "text": [
      "['a', 'b', 'c']\n"
     ]
    },
    {
     "ename": "IndexError",
     "evalue": "list index out of range",
     "output_type": "error",
     "traceback": [
      "\u001b[0;31m---------------------------------------------------------------------------\u001b[0m",
      "\u001b[0;31mIndexError\u001b[0m                                Traceback (most recent call last)",
      "Cell \u001b[0;32mIn[29], line 4\u001b[0m\n\u001b[1;32m      2\u001b[0m \u001b[38;5;28;01mfor\u001b[39;00m i \u001b[38;5;129;01min\u001b[39;00m \u001b[38;5;28mrange\u001b[39m(n):\n\u001b[1;32m      3\u001b[0m     \u001b[38;5;28;01mfor\u001b[39;00m j \u001b[38;5;129;01min\u001b[39;00m \u001b[38;5;28mrange\u001b[39m(n):\n\u001b[0;32m----> 4\u001b[0m         \u001b[38;5;28mprint\u001b[39m(\u001b[43mgrid_a\u001b[49m\u001b[43m[\u001b[49m\u001b[43mi\u001b[49m\u001b[43m]\u001b[49m\u001b[43m[\u001b[49m\u001b[43mj\u001b[49m\u001b[43m]\u001b[49m)\n\u001b[1;32m      5\u001b[0m         \u001b[38;5;28;01mif\u001b[39;00m grid_a[i][j] \u001b[38;5;241m==\u001b[39m grid_b[i][j]:\n\u001b[1;32m      6\u001b[0m             \u001b[38;5;28;01mcontinue\u001b[39;00m\n",
      "\u001b[0;31mIndexError\u001b[0m: list index out of range"
     ]
    }
   ],
   "source": [
    "ans = []\n",
    "for i in range(n):\n",
    "    for j in range(n):\n",
    "        print(grid_a[i][j])\n",
    "        if grid_a[i][j] == grid_b[i][j]:\n",
    "            continue\n",
    "        else:\n",
    "            ans.append(i,j)\n",
    "\n",
    "ans"
   ]
  },
  {
   "cell_type": "code",
   "execution_count": 32,
   "metadata": {},
   "outputs": [
    {
     "data": {
      "text/plain": [
       "['g', 'h', 'i']"
      ]
     },
     "execution_count": 32,
     "metadata": {},
     "output_type": "execute_result"
    }
   ],
   "source": [
    "grid_b[2][0]"
   ]
  },
  {
   "cell_type": "code",
   "execution_count": 19,
   "metadata": {},
   "outputs": [
    {
     "data": {
      "text/plain": [
       "[['a', 'b', 'c'], ['a', 'b', 'c']]"
      ]
     },
     "execution_count": 19,
     "metadata": {},
     "output_type": "execute_result"
    }
   ],
   "source": [
    "tmp = \"abc\"\n",
    "\n",
    "tmp = [ch for ch in tmp]\n",
    "\n",
    "tmp\n",
    "\n",
    "h = []\n",
    "\n",
    "h.append(tmp)\n",
    "\n",
    "\n",
    "tmp = \"abc\"\n",
    "\n",
    "tmp = [ch for ch in tmp]\n",
    "\n",
    "h.append(tmp)\n",
    "\n",
    "\n",
    "h"
   ]
  }
 ],
 "metadata": {
  "kernelspec": {
   "display_name": "Python 3",
   "language": "python",
   "name": "python3"
  },
  "language_info": {
   "codemirror_mode": {
    "name": "ipython",
    "version": 3
   },
   "file_extension": ".py",
   "mimetype": "text/x-python",
   "name": "python",
   "nbconvert_exporter": "python",
   "pygments_lexer": "ipython3",
   "version": "3.12.2"
  }
 },
 "nbformat": 4,
 "nbformat_minor": 2
}
