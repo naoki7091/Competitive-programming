{
 "cells": [
  {
   "cell_type": "code",
   "execution_count": 1,
   "metadata": {},
   "outputs": [],
   "source": [
    "n = int(input())\n",
    "\n",
    "a = list(map(int,input().split()))\n",
    "\n"
   ]
  },
  {
   "cell_type": "code",
   "execution_count": 15,
   "metadata": {},
   "outputs": [
    {
     "name": "stdout",
     "output_type": "stream",
     "text": [
      "2\n",
      "1\n",
      "1\n",
      "3\n",
      "5\n",
      "3\n",
      "3\n"
     ]
    },
    {
     "data": {
      "text/plain": [
       "defaultdict(int, {2: 1, 1: 2, 3: 3, 5: 1})"
      ]
     },
     "execution_count": 15,
     "metadata": {},
     "output_type": "execute_result"
    }
   ],
   "source": [
    "from collections import defaultdict\n",
    "\n",
    "kara = defaultdict(int)\n",
    "\n",
    "for i in range(n):\n",
    "    print(a[i])\n",
    "    kara[a[i]] += 1\n",
    "    if kara[a[i]]%2 == 0:\n",
    "        kara[]\n",
    "\n",
    "kara"
   ]
  },
  {
   "cell_type": "code",
   "execution_count": 16,
   "metadata": {},
   "outputs": [
    {
     "name": "stdout",
     "output_type": "stream",
     "text": [
      "4\n"
     ]
    }
   ],
   "source": [
    "def merge_balls(ball_sizes):\n",
    "    stack = []\n",
    "    for size in ball_sizes:\n",
    "        stack.append(size)\n",
    "        while len(stack) > 1 and stack[-1] == stack[-2]:\n",
    "            b1 = stack.pop()  \n",
    "            b2 = stack.pop()  \n",
    "            merged_ball = b1 + 1  \n",
    "            stack.append(merged_ball)  \n",
    "    return len(stack)  \n",
    "\n",
    "\n",
    "n = int(input())\n",
    "ball_sizes = list(map(int, input().split()))\n",
    "\n",
    "result = merge_balls(ball_sizes)\n",
    "\n",
    "print(result)\n"
   ]
  },
  {
   "cell_type": "code",
   "execution_count": 12,
   "metadata": {},
   "outputs": [
    {
     "data": {
      "text/plain": [
       "32"
      ]
     },
     "execution_count": 12,
     "metadata": {},
     "output_type": "execute_result"
    }
   ],
   "source": [
    "2**4 + 2**4from collections import deque\n",
    "\n",
    "def max_degree_of_freedom(H, W, grid):\n",
    "    directions = [(-1, 0), (1, 0), (0, -1), (0, 1)]  # 上, 下, 左, 右\n",
    "\n",
    "    def is_magnet_around(x, y):\n",
    "        \"\"\"指定されたマス(x, y)の周囲に磁石(#)があるかを判断する\"\"\"\n",
    "        for dx, dy in directions:\n",
    "            nx, ny = x + dx, y + dy\n",
    "            if 0 <= nx < H and 0 <= ny < W:\n",
    "                if grid[nx][ny] == '#':\n",
    "                    return True\n",
    "        return False\n",
    "\n",
    "    def bfs(start_x, start_y):\n",
    "        \"\"\"BFSを使用して、指定されたマスから移動可能なマスの数を数える\"\"\"\n",
    "        queue = deque([(start_x, start_y)])\n",
    "        visited = set([(start_x, start_y)])\n",
    "        while queue:\n",
    "            x, y = queue.popleft()\n",
    "            for dx, dy in directions:\n",
    "                nx, ny = x + dx, y + dy\n",
    "                if 0 <= nx < H and 0 <= ny < W and (nx, ny) not in visited and grid[nx][ny] == '.':\n",
    "                    if not is_magnet_around(nx, ny):\n",
    "                        visited.add((nx, ny))\n",
    "                        queue.append((nx, ny))\n",
    "        return len(visited)\n",
    "\n",
    "    max_freedom = 0\n",
    "    for i in range(H):\n",
    "        for j in range(W):\n",
    "            if grid[i][j] == '.' and not is_magnet_around(i, j):\n",
    "                max_freedom = max(max_freedom, bfs(i, j))\n",
    "\n",
    "    return max_freedom\n",
    "\n",
    "# 例題のデータ\n",
    "H, W = 3, 5\n",
    "grid = [\n",
    "    \".#...\",\n",
    "    \".....\",\n",
    "    \".#..#\"\n",
    "]\n",
    "\n",
    "max_degree_of_freedom(H, W, grid)"
   ]
  }
 ],
 "metadata": {
  "kernelspec": {
   "display_name": "Python 3",
   "language": "python",
   "name": "python3"
  },
  "language_info": {
   "codemirror_mode": {
    "name": "ipython",
    "version": 3
   },
   "file_extension": ".py",
   "mimetype": "text/x-python",
   "name": "python",
   "nbconvert_exporter": "python",
   "pygments_lexer": "ipython3",
   "version": "3.12.2"
  }
 },
 "nbformat": 4,
 "nbformat_minor": 2
}
