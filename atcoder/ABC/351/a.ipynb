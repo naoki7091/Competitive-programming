{
 "cells": [
  {
   "cell_type": "code",
   "execution_count": 2,
   "metadata": {},
   "outputs": [],
   "source": [
    "taka = list(map(int,input().split()))\n",
    "aoki = list(map(int,input().split()))\n",
    "\n",
    "taka_sum = sum(taka)\n",
    "aoki_sum = sum(aoki)\n",
    "\n",
    "taka_sum,aoki_sum\n",
    "\n",
    "need_tokuten = taka_sum - aoki_sum\n",
    "\n",
    "if need_tokuten == 0:\n",
    "    print(1)\n",
    "else:\n",
    "    print(need_tokuten + 1)\n"
   ]
  },
  {
   "cell_type": "code",
   "execution_count": 3,
   "metadata": {},
   "outputs": [
    {
     "data": {
      "text/plain": [
       "(7, 3)"
      ]
     },
     "execution_count": 3,
     "metadata": {},
     "output_type": "execute_result"
    }
   ],
   "source": [
    "taka_sum = sum(taka)\n",
    "aoki_sum = sum(aoki)\n",
    "\n",
    "taka_sum,aoki_sum\n",
    "\n",
    "need_tokuten = taka_sum - aoki_sum\n",
    "\n",
    "if need_tokuten == 0:\n",
    "    print(1)\n",
    "else:\n",
    "    print(need_tokuten + 1)\n"
   ]
  },
  {
   "cell_type": "code",
   "execution_count": 4,
   "metadata": {},
   "outputs": [
    {
     "name": "stdout",
     "output_type": "stream",
     "text": [
      "5\n"
     ]
    }
   ],
   "source": [
    "need_tokuten = taka_sum - aoki_sum\n",
    "\n",
    "if need_tokuten == 0:\n",
    "    print(1)\n",
    "else:\n",
    "    print(need_tokuten + 1)"
   ]
  }
 ],
 "metadata": {
  "kernelspec": {
   "display_name": "Python 3",
   "language": "python",
   "name": "python3"
  },
  "language_info": {
   "codemirror_mode": {
    "name": "ipython",
    "version": 3
   },
   "file_extension": ".py",
   "mimetype": "text/x-python",
   "name": "python",
   "nbconvert_exporter": "python",
   "pygments_lexer": "ipython3",
   "version": "3.12.2"
  }
 },
 "nbformat": 4,
 "nbformat_minor": 2
}
