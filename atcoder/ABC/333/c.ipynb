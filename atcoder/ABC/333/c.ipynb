{
 "cells": [
  {
   "cell_type": "code",
   "execution_count": 37,
   "metadata": {
    "metadata": {}
   },
   "outputs": [
    {
     "name": "stdout",
     "output_type": "stream",
     "text": [
      "112222222233\n"
     ]
    }
   ],
   "source": [
    "n = int(input())\n",
    "\n",
    "\n",
    "test = []\n",
    "for i in range(1,13):\n",
    "    tmp = bin(2**i-1)\n",
    "    test.append(int(tmp[2:]))\n",
    "\n",
    "\n",
    "from itertools import combinations_with_replacement\n",
    "\n",
    "\n",
    "ans = []\n",
    "for num in combinations_with_replacement(test,3):\n",
    "    ans.append(sum(num))\n",
    "\n",
    "ans.sort()\n",
    "ans\n",
    "print(ans[n-1])"
   ]
  },
  {
   "cell_type": "code",
   "execution_count": 28,
   "metadata": {
    "metadata": {}
   },
   "outputs": [
    {
     "data": {
      "text/plain": [
       "12"
      ]
     },
     "execution_count": 28,
     "metadata": {},
     "output_type": "execute_result"
    }
   ],
   "source": [
    "test = []\n",
    "for i in range(1,13):\n",
    "    tmp = bin(2**i-1)\n",
    "    test.append(int(tmp[2:]))\n",
    "\n",
    "\n",
    "from itertools import combinations_with_replacement\n",
    "ans = []\n",
    "for num in combinations_with_replacement(test,3):\n",
    "    ans.append(sum(num))\n",
    "\n",
    "ans.sort()\n",
    "ans\n",
    "print(ans[n-1])"
   ]
  }
 ],
 "metadata": {
  "kernelspec": {
   "display_name": "Python 3",
   "language": "python",
   "name": "python3"
  },
  "language_info": {
   "codemirror_mode": {
    "name": "ipython",
    "version": 3
   },
   "file_extension": ".py",
   "mimetype": "text/x-python",
   "name": "python",
   "nbconvert_exporter": "python",
   "pygments_lexer": "ipython3",
   "version": "3.12.2"
  }
 },
 "nbformat": 4,
 "nbformat_minor": 2
}
