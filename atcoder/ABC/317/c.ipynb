{
 "cells": [
  {
   "cell_type": "code",
   "execution_count": 12,
   "metadata": {},
   "outputs": [
    {
     "data": {
      "text/plain": [
       "[[0, 0, 0, 0, 0],\n",
       " [0, 0, 1, 100, 1000],\n",
       " [0, 0, 0, 10, 0],\n",
       " [0, 0, 0, 0, 0],\n",
       " [0, 0, 0, 0, 0]]"
      ]
     },
     "execution_count": 12,
     "metadata": {},
     "output_type": "execute_result"
    }
   ],
   "source": [
    "n,m = map(int,input().split())\n",
    "\n",
    "graph = [[0 for _ in range(n)] for _ in range(n)]\n",
    "\n",
    "\n",
    "for i in range(m):\n",
    "    a,b,c = map(int,input().split())\n",
    "    graph[a - 1][b - 1] = c\n",
    "    graph[b - 1][a - 1] = c\n",
    "\n",
    "graph\n",
    "\n",
    "import itertools\n",
    "\n",
    "num = list(range(n))\n",
    "all_road = list(itertools.permutations(num))\n",
    "\n",
    "ans = 0\n",
    "\n",
    "for road in all_road:\n",
    "    tmp = 0\n",
    "    for i in range(n - 1):\n",
    "        if graph[road[i]][road[i + 1]] != 0:\n",
    "            tmp += graph[road[i]][road[i + 1]]\n",
    "        else:\n",
    "            break\n",
    "    ans = max(ans,tmp)\n",
    "print(ans)"
   ]
  },
  {
   "cell_type": "code",
   "execution_count": null,
   "metadata": {},
   "outputs": [],
   "source": [
    "import itertools\n",
    "\n",
    "num = list(range(n))\n",
    "all_road = list(itertools.permutations(num))\n",
    "\n",
    "ans = 0\n",
    "\n",
    "for road in all_road:\n",
    "    tmp = 0\n",
    "    for i in range(n - 1):\n",
    "        if graph[road[i]][road[i + 1]] != 0:\n",
    "            tmp += graph[road[i]][road[i + 1]]\n",
    "        else:\n",
    "            break\n",
    "    ans = max(ans,tmp)\n",
    "print(ans)"
   ]
  }
 ],
 "metadata": {
  "kernelspec": {
   "display_name": "Python 3",
   "language": "python",
   "name": "python3"
  },
  "language_info": {
   "codemirror_mode": {
    "name": "ipython",
    "version": 3
   },
   "file_extension": ".py",
   "mimetype": "text/x-python",
   "name": "python",
   "nbconvert_exporter": "python",
   "pygments_lexer": "ipython3",
   "version": "3.12.2"
  }
 },
 "nbformat": 4,
 "nbformat_minor": 2
}
