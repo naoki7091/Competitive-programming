{
 "cells": [
  {
   "cell_type": "code",
   "execution_count": 1,
   "metadata": {
    "metadata": {}
   },
   "outputs": [],
   "source": [
    "n,m = map(int,input().split())\n",
    "\n",
    "s = list(input())"
   ]
  },
  {
   "cell_type": "code",
   "execution_count": 3,
   "metadata": {
    "metadata": {}
   },
   "outputs": [
    {
     "data": {
      "text/plain": [
       "[1, 1, 2, 0, 2, 2]"
      ]
     },
     "execution_count": 3,
     "metadata": {},
     "output_type": "execute_result"
    }
   ],
   "source": [
    "s = [int(num) for num in s]"
   ]
  },
  {
   "cell_type": "code",
   "execution_count": 12,
   "metadata": {
    "metadata": {}
   },
   "outputs": [
    {
     "data": {
      "text/plain": [
       "[1]"
      ]
     },
     "execution_count": 12,
     "metadata": {},
     "output_type": "execute_result"
    }
   ],
   "source": [
    "# 0:washing\n",
    "# 1:muji or logo\n",
    "# 2:logo\n",
    "\n",
    "normal = []\n",
    "logo = []\n",
    "used_normal = [] \n",
    "used_logo = [] \n",
    "\n",
    "for i in range(m):\n",
    "    normal.append(1)\n",
    "\n",
    "normal\n",
    "\n",
    "\n"
   ]
  },
  {
   "cell_type": "code",
   "execution_count": 13,
   "metadata": {
    "metadata": {}
   },
   "outputs": [
    {
     "name": "stdout",
     "output_type": "stream",
     "text": [
      "2\n"
     ]
    }
   ],
   "source": [
    "ans = 0\n",
    "for i in range(len(s)):\n",
    "    if s[i] == 0:\n",
    "        logo = logo + used_logo\n",
    "        normal = normal + used_normal\n",
    "    elif s[i] == 1:\n",
    "        if len(normal) <= 0 and len(logo) <= 0: # どちらもきれるものがない\n",
    "            ans += 1\n",
    "            logo.append(1)\n",
    "        elif len(normal) > 1 and len(logo) <= 0: # 無地はきれる場合\n",
    "            tmp = normal.pop()\n",
    "            used_normal.append(tmp)\n",
    "        elif len(normal) <= 0 and len(logo) > 0: # ロゴのシャツを着れる場合\n",
    "            tmp = logo.pop()\n",
    "            used_logo.append(tmp)\n",
    "    elif s[i] == 2: #\n",
    "        if len(logo) <= 0:\n",
    "            ans += 1\n",
    "            logo.append(1)\n",
    "        else:\n",
    "            tmp = logo.pop()\n",
    "            used_logo.append(tmp)\n",
    "\n",
    "print(ans)"
   ]
  },
  {
   "cell_type": "code",
   "execution_count": 15,
   "metadata": {
    "metadata": {}
   },
   "outputs": [
    {
     "name": "stdout",
     "output_type": "stream",
     "text": [
      "3\n"
     ]
    }
   ],
   "source": [
    "n,m = map(int,input().split())\n",
    "\n",
    "s = list(input())\n",
    "\n",
    "s = [int(num) for num in s]\n",
    "\n",
    "\n",
    "# 0:washing\n",
    "# 1:muji or logo\n",
    "# 2:logo\n",
    "\n",
    "normal = []\n",
    "logo = []\n",
    "used_normal = [] \n",
    "used_logo = [] \n",
    "\n",
    "for i in range(m):\n",
    "    normal.append(1)\n",
    "\n",
    "ans = 0\n",
    "for i in range(len(s)):\n",
    "    if s[i] == 0:\n",
    "        logo = logo + used_logo\n",
    "        normal = normal + used_normal\n",
    "        used_logo.clear()\n",
    "        used_normal.clear()\n",
    "    elif s[i] == 1:\n",
    "        if len(normal) == 0 and len(logo) == 0: # どちらもきれるものがない\n",
    "            ans += 1\n",
    "            logo.append(1)\n",
    "            tmp = logo.pop()\n",
    "            used_logo.append(tmp)\n",
    "        elif len(normal) >= 1 and len(logo) == 0: # 無地はきれる場合\n",
    "            tmp = normal.pop()\n",
    "            used_normal.append(tmp)\n",
    "        elif len(normal) == 0 and len(logo) >= 1: # ロゴのシャツを着れる場合\n",
    "            tmp = logo.pop()\n",
    "            used_logo.append(tmp)\n",
    "    elif s[i] == 2:\n",
    "        if len(logo) == 0:\n",
    "            ans += 1\n",
    "            logo.append(1)\n",
    "            tmp = logo.pop()\n",
    "            used_logo.append(tmp)\n",
    "        else:\n",
    "            tmp = logo.pop()\n",
    "            used_logo.append(tmp)\n",
    "\n",
    "print(len(logo) + len(used_logo))"
   ]
  },
  {
   "cell_type": "code",
   "execution_count": 20,
   "metadata": {
    "metadata": {}
   },
   "outputs": [
    {
     "name": "stdout",
     "output_type": "stream",
     "text": [
      "[1, 2, 3, 4]\n",
      "[6.7, 8]\n",
      "[1, 2, 3, 4, 6.7, 8]\n",
      "None\n"
     ]
    },
    {
     "data": {
      "text/plain": [
       "[]"
      ]
     },
     "execution_count": 20,
     "metadata": {},
     "output_type": "execute_result"
    }
   ],
   "source": [
    "n,m = map(int,input().split())\n",
    "\n",
    "s = list(input())\n",
    "\n",
    "s = [int(num) for num in s]\n",
    "\n",
    "\n",
    "normal = m\n",
    "normal_used = 0\n",
    "\n",
    "logo = 0\n",
    "logo_used = 0\n",
    "\n",
    "for num in s:\n",
    "    if num == 0:\n",
    "        normal += normal_used\n",
    "        logo += logo_used\n",
    "        normal_used = 0\n",
    "        logo_used = 0\n",
    "    elif num == 1:\n",
    "        if normal:\n",
    "            normal -= 1\n",
    "            normal_used += 1\n",
    "        elif logo:\n",
    "            logo -= 1\n",
    "            logo_used += 1\n",
    "        else:\n",
    "            logo_used += 1 # 服の購入\n",
    "    elif num == 2:\n",
    "        if logo:\n",
    "            logo -= 1\n",
    "            logo_used += 1\n",
    "        else:\n",
    "            logo_used += 1\n",
    "\n",
    "print(logo + logo_used) #"
   ]
  }
 ],
 "metadata": {
  "kernelspec": {
   "display_name": "Python 3",
   "language": "python",
   "name": "python3"
  },
  "language_info": {
   "codemirror_mode": {
    "name": "ipython",
    "version": 3
   },
   "file_extension": ".py",
   "mimetype": "text/x-python",
   "name": "python",
   "nbconvert_exporter": "python",
   "pygments_lexer": "ipython3",
   "version": "3.12.2"
  }
 },
 "nbformat": 4,
 "nbformat_minor": 2
}
