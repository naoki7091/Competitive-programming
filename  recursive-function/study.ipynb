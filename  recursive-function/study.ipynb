{
 "cells": [
  {
   "cell_type": "markdown",
   "metadata": {},
   "source": [
    "# 再帰関数を完全に理解したい男\n",
    "\n",
    "## atcoderの再帰関数の項目を勉強する\n",
    "* 再帰関数の実装方法3ステップ\n",
    "    * 「引数」「返り値」「処理内容」を決める\n",
    "    * 再帰ステップの実装\n",
    "    * ベースケースの実装"
   ]
  },
  {
   "cell_type": "code",
   "execution_count": null,
   "metadata": {},
   "outputs": [],
   "source": [
    "# 0からnまでの総和を計算する\n",
    "\n",
    "def sum_re_func(n : int):\n",
    "    # print(n)\n",
    "    if n == 0:\n",
    "        return n # n = 0つまりf(1)の値だけ\n",
    "    \n",
    "    s = sum_re_func(n-1)\n",
    "\n",
    "    return n + s # f(2)の値\n",
    "\n",
    "\n",
    "sum_re_func(10)"
   ]
  },
  {
   "cell_type": "code",
   "execution_count": null,
   "metadata": {},
   "outputs": [],
   "source": [
    "# n = 3\n",
    "\n",
    "def sum0():\n",
    "    return 0\n",
    "\n",
    "def sum1():\n",
    "    s = sum0\n",
    "    return s + 1\n",
    "\n",
    "def sum2():\n",
    "    s = sum1\n",
    "    return s + 2\n",
    "\n",
    "def sum3():\n",
    "    s = sum2\n",
    "    return s + 3"
   ]
  },
  {
   "cell_type": "markdown",
   "metadata": {},
   "source": [
    "* ベースのケースを定める\n",
    "* 再帰のステップを定める\n",
    "* 上の例では、n = 0の処理をベースケース。それ以外を再帰ステップとする"
   ]
  },
  {
   "cell_type": "markdown",
   "metadata": {},
   "source": [
    "# aからbまでの総和を求める"
   ]
  },
  {
   "cell_type": "code",
   "execution_count": 18,
   "metadata": {},
   "outputs": [
    {
     "name": "stdout",
     "output_type": "stream",
     "text": [
      "0 4\n",
      "1 4\n",
      "2 4\n",
      "3 4\n",
      "4 4\n"
     ]
    },
    {
     "data": {
      "text/plain": [
       "10"
      ]
     },
     "execution_count": 18,
     "metadata": {},
     "output_type": "execute_result"
    }
   ],
   "source": [
    "def sum_a_b(a,b):\n",
    "    print(a,b)\n",
    "    if a == b:\n",
    "        return a\n",
    "    \n",
    "    s = sum_a_b(a+1,b)\n",
    "\n",
    "    return a + s\n",
    "\n",
    "sum_a_b(0,4)"
   ]
  },
  {
   "cell_type": "markdown",
   "metadata": {},
   "source": [
    "# 配列の要素の総和を求める"
   ]
  },
  {
   "cell_type": "code",
   "execution_count": 21,
   "metadata": {},
   "outputs": [
    {
     "name": "stdout",
     "output_type": "stream",
     "text": [
      "18\n"
     ]
    }
   ],
   "source": [
    "def sum_array(a):\n",
    "    n = len(a)\n",
    "    a_index = 0\n",
    "\n",
    "    def refunc(a_index):\n",
    "        if a_index == n - 1:\n",
    "            return a[a_index]\n",
    "        else:\n",
    "            s = refunc(a_index + 1)\n",
    "\n",
    "            return a[a_index] + s\n",
    "    \n",
    "    print(refunc(a_index))\n",
    "\n",
    "\n",
    "sum_array([0, 3, 9, 1, 5])"
   ]
  },
  {
   "cell_type": "markdown",
   "metadata": {},
   "source": [
    "# Nが素数であるかどうかを判定する"
   ]
  },
  {
   "cell_type": "code",
   "execution_count": 40,
   "metadata": {},
   "outputs": [
    {
     "name": "stdout",
     "output_type": "stream",
     "text": [
      "17\n",
      "1\n"
     ]
    }
   ],
   "source": [
    "def judge_prime(n):\n",
    "    print(n)\n",
    "    start = 2\n",
    "    end = n - 1\n",
    "\n",
    "    def refunc(start,end):\n",
    "        if start == end:\n",
    "            return 1\n",
    "        \n",
    "        if n % start == 0:\n",
    "            return 0\n",
    "        else:\n",
    "            s = refunc(start + 1 , end)\n",
    "            # print(s)\n",
    "            if s == 0:\n",
    "                return 0\n",
    "            else:\n",
    "                return 1\n",
    "\n",
    "    print(refunc(start,end))\n",
    "judge_prime(17)"
   ]
  },
  {
   "cell_type": "markdown",
   "metadata": {},
   "source": [
    "# 逆順に配列を並べる"
   ]
  },
  {
   "cell_type": "code",
   "execution_count": 62,
   "metadata": {},
   "outputs": [
    {
     "name": "stdout",
     "output_type": "stream",
     "text": [
      "[4, 5, 6, 7, 4, 23, 2]\n",
      "-1 6\n",
      "0 6\n",
      "1 6\n",
      "2 6\n",
      "3 6\n",
      "4 6\n",
      "5 6\n",
      "6 6\n",
      "[2, 23, 4, 7, 6, 5, 4]\n"
     ]
    }
   ],
   "source": [
    "def reverse_array(a):\n",
    "    print(a)\n",
    "    a_index = 0\n",
    "    end_arrya_index = len(a) - 1\n",
    "    reversed_array = []\n",
    "\n",
    "    def refunc(start,end):\n",
    "        print(start,end)\n",
    "        if start == end:\n",
    "            return a[start]\n",
    "        \n",
    "        s = refunc(start + 1, end)\n",
    "        reversed_array.append(s)\n",
    "        \n",
    "        return a[start]\n",
    "    \n",
    "    refunc(a_index-1,end_arrya_index)\n",
    "\n",
    "    print(reversed_array)\n",
    "reverse_array([4,5,6,7,4,23,2])"
   ]
  },
  {
   "cell_type": "code",
   "execution_count": 151,
   "metadata": {},
   "outputs": [],
   "source": [
    "# DFS\n",
    "from collections import defaultdict\n",
    "n = int(input())\n",
    "p = list(map(int,input().split()))"
   ]
  },
  {
   "cell_type": "code",
   "execution_count": 182,
   "metadata": {},
   "outputs": [
    {
     "name": "stdout",
     "output_type": "stream",
     "text": [
      "8\n",
      "4\n",
      "2\n",
      "3\n",
      "1\n",
      "1\n",
      "2\n",
      "1\n"
     ]
    }
   ],
   "source": [
    "# DFS\n",
    "from collections import defaultdict\n",
    "n = int(input())\n",
    "p = list(map(int,input().split()))\n",
    "\n",
    "graph = defaultdict(list)\n",
    "\n",
    "for i in range(len(p)):\n",
    "    graph[p[i]].append(i + 1)\n",
    "\n",
    "graph\n",
    "\n",
    "def judge(graph):\n",
    "    # print(graph)\n",
    "    current = 0\n",
    "    d = defaultdict(int)\n",
    "    def dfs(current):\n",
    "\n",
    "        if not current in graph.keys():\n",
    "            # 最深部に到達したら、親へ1枚報告書を提出\n",
    "            return 1\n",
    "        \n",
    "        childlen = graph[current]\n",
    "\n",
    "        for child in childlen:\n",
    "\n",
    "            # 報告書の枚数\n",
    "            paper = dfs(child)\n",
    "\n",
    "\n",
    "            # 自分の報告書を記録\n",
    "            d[child] = paper\n",
    "\n",
    "            # 親に渡す\n",
    "            d[current] += d[child]\n",
    "\n",
    "        \n",
    "        # さらに渡す\n",
    "        return d[current] + 1\n",
    "    \n",
    "    dfs(current)\n",
    "    # print(d)\n",
    "    for i in range(n):\n",
    "        if i == 0:\n",
    "            print(d[i] + 1)\n",
    "        else:\n",
    "            print(d[i])\n",
    "\n",
    "\n",
    "\n",
    "judge(graph)"
   ]
  },
  {
   "cell_type": "code",
   "execution_count": 184,
   "metadata": {},
   "outputs": [
    {
     "data": {
      "text/plain": [
       "defaultdict(list, {1: [2, 3], 2: [3, 4], 3: [5], 4: [6], 5: [6]})"
      ]
     },
     "execution_count": 184,
     "metadata": {},
     "output_type": "execute_result"
    }
   ],
   "source": [
    "# ALDS1_11_b\n",
    "from collections import defaultdict\n",
    "n = int(input())\n",
    "\n",
    "graph = defaultdict(list)\n",
    "\n",
    "for i in range(n):\n",
    "    tmp = list(map(int,input().split()))\n",
    "\n",
    "    for j in range(tmp[1]):\n",
    "        graph[i+1].append(tmp[j+2])\n",
    "\n",
    "def solution(graph):\n",
    "    # print(graph)\n",
    "    next_set  = set(graph.keys())\n",
    "\n",
    "    record_time = defaultdict(list)\n",
    "\n",
    "    global pass_time\n",
    "    pass_time = 1\n",
    "\n",
    "    visited = [False]*n\n",
    "    ans = []\n",
    "\n",
    "    def dfs(now):\n",
    "        # print(\"start\",now)\n",
    "        ans.append(now)\n",
    "\n",
    "        if not now in next_set:\n",
    "            # print(\"end\",now)\n",
    "            ans.append(now)\n",
    "            visited[now - 1] = True\n",
    "            return\n",
    "        \n",
    "        nexts = graph[now]\n",
    "        possible = len(nexts)\n",
    "\n",
    "        for next in nexts:\n",
    "            possible -= 1\n",
    "            if not visited[next - 1]:\n",
    "                dfs(next)\n",
    "                visited[now - 1] = True\n",
    "            if possible == 0:\n",
    "                # print(\"end\",now)\n",
    "                ans.append(now)\n",
    "        return\n",
    "    \n",
    "\n",
    "    dfs(1)\n",
    "\n",
    "    # print(ans)\n",
    "\n",
    "    for i in range(len(ans)):\n",
    "        record_time[ans[i]].append(i+1)\n",
    "    # print(record_time)\n",
    "\n",
    "    for i in range(1,n+1):\n",
    "        print(i,*record_time[i])\n",
    "\n",
    "solution(graph)"
   ]
  },
  {
   "cell_type": "code",
   "execution_count": 393,
   "metadata": {},
   "outputs": [
    {
     "name": "stdout",
     "output_type": "stream",
     "text": [
      "1 1 12\n",
      "2 2 11\n",
      "3 3 8\n",
      "4 9 10\n",
      "5 4 7\n",
      "6 5 6\n"
     ]
    }
   ],
   "source": [
    "def solution(graph):\n",
    "    # print(graph)\n",
    "    next_set  = set(graph.keys())\n",
    "\n",
    "    record_time = defaultdict(list)\n",
    "\n",
    "    global pass_time\n",
    "    pass_time = 1\n",
    "\n",
    "    visited = [False]*n\n",
    "    ans = []\n",
    "\n",
    "    def dfs(now):\n",
    "        # print(\"start\",now)\n",
    "        ans.append(now)\n",
    "\n",
    "        if not now in next_set:\n",
    "            # print(\"end\",now)\n",
    "            ans.append(now)\n",
    "            visited[now - 1] = True\n",
    "            return\n",
    "        \n",
    "        nexts = graph[now]\n",
    "        possible = len(nexts)\n",
    "\n",
    "        for next in nexts:\n",
    "            possible -= 1\n",
    "            if not visited[next - 1]:\n",
    "                dfs(next)\n",
    "                visited[now - 1] = True\n",
    "            if possible == 0:\n",
    "                # print(\"end\",now)\n",
    "                ans.append(now)\n",
    "        return\n",
    "    \n",
    "\n",
    "    dfs(1)\n",
    "\n",
    "    # print(ans)\n",
    "\n",
    "    for i in range(len(ans)):\n",
    "        record_time[ans[i]].append(i+1)\n",
    "    # print(record_time)\n",
    "\n",
    "    for i in range(1,n+1):\n",
    "        print(i,*record_time[i])\n",
    "\n",
    "solution(graph)"
   ]
  },
  {
   "cell_type": "code",
   "execution_count": 394,
   "metadata": {},
   "outputs": [
    {
     "ename": "ValueError",
     "evalue": "invalid literal for int() with base 10: ''",
     "output_type": "error",
     "traceback": [
      "\u001b[0;31m---------------------------------------------------------------------------\u001b[0m",
      "\u001b[0;31mValueError\u001b[0m                                Traceback (most recent call last)",
      "Cell \u001b[0;32mIn[394], line 3\u001b[0m\n\u001b[1;32m      1\u001b[0m \u001b[38;5;28;01mfrom\u001b[39;00m \u001b[38;5;21;01mcollections\u001b[39;00m \u001b[38;5;28;01mimport\u001b[39;00m defaultdict\n\u001b[0;32m----> 3\u001b[0m n \u001b[38;5;241m=\u001b[39m \u001b[38;5;28;43mint\u001b[39;49m\u001b[43m(\u001b[49m\u001b[38;5;28;43minput\u001b[39;49m\u001b[43m(\u001b[49m\u001b[43m)\u001b[49m\u001b[43m)\u001b[49m\n\u001b[1;32m      4\u001b[0m graph \u001b[38;5;241m=\u001b[39m defaultdict(\u001b[38;5;28mlist\u001b[39m)\n\u001b[1;32m      6\u001b[0m \u001b[38;5;28;01mfor\u001b[39;00m _ \u001b[38;5;129;01min\u001b[39;00m \u001b[38;5;28mrange\u001b[39m(n):\n",
      "\u001b[0;31mValueError\u001b[0m: invalid literal for int() with base 10: ''"
     ]
    }
   ],
   "source": [
    "from collections import defaultdict\n",
    "\n",
    "n = int(input())\n",
    "graph = defaultdict(list)\n",
    "\n",
    "for _ in range(n):\n",
    "    u, k, *v = map(int, input().split())\n",
    "    graph[u].extend(v)\n",
    "\n",
    "time = 0\n",
    "start = [0] * (n + 1)\n",
    "end = [0] * (n + 1)\n",
    "visited = [False] * (n + 1)\n",
    "\n",
    "def dfs(v):\n",
    "    global time\n",
    "    visited[v] = True\n",
    "    time += 1\n",
    "    start[v] = time\n",
    "\n",
    "    for next_v in graph[v]:\n",
    "        if not visited[next_v]:\n",
    "            dfs(next_v)\n",
    "\n",
    "    time += 1\n",
    "    end[v] = time\n",
    "\n",
    "for i in range(1, n + 1):\n",
    "    if not visited[i]:\n",
    "        dfs(i)\n",
    "\n",
    "for i in range(1, n + 1):\n",
    "    print(i, start[i], end[i])\n"
   ]
  },
  {
   "cell_type": "code",
   "execution_count": 2,
   "metadata": {},
   "outputs": [],
   "source": [
    "def Input():\n",
    "    w,h = map(int,input().split())\n",
    "    grid = []\n",
    "    for i in range(h):\n",
    "        tmp = list(map(int,input().split()))\n",
    "        grid.append(tmp)\n",
    "    \n",
    "    return h,w,grid\n",
    "\n",
    "h,w,grid = Input()"
   ]
  },
  {
   "cell_type": "code",
   "execution_count": 3,
   "metadata": {},
   "outputs": [
    {
     "data": {
      "text/plain": [
       "[[1, 1, 1, 0, 1], [1, 0, 1, 0, 1], [1, 0, 1, 0, 1], [1, 0, 1, 1, 1]]"
      ]
     },
     "execution_count": 3,
     "metadata": {},
     "output_type": "execute_result"
    }
   ],
   "source": [
    "grid"
   ]
  },
  {
   "cell_type": "code",
   "execution_count": 4,
   "metadata": {},
   "outputs": [
    {
     "name": "stdout",
     "output_type": "stream",
     "text": [
      "14\n"
     ]
    }
   ],
   "source": [
    "import sys\n",
    "\n",
    "sys.setrecursionlimit(20000)\n",
    "\n",
    "def read_input():\n",
    "    while True:\n",
    "        w, h = map(int, input().split())\n",
    "        if w == 0 and h == 0:\n",
    "            break\n",
    "        grid = []\n",
    "        for _ in range(h):\n",
    "            row = list(map(int, input().split()))\n",
    "            grid.append(row)\n",
    "        yield h, w, grid\n",
    "\n",
    "def solution(h, w, grid):\n",
    "    moves = [[-1, 0], [1, 0], [0, -1], [0, 1], [1, 1], [-1, -1], [1, -1], [-1, 1]]\n",
    "    visited = [[False for _ in range(w)] for _ in range(h)]\n",
    "    island = 0\n",
    "\n",
    "    def dfs(i, j):\n",
    "        visited[i][j] = True\n",
    "        for move in moves:\n",
    "            move_i, move_j = i + move[0], j + move[1]\n",
    "            if 0 <= move_i < h and 0 <= move_j < w and not visited[move_i][move_j] and grid[move_i][move_j] != 0:\n",
    "                dfs(move_i, move_j)\n",
    "\n",
    "    for i in range(h):\n",
    "        for j in range(w):\n",
    "            if not visited[i][j] and grid[i][j] != 0:\n",
    "                dfs(i, j)\n",
    "                island += 1\n",
    "\n",
    "    print(island)\n",
    "\n",
    "def main():\n",
    "    for h, w, grid in read_input():\n",
    "        solution(h, w, grid)\n",
    "\n",
    "if __name__ == \"__main__\":\n",
    "    main()\n"
   ]
  },
  {
   "cell_type": "code",
   "execution_count": 412,
   "metadata": {},
   "outputs": [
    {
     "data": {
      "text/plain": [
       "[[False, False, False, False, False],\n",
       " [False, False, False, False, False],\n",
       " [False, False, True, False, False],\n",
       " [False, False, False, False, False]]"
      ]
     },
     "execution_count": 412,
     "metadata": {},
     "output_type": "execute_result"
    }
   ],
   "source": [
    "visited = [[False for _ in range(w)] for _ in range(h)]\n",
    "visited[2][2] = True\n",
    "visited"
   ]
  },
  {
   "cell_type": "code",
   "execution_count": 419,
   "metadata": {},
   "outputs": [
    {
     "name": "stdout",
     "output_type": "stream",
     "text": [
      "0\n",
      "1\n",
      "2\n"
     ]
    },
    {
     "ename": "IndexError",
     "evalue": "list index out of range",
     "output_type": "error",
     "traceback": [
      "\u001b[0;31m---------------------------------------------------------------------------\u001b[0m",
      "\u001b[0;31mIndexError\u001b[0m                                Traceback (most recent call last)",
      "Cell \u001b[0;32mIn[419], line 5\u001b[0m\n\u001b[1;32m      3\u001b[0m \u001b[38;5;28;01mfor\u001b[39;00m i \u001b[38;5;129;01min\u001b[39;00m \u001b[38;5;28mrange\u001b[39m(\u001b[38;5;241m10\u001b[39m):\n\u001b[1;32m      4\u001b[0m     \u001b[38;5;28mprint\u001b[39m(i)\n\u001b[0;32m----> 5\u001b[0m     \u001b[43ma\u001b[49m\u001b[43m[\u001b[49m\u001b[43mi\u001b[49m\u001b[43m]\u001b[49m\n",
      "\u001b[0;31mIndexError\u001b[0m: list index out of range"
     ]
    }
   ],
   "source": [
    "a = [[1,2],[3,4]]\n",
    "\n",
    "for i in range(10):\n",
    "    print(i)\n",
    "    a[i]"
   ]
  },
  {
   "cell_type": "code",
   "execution_count": 28,
   "metadata": {},
   "outputs": [
    {
     "ename": "ValueError",
     "evalue": "not enough values to unpack (expected 2, got 0)",
     "output_type": "error",
     "traceback": [
      "\u001b[0;31m---------------------------------------------------------------------------\u001b[0m",
      "\u001b[0;31mValueError\u001b[0m                                Traceback (most recent call last)",
      "Cell \u001b[0;32mIn[28], line 2\u001b[0m\n\u001b[1;32m      1\u001b[0m \u001b[38;5;28;01mfrom\u001b[39;00m \u001b[38;5;21;01mcollections\u001b[39;00m \u001b[38;5;28;01mimport\u001b[39;00m defaultdict\n\u001b[0;32m----> 2\u001b[0m n,q \u001b[38;5;241m=\u001b[39m \u001b[38;5;28mmap\u001b[39m(\u001b[38;5;28mint\u001b[39m,\u001b[38;5;28minput\u001b[39m()\u001b[38;5;241m.\u001b[39msplit())\n\u001b[1;32m      4\u001b[0m graph \u001b[38;5;241m=\u001b[39m defaultdict(\u001b[38;5;28mlist\u001b[39m)\n\u001b[1;32m      6\u001b[0m count \u001b[38;5;241m=\u001b[39m defaultdict(\u001b[38;5;28mint\u001b[39m)\n",
      "\u001b[0;31mValueError\u001b[0m: not enough values to unpack (expected 2, got 0)"
     ]
    }
   ],
   "source": [
    "from collections import defaultdict\n",
    "import sys\n",
    "sys.setrecursionlimit(10**6)\n",
    "n,q = map(int,input().split())\n",
    "\n",
    "graph = defaultdict(list)\n",
    "\n",
    "count = defaultdict(int)\n",
    "\n",
    "for _ in range(n - 1):\n",
    "    a,b = map(int,input().split())\n",
    "    graph[a].append(b)\n",
    "    graph[b].append(a)\n",
    "\n",
    "for _ in range(q):\n",
    "    p,x = map(int,input().split())\n",
    "    count[p] += x\n",
    "\n",
    "graph,count\n",
    "\n",
    "\n",
    "def solution(graph,count):\n",
    "\n",
    "    ans = defaultdict(int)\n",
    "    visited = [False]*(n+1)\n",
    "\n",
    "    def dfs(now):\n",
    "        # print(ans)\n",
    "        visited[now] = True\n",
    "        \n",
    "        # ans[now] += count[now]\n",
    "\n",
    "        for next in graph[now]:\n",
    "            if visited[next]:\n",
    "                continue\n",
    "\n",
    "            count[next] += count[now]\n",
    "            dfs(next)\n",
    "\n",
    "    dfs(1)\n",
    "\n",
    "    # print(ans)\n",
    "    tmp = []\n",
    "    for i in range(n):\n",
    "        tmp.append(count[i+1])\n",
    "\n",
    "    print(*tmp)\n",
    "solution(graph , count)"
   ]
  },
  {
   "cell_type": "code",
   "execution_count": 27,
   "metadata": {},
   "outputs": [
    {
     "name": "stdout",
     "output_type": "stream",
     "text": [
      "defaultdict(<class 'int'>, {2: 110, 1: 100, 3: 111, 4: 110})\n"
     ]
    }
   ],
   "source": [
    "visited = [False]*(n + 1)\n",
    "\n",
    "def dfs(x):\n",
    "    visited[x] = True\n",
    "\n",
    "    for child in graph[x]:\n",
    "\n",
    "        if visited[child]: # もう言っている場合\n",
    "            continue\n",
    "        count[child] += count[x]\n",
    "        dfs(child)\n",
    "\n",
    "dfs(1)\n",
    "\n",
    "print(count)"
   ]
  },
  {
   "cell_type": "code",
   "execution_count": 29,
   "metadata": {},
   "outputs": [
    {
     "data": {
      "text/plain": [
       "[[1, 1, 0], [1, 0, 1], [1, 1, 0]]"
      ]
     },
     "execution_count": 29,
     "metadata": {},
     "output_type": "execute_result"
    }
   ],
   "source": [
    "w = int(input())\n",
    "h = int(input())\n",
    "\n",
    "grid = []\n",
    "\n",
    "for _ in range(h):\n",
    "    tmp = list(map(int,input().split()))\n",
    "    grid.append(tmp)\n",
    "\n",
    "grid\n",
    "\n",
    "moves = [[1,0],[-1,0],[0,1],[0,-1]]\n",
    "\n",
    "visited = [[False for _ in range(w)] for _ in range(h)]\n",
    "\n",
    "def dfs(i,j,num):\n",
    "    cnt = num\n",
    "    visited[i][j] = True\n",
    "\n",
    "    for move in moves:\n",
    "        next_i = i + move[0]\n",
    "        next_j = j + move[1]\n",
    "\n",
    "        if not (0 <= next_i <= h -1 and  0 <= next_j <= w - 1):continue\n",
    "        if visited[next_i][next_j] == True:continue\n",
    "        if grid[next_i][next_j] == 0: continue\n",
    "\n",
    "\n",
    "        cnt = max(cnt, dfs(next_i,next_j, num + 1))\n",
    "    \n",
    "    visited[i][j] = False\n",
    "    # すべて探索し終わったら返す\n",
    "    return cnt\n",
    "            \n",
    "ans = 0\n",
    "for i in range(h):\n",
    "    for j in range(w):\n",
    "        if grid[i][j] != 0:\n",
    "            visited = [[False]*w for _ in range(h)] # 全てのマスから探索するから、その都度リセットする\n",
    "            ans = max(ans,dfs(i,j,1))\n",
    "print(ans)"
   ]
  },
  {
   "cell_type": "code",
   "execution_count": 67,
   "metadata": {},
   "outputs": [
    {
     "name": "stdout",
     "output_type": "stream",
     "text": [
      "5\n"
     ]
    }
   ],
   "source": [
    "moves = [[1,0],[-1,0],[0,1],[0,-1]]\n",
    "\n",
    "visited = [[False for _ in range(w)] for _ in range(h)]\n",
    "\n",
    "def dfs(i,j,num):\n",
    "    cnt = num\n",
    "    visited[i][j] = True\n",
    "\n",
    "    for move in moves:\n",
    "        next_i = i + move[0]\n",
    "        next_j = j + move[1]\n",
    "\n",
    "        if not (0 <= next_i <= h -1 and  0 <= next_j <= w - 1):continue\n",
    "        if visited[next_i][next_j] == True:continue\n",
    "        if grid[next_i][next_j] == 0: continue\n",
    "\n",
    "\n",
    "        cnt = max(cnt, dfs(next_i,next_j, num + 1))\n",
    "    \n",
    "    # visited[i][j] = False\n",
    "    # すべて探索し終わったら返す\n",
    "    return cnt\n",
    "            \n",
    "ans = 0\n",
    "for i in range(h):\n",
    "    for j in range(w):\n",
    "        if grid[i][j] != 0:\n",
    "            visited = [[False]*w for _ in range(h)] # 全てのマスから探索するから、その都度リセットする\n",
    "            ans = max(ans,dfs(i,j,1))\n",
    "print(ans)"
   ]
  },
  {
   "cell_type": "markdown",
   "metadata": {},
   "source": [
    "# 行きがけのDFS"
   ]
  },
  {
   "cell_type": "code",
   "execution_count": 70,
   "metadata": {},
   "outputs": [
    {
     "data": {
      "text/plain": [
       "defaultdict(list,\n",
       "            {0: [1, 4, 11],\n",
       "             1: [2, 3],\n",
       "             4: [5, 8],\n",
       "             5: [6, 7],\n",
       "             8: [9, 10],\n",
       "             11: [12, 13],\n",
       "             13: [14]})"
      ]
     },
     "execution_count": 70,
     "metadata": {},
     "output_type": "execute_result"
    }
   ],
   "source": [
    "from collections import defaultdict\n",
    "\n",
    "graph = defaultdict(list)\n",
    "\n",
    "n , m = 15 , 14\n",
    "\n",
    "for i in range(m):\n",
    "    a,b = map(int,input().split())\n",
    "    graph[a].append(b)\n",
    "\n",
    "graph"
   ]
  },
  {
   "cell_type": "code",
   "execution_count": 92,
   "metadata": {},
   "outputs": [
    {
     "name": "stdout",
     "output_type": "stream",
     "text": [
      "今 0 にいます 0 番目に見ました\n",
      "今 1 にいます 1 番目に見ました\n",
      "今 2 にいます 2 番目に見ました\n",
      "今 3 にいます 3 番目に見ました\n",
      "今 4 にいます 4 番目に見ました\n",
      "今 5 にいます 5 番目に見ました\n",
      "今 6 にいます 6 番目に見ました\n",
      "今 7 にいます 7 番目に見ました\n",
      "今 8 にいます 8 番目に見ました\n",
      "今 9 にいます 9 番目に見ました\n",
      "今 10 にいます 10 番目に見ました\n",
      "今 11 にいます 11 番目に見ました\n",
      "今 12 にいます 12 番目に見ました\n",
      "今 13 にいます 13 番目に見ました\n",
      "今 14 にいます 14 番目に見ました\n"
     ]
    },
    {
     "data": {
      "text/plain": [
       "14"
      ]
     },
     "execution_count": 92,
     "metadata": {},
     "output_type": "execute_result"
    }
   ],
   "source": [
    "\n",
    "def dfs(now,first):\n",
    "    print(\"今\",now,\"にいます\",first,\"番目に見ました\")\n",
    "    visited[now] = True\n",
    "\n",
    "    for next in graph[now]:\n",
    "        if visited == True:\n",
    "            continue\n",
    "        first += 1\n",
    "        tmp = dfs(next,first)\n",
    "\n",
    "        first = tmp\n",
    "    return first\n",
    "\n",
    "\n",
    "visited = [False]*(m+1)\n",
    "\n",
    "start = 0\n",
    "first_seen = 0\n",
    "last_seen = 0\n",
    "\n",
    "dfs(start,first_seen)"
   ]
  },
  {
   "cell_type": "code",
   "execution_count": 121,
   "metadata": {},
   "outputs": [
    {
     "name": "stdout",
     "output_type": "stream",
     "text": [
      "今 2 にいます 0 番目に見ました\n",
      "今 3 にいます 1 番目に見ました\n",
      "今 1 にいます 2 番目に見ました\n",
      "今 6 にいます 3 番目に見ました\n",
      "今 7 にいます 4 番目に見ました\n",
      "今 5 にいます 5 番目に見ました\n",
      "今 9 にいます 6 番目に見ました\n",
      "今 10 にいます 7 番目に見ました\n",
      "今 8 にいます 8 番目に見ました\n",
      "今 4 にいます 9 番目に見ました\n",
      "今 12 にいます 10 番目に見ました\n",
      "今 14 にいます 11 番目に見ました\n",
      "今 13 にいます 12 番目に見ました\n",
      "今 11 にいます 13 番目に見ました\n",
      "今 0 にいます 14 番目に見ました\n"
     ]
    },
    {
     "data": {
      "text/plain": [
       "15"
      ]
     },
     "execution_count": 121,
     "metadata": {},
     "output_type": "execute_result"
    }
   ],
   "source": [
    "\n",
    "def dfs(now,last):\n",
    "\n",
    "    for next in graph[now]:\n",
    "        if visited == True:\n",
    "            continue\n",
    "\n",
    "        tmp = dfs(next,last)\n",
    "        last = tmp\n",
    "\n",
    "    visited[now] = True\n",
    "    print(\"今\",now,\"にいます\",last,\"番目に見ました\")\n",
    "\n",
    "    return last + 1\n",
    "\n",
    "\n",
    "visited = [False]*(m+1)\n",
    "\n",
    "start = 0\n",
    "last_seen = 0\n",
    "\n",
    "dfs(start,last_seen)"
   ]
  },
  {
   "cell_type": "code",
   "execution_count": 135,
   "metadata": {},
   "outputs": [
    {
     "ename": "TypeError",
     "evalue": "dfs() missing 1 required positional argument: 'time_l'",
     "output_type": "error",
     "traceback": [
      "\u001b[0;31m---------------------------------------------------------------------------\u001b[0m",
      "\u001b[0;31mTypeError\u001b[0m                                 Traceback (most recent call last)",
      "Cell \u001b[0;32mIn[135], line 26\u001b[0m\n\u001b[1;32m     23\u001b[0m first_ptr \u001b[38;5;241m=\u001b[39m \u001b[38;5;241m0\u001b[39m\n\u001b[1;32m     24\u001b[0m last_ptr \u001b[38;5;241m=\u001b[39m \u001b[38;5;241m0\u001b[39m\n\u001b[0;32m---> 26\u001b[0m \u001b[43mdfs\u001b[49m\u001b[43m(\u001b[49m\u001b[43mstart\u001b[49m\u001b[43m,\u001b[49m\u001b[38;5;241;43m0\u001b[39;49m\u001b[43m,\u001b[49m\u001b[38;5;241;43m0\u001b[39;49m\u001b[43m)\u001b[49m\n\u001b[1;32m     28\u001b[0m \u001b[38;5;28mprint\u001b[39m(first,last)\n",
      "Cell \u001b[0;32mIn[135], line 11\u001b[0m, in \u001b[0;36mdfs\u001b[0;34m(now, time_f, time_l)\u001b[0m\n\u001b[1;32m      8\u001b[0m     \u001b[38;5;28;01mif\u001b[39;00m visited[\u001b[38;5;28mnext\u001b[39m]:\n\u001b[1;32m      9\u001b[0m         \u001b[38;5;28;01mcontinue\u001b[39;00m\n\u001b[0;32m---> 11\u001b[0m     time_l \u001b[38;5;241m=\u001b[39m \u001b[43mdfs\u001b[49m\u001b[43m(\u001b[49m\u001b[38;5;28;43mnext\u001b[39;49m\u001b[43m,\u001b[49m\u001b[43mtime\u001b[49m\u001b[43m)\u001b[49m\n\u001b[1;32m     13\u001b[0m time_l \u001b[38;5;241m+\u001b[39m\u001b[38;5;241m=\u001b[39m \u001b[38;5;241m1\u001b[39m\n\u001b[1;32m     14\u001b[0m last[now] \u001b[38;5;241m=\u001b[39m time_l\n",
      "\u001b[0;31mTypeError\u001b[0m: dfs() missing 1 required positional argument: 'time_l'"
     ]
    }
   ],
   "source": [
    "def dfs(now,time_f,time_l):\n",
    "    time_f += 1\n",
    "    first[now] = time_f\n",
    "\n",
    "    visited[now] = True\n",
    "\n",
    "    for next in graph[now]:\n",
    "        if visited[next]:\n",
    "            continue\n",
    "\n",
    "        time_l = dfs(next,time)\n",
    "    \n",
    "    time_l += 1\n",
    "    last[now] = time_l\n",
    "    return time_l\n",
    "\n",
    "visited = [False]*(m+1)\n",
    "\n",
    "first = [0]*(n + 1)\n",
    "last = [0]*(n + 1)\n",
    "\n",
    "start = 0\n",
    "first_ptr = 0\n",
    "last_ptr = 0\n",
    "\n",
    "dfs(start,0,0)\n",
    "\n",
    "print(first,last)"
   ]
  },
  {
   "cell_type": "code",
   "execution_count": 131,
   "metadata": {},
   "outputs": [
    {
     "name": "stdout",
     "output_type": "stream",
     "text": [
      "First: [1, 2, 3, 5, 8, 9, 10, 12, 15, 16, 18, 22, 23, 25, 26]\n",
      "Last: [30, 7, 4, 6, 21, 14, 11, 13, 20, 17, 19, 29, 24, 28, 27]\n"
     ]
    }
   ],
   "source": [
    "def dfs(now):\n",
    "    global time  # 時間カウンタをグローバル変数として使用\n",
    "    time += 1\n",
    "    first[now] = time\n",
    "\n",
    "    visited[now] = True\n",
    "\n",
    "    for neighbor in graph[now]:  # 'next' から 'neighbor' に変更\n",
    "        if not visited[neighbor]:\n",
    "            dfs(neighbor)\n",
    "\n",
    "    time += 1\n",
    "    last[now] = time\n",
    "\n",
    "# グラフの頂点数 n とエッジ数 m の定義が必要です\n",
    "n, m = 14, 13  # 例: n = 頂点数, m = エッジ数\n",
    "\n",
    "visited = [False] * (n + 1)\n",
    "first = [0] * (n + 1)\n",
    "last = [0] * (n + 1)\n",
    "time = 0  # DFSで使用する時間カウンタ\n",
    "\n",
    "start = 0  # 開始頂点\n",
    "\n",
    "dfs(start)\n",
    "\n",
    "print(\"First:\", first)\n",
    "print(\"Last:\", last)\n"
   ]
  },
  {
   "cell_type": "code",
   "execution_count": 172,
   "metadata": {},
   "outputs": [
    {
     "data": {
      "text/plain": [
       "[['.', '.', '.', 's'],\n",
       " ['.', '.', '.', '.'],\n",
       " ['.', '.', '.', '.'],\n",
       " ['.', 'g', '.', '.']]"
      ]
     },
     "execution_count": 172,
     "metadata": {},
     "output_type": "execute_result"
    }
   ],
   "source": [
    "y,x = map(int,input().split())\n",
    "\n",
    "grid = []\n",
    "\n",
    "for i in range(y):\n",
    "    tmp = list(input())\n",
    "    grid.append(tmp)\n",
    "\n",
    "grid"
   ]
  },
  {
   "cell_type": "code",
   "execution_count": 173,
   "metadata": {},
   "outputs": [],
   "source": [
    "def detect_s(grid):\n",
    "    for i in range(y):\n",
    "        for j in range(x):\n",
    "            if grid[i][j] == \"s\":\n",
    "                return i,j\n",
    "            \n",
    "s_i,s_j = detect_s(grid)"
   ]
  },
  {
   "cell_type": "code",
   "execution_count": 174,
   "metadata": {},
   "outputs": [
    {
     "data": {
      "text/plain": [
       "[[False, False, False, False],\n",
       " [False, False, False, False],\n",
       " [False, False, False, False],\n",
       " [False, False, False, False]]"
      ]
     },
     "execution_count": 174,
     "metadata": {},
     "output_type": "execute_result"
    }
   ],
   "source": [
    "visited = [[False for _ in range(x)] for _ in range(y)]\n",
    "visited"
   ]
  },
  {
   "cell_type": "code",
   "execution_count": 192,
   "metadata": {},
   "outputs": [
    {
     "name": "stdout",
     "output_type": "stream",
     "text": [
      "Yes\n"
     ]
    },
    {
     "ename": "SystemExit",
     "evalue": "",
     "output_type": "error",
     "traceback": [
      "An exception has occurred, use %tb to see the full traceback.\n",
      "\u001b[0;31mSystemExit\u001b[0m\n"
     ]
    }
   ],
   "source": [
    "import sys\n",
    "moves = [[1,0],[-1,0],[0,1],[0,-1]]\n",
    "visited = [[False for _ in range(x + 1)] for _ in range(y + 1)]\n",
    "\n",
    "ans = False\n",
    "\n",
    "def dfs(i,j):\n",
    "    # print(grid[i][j])\n",
    "\n",
    "    if grid[i][j] == \"g\":\n",
    "        print(\"Yes\")\n",
    "        sys.exit()\n",
    "        return\n",
    "    \n",
    "    for di,dj in moves:\n",
    "        next_i = i + di\n",
    "        next_j = j + dj\n",
    "        if visited[next_i][next_j] == True: continue\n",
    "        if not (0 <= next_i < y and 0 <= next_j < x):continue\n",
    "        if grid[next_i][next_j] == \"#\": continue\n",
    "        \n",
    "        # 障害が無い場合は進み進んだ先を記録しておく\n",
    "        visited[next_i][next_j] = True\n",
    "        dfs(next_i,next_j)\n",
    "    visited[i][j] = False\n",
    "    # return\n",
    "\n",
    "\n",
    "\n",
    "dfs(s_i,s_j)\n",
    "\n",
    "print(\"No\")"
   ]
  },
  {
   "cell_type": "code",
   "execution_count": 171,
   "metadata": {},
   "outputs": [
    {
     "name": "stdout",
     "output_type": "stream",
     "text": [
      "No\n"
     ]
    }
   ],
   "source": [
    "import sys\n",
    "sys.setrecursionlimit(10**6)\n",
    "y,x = map(int,input().split())\n",
    "\n",
    "grid = []\n",
    "\n",
    "for i in range(y):\n",
    "    tmp = list(input())\n",
    "    grid.append(tmp)\n",
    "\n",
    "grid\n",
    "\n",
    "def detect_s(grid):\n",
    "    for i in range(y):\n",
    "        for j in range(x):\n",
    "            if grid[i][j] == \"s\":\n",
    "                return i,j\n",
    "            \n",
    "s_i,s_j = detect_s(grid)\n",
    "\n",
    "\n",
    "moves = [[1,0],[-1,0],[0,1],[0,-1]]\n",
    "visited = [[False for _ in range(x)] for _ in range(y)]\n",
    "\n",
    "ans = False\n",
    "\n",
    "def dfs(i,j):\n",
    "    # print(grid[i][j])\n",
    "\n",
    "    if grid[i][j] == \"g\":\n",
    "        return True\n",
    "    \n",
    "    visited[i][j] = True\n",
    "    \n",
    "    for di,dj in moves:\n",
    "        next_i = i + di\n",
    "        next_j = j + dj\n",
    "        if not (0 <= next_i < y and 0 <= next_j < x):continue\n",
    "        if visited[next_i][next_j] == True: continue\n",
    "        if grid[next_i][next_j] == \"#\": continue\n",
    "        \n",
    "        if dfs(next_i,next_j):\n",
    "            return True\n",
    "    # visited[i][j] = False\n",
    "\n",
    "    return False\n",
    "\n",
    "\n",
    "\n",
    "if dfs(s_i,s_j):\n",
    "    print(\"Yes\")\n",
    "else:\n",
    "    print(\"No\")"
   ]
  },
  {
   "cell_type": "code",
   "execution_count": 193,
   "metadata": {},
   "outputs": [
    {
     "data": {
      "text/plain": [
       "[['x', 'x', 'x', 'x', 'x', 'x', 'x', 'x', 'x', 'x'],\n",
       " ['x', 'o', 'o', 'o', 'o', 'o', 'o', 'o', 'x', 'x'],\n",
       " ['x', 'x', 'o', 'o', 'o', 'o', 'o', 'x', 'x', 'x'],\n",
       " ['x', 'x', 'x', 'o', 'o', 'o', 'x', 'x', 'x', 'x'],\n",
       " ['x', 'x', 'x', 'x', 'o', 'x', 'x', 'x', 'x', 'x'],\n",
       " ['x', 'x', 'x', 'x', 'x', 'x', 'x', 'x', 'x', 'x'],\n",
       " ['x', 'x', 'x', 'x', 'o', 'x', 'x', 'x', 'x', 'x'],\n",
       " ['x', 'x', 'x', 'o', 'o', 'o', 'x', 'x', 'x', 'x'],\n",
       " ['x', 'x', 'o', 'o', 'o', 'o', 'o', 'x', 'x', 'x'],\n",
       " ['x', 'x', 'x', 'x', 'x', 'x', 'x', 'x', 'x', 'x']]"
      ]
     },
     "execution_count": 193,
     "metadata": {},
     "output_type": "execute_result"
    }
   ],
   "source": [
    "grid = []\n",
    "\n",
    "for _ in range(10):\n",
    "    tmp = list(input())\n",
    "    grid.append(tmp)\n",
    "\n",
    "grid\n"
   ]
  },
  {
   "cell_type": "code",
   "execution_count": null,
   "metadata": {},
   "outputs": [],
   "source": []
  }
 ],
 "metadata": {
  "kernelspec": {
   "display_name": "Python 3",
   "language": "python",
   "name": "python3"
  },
  "language_info": {
   "codemirror_mode": {
    "name": "ipython",
    "version": 3
   },
   "file_extension": ".py",
   "mimetype": "text/x-python",
   "name": "python",
   "nbconvert_exporter": "python",
   "pygments_lexer": "ipython3",
   "version": "3.12.2"
  }
 },
 "nbformat": 4,
 "nbformat_minor": 2
}
