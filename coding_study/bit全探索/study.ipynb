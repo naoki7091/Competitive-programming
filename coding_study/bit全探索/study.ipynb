{
 "cells": [
  {
   "cell_type": "markdown",
   "metadata": {},
   "source": [
    "### bit全探索\n"
   ]
  },
  {
   "cell_type": "code",
   "execution_count": 11,
   "metadata": {},
   "outputs": [],
   "source": [
    "# ABC 128 C\n",
    "n , m = map(int,input().split())\n",
    "\n",
    "k = []\n",
    "s = []\n",
    "\n",
    "for i in range(m):\n",
    "    tmp = list(map(int,input().split()))\n",
    "    k.append(tmp[0])\n",
    "    s.append([tmp[i] - 1 for i in range(1 , len(tmp))])\n",
    "\n",
    "p = list(map(int,input().split()))\n",
    "\n",
    "ans = 0\n",
    "for bit in range(1 << n):\n",
    "    ok = True\n",
    "    for i in range(m):\n",
    "        num_sw = 0\n",
    "        for j in range(len(s[i])):\n",
    "            if (bit & (1 << s[i][j])) != 0:\n",
    "                num_sw += 1\n",
    "        if num_sw%2 != p[i]:\n",
    "            ok = False\n",
    "    if ok :\n",
    "        ans += 1\n",
    "        # print(bit)\n",
    "        \n",
    "print(ans)"
   ]
  },
  {
   "cell_type": "code",
   "execution_count": null,
   "metadata": {},
   "outputs": [],
   "source": []
  }
 ],
 "metadata": {
  "kernelspec": {
   "display_name": "Python 3",
   "language": "python",
   "name": "python3"
  },
  "language_info": {
   "codemirror_mode": {
    "name": "ipython",
    "version": 3
   },
   "file_extension": ".py",
   "mimetype": "text/x-python",
   "name": "python",
   "nbconvert_exporter": "python",
   "pygments_lexer": "ipython3",
   "version": "3.12.2"
  }
 },
 "nbformat": 4,
 "nbformat_minor": 2
}
